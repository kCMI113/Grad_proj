{
 "cells": [
  {
   "cell_type": "markdown",
   "metadata": {},
   "source": [
    "# MAKE DATA"
   ]
  },
  {
   "cell_type": "code",
   "execution_count": null,
   "metadata": {},
   "outputs": [],
   "source": [
    "import os\n",
    "import random\n",
    "import pickle\n",
    "import json\n",
    "from datetime import datetime\n",
    "import pandas as pd\n",
    "import numpy as np\n",
    "import torch\n",
    "import torch.nn as nn\n",
    "from torch.utils.data import Dataset\n",
    "from huggingface_hub import HfApi, snapshot_download\n",
    "from PIL import Image\n",
    "from tqdm.notebook import tqdm"
   ]
  },
  {
   "cell_type": "code",
   "execution_count": 3,
   "metadata": {},
   "outputs": [],
   "source": [
    "def seed_everything(seed: int = 42):\n",
    "    random.seed(seed)\n",
    "    np.random.seed(seed)\n",
    "    os.environ[\"PYTHONHASHSEED\"] = str(seed)\n",
    "    torch.manual_seed(seed)\n",
    "    torch.cuda.manual_seed(seed)  \n",
    "seed = 42\n",
    "seed_everything(42)"
   ]
  },
  {
   "cell_type": "code",
   "execution_count": 10,
   "metadata": {},
   "outputs": [],
   "source": [
    "def mk_dir(file_path):\n",
    "    if not os.path.exists(file_path):\n",
    "        os.makedirs(file_path)\n",
    "    \n",
    "def get_timestamp(date_format: str = '%d%H%M%S') -> str:\n",
    "    timestamp = datetime.now()\n",
    "    return timestamp.strftime(date_format)\n",
    "\n",
    "data_dir = \"./data/sequential/small\"\n",
    "mk_dir(data_dir)"
   ]
  },
  {
   "cell_type": "code",
   "execution_count": 4,
   "metadata": {},
   "outputs": [],
   "source": [
    "def dump_pickle(data, path):\n",
    "    with open(path, \"wb\") as file:\n",
    "        pickle.dump(data, file)\n",
    "\n",
    "def load_pickle(path):\n",
    "    with open(path, \"rb\") as file:\n",
    "        data = pickle.load(file)\n",
    "    return data\n",
    "\n",
    "def dump_json(data, path):\n",
    "    with open(path, \"w\") as file:\n",
    "        json.dump(data, file)\n",
    "\n",
    "def load_json(path):\n",
    "    with open(path, \"r\") as file:\n",
    "        data = json.load(file)\n",
    "    return data\n",
    "\n",
    "def save_pt(data, path):\n",
    "    with open(path, \"wb\") as file:\n",
    "        torch.save(data, file)"
   ]
  },
  {
   "cell_type": "markdown",
   "metadata": {},
   "source": [
    "#### 데이터 load 및 shape 확인"
   ]
  },
  {
   "cell_type": "code",
   "execution_count": 5,
   "metadata": {},
   "outputs": [],
   "source": [
    "item_data = pd.read_csv(\"./data/articles.csv\")\n",
    "interaction_data = pd.read_csv(\"./data/transactions_train.csv\")"
   ]
  },
  {
   "cell_type": "code",
   "execution_count": 6,
   "metadata": {},
   "outputs": [
    {
     "name": "stdout",
     "output_type": "stream",
     "text": [
      "날짜 및 사용자 기준으로 정렬된 것과 기존 데이터가 같은가? : True\n"
     ]
    }
   ],
   "source": [
    "is_equal = interaction_data.equals(interaction_data.sort_values(by=['t_dat','customer_id'], axis=0).reset_index(drop=True))\n",
    "print(f\"날짜 및 사용자 기준으로 정렬된 것과 기존 데이터가 같은가? : {is_equal}\") \n",
    "# 정렬 필요하지 않음"
   ]
  },
  {
   "cell_type": "code",
   "execution_count": null,
   "metadata": {},
   "outputs": [],
   "source": [
    "# 다량 구매 하나로 줄이기\n",
    "drop_idx = []\n",
    "\n",
    "for idx in tqdm(range(1,len(interaction_data))):\n",
    "    if interaction_data.iloc[idx-1].equals(interaction_data.iloc[idx]):\n",
    "        drop_idx.append(idx)\n",
    "\n",
    "interaction_data = interaction_data.drop(index=drop_idx).reset_index(drop=True)"
   ]
  },
  {
   "cell_type": "code",
   "execution_count": 8,
   "metadata": {},
   "outputs": [],
   "source": [
    "# 결측치 포함된 행 drop\n",
    "n_item_data = item_data.dropna(axis=0, how=\"any\").reset_index(drop=True)"
   ]
  },
  {
   "cell_type": "code",
   "execution_count": null,
   "metadata": {},
   "outputs": [
    {
     "name": "stdout",
     "output_type": "stream",
     "text": [
      "shape of Item data :  (105542, 25)\n",
      "shape of interaction data :  (28839228, 5)\n"
     ]
    }
   ],
   "source": [
    "print(\"shape of Item data : \",n_item_data.shape)\n",
    "print(\"shape of interaction data : \", interaction_data.shape)"
   ]
  },
  {
   "cell_type": "markdown",
   "metadata": {},
   "source": [
    "#### 이미지가 없는 아이템 찾기"
   ]
  },
  {
   "cell_type": "code",
   "execution_count": 7,
   "metadata": {},
   "outputs": [],
   "source": [
    "def img_by_id(df, article_id:int, no_list:list, echo:int=1, img_show:bool=True):\n",
    "    if article_id in no_list:\n",
    "        return\n",
    "    if echo:\n",
    "        display(df[df.article_id == article_id])\n",
    "\n",
    "    img_id = \"0\"+str(article_id)\n",
    "    img = Image.open(\"./data/images/\"+img_id[0:3]+\"/\"+img_id+\".jpg\")\n",
    "\n",
    "    if img_show:\n",
    "        img.show()\n",
    "\n",
    "def find_no_img_item(df):\n",
    "    no_img = []\n",
    "\n",
    "    for item in tqdm(df.iterrows(), total=len(df)):\n",
    "        try:\n",
    "            img_by_id(df, item[1][0], no_list=no_img, echo=0, img_show=False)\n",
    "        except FileNotFoundError:\n",
    "            no_img.append(item[0])\n",
    "\n",
    "    return no_img"
   ]
  },
  {
   "cell_type": "code",
   "execution_count": 8,
   "metadata": {},
   "outputs": [
    {
     "name": "stderr",
     "output_type": "stream",
     "text": [
      "  0%|          | 0/105542 [00:00<?, ?it/s]/var/folders/6s/k3k2dg6s3jn52m2k8lynjp9m0000gn/T/ipykernel_8433/1998916234.py:18: FutureWarning: Series.__getitem__ treating keys as positions is deprecated. In a future version, integer keys will always be treated as labels (consistent with DataFrame behavior). To access a value by position, use `ser.iloc[pos]`\n",
      "  img_by_id(df, item[1][0], no_list=no_img, echo=0, img_show=False)\n",
      "100%|██████████| 105542/105542 [00:20<00:00, 5119.30it/s]\n"
     ]
    }
   ],
   "source": [
    "no_img_idx = find_no_img_item(item_data)"
   ]
  },
  {
   "cell_type": "code",
   "execution_count": 10,
   "metadata": {},
   "outputs": [
    {
     "name": "stdout",
     "output_type": "stream",
     "text": [
      "# of non-img item :  442\n"
     ]
    }
   ],
   "source": [
    "print(\"# of non-img item : \",len(no_img_idx))"
   ]
  },
  {
   "cell_type": "code",
   "execution_count": 11,
   "metadata": {},
   "outputs": [
    {
     "name": "stdout",
     "output_type": "stream",
     "text": [
      "shape of n_item_data :  (105100, 25)\n"
     ]
    }
   ],
   "source": [
    "# 이미지가 없는 아이템 삭제\n",
    "no_img_item = {idx:item_data.iloc[idx].article_id for idx in no_img_idx}\n",
    "n_item_data = item_data.drop(no_img_idx, axis=0).reset_index(drop=True) # 이미지 없는 아이템을 삭제한 데이터\n",
    "print(\"shape of n_item_data : \", n_item_data.shape)"
   ]
  },
  {
   "cell_type": "markdown",
   "metadata": {},
   "source": [
    "#### 상품 카테고리(product_type_no)에 따른 필터링"
   ]
  },
  {
   "cell_type": "code",
   "execution_count": 9,
   "metadata": {},
   "outputs": [
    {
     "name": "stdout",
     "output_type": "stream",
     "text": [
      "shape of n_item_data :  (104999, 25)\n"
     ]
    }
   ],
   "source": [
    "# product_type에 속하는 상품이 10개 미만인 경우 삭제 131 -> 94로 줄어듦, 아이템은 약 130개 사라짐\n",
    "n_item_data = n_item_data.groupby('product_type_no').filter(lambda x: len(x) >= 10).reset_index(drop=True)\n",
    "print(\"shape of n_item_data : \", n_item_data.shape)"
   ]
  },
  {
   "cell_type": "code",
   "execution_count": 10,
   "metadata": {},
   "outputs": [
    {
     "name": "stdout",
     "output_type": "stream",
     "text": [
      "shape of n_item_data :  (104590, 25)\n",
      "# of product_type :  84\n"
     ]
    }
   ],
   "source": [
    "# product_type 중 불필요한 것 삭제 -> 84로 줄어듧, 아이템 400개 정도 사라짐\n",
    "rm_list = [\"Umbrella\", \"Bracelet\", \"Giftbox\", \"Waterbottle\", \n",
    "           \"Nipple covers\", 'Chem. cosmetics', \"Fine cosmetics\", \"Soft Toys\",\n",
    "           \"Bra extender\", \"Cushion\", \"Side table\", \"Dog Wear\", \"Keychain\",\n",
    "           \"Sewing kit\", \"Towel\", \"Mobile case\", \"Zipper head\",\n",
    "           \"Wireless earphone case\", \"Stain remover spray\",\n",
    "           \"Clothing mist\", \"Hair ties\"]\n",
    "n_item_data = n_item_data[~n_item_data['product_type_name'].isin(rm_list)].reset_index(drop=True)\n",
    "print(\"shape of n_item_data : \", n_item_data.shape)\n",
    "print(\"# of product_type : \", n_item_data.product_type_name.nunique())\n"
   ]
  },
  {
   "cell_type": "code",
   "execution_count": 11,
   "metadata": {},
   "outputs": [
    {
     "name": "stdout",
     "output_type": "stream",
     "text": [
      "shape of interaction data :  (28839228, 5)\n",
      "shape of n_interaction_data :  (28638336, 5)\n"
     ]
    }
   ],
   "source": [
    "# interacion data에서 앞선 과정에서 삭제된 데이터 제거\n",
    "n_interaction_data = interaction_data[interaction_data['article_id'].isin(n_item_data['article_id'])].reset_index(drop=True)\n",
    "print(\"shape of interaction data : \", interaction_data.shape)\n",
    "print(\"shape of n_interaction_data : \", n_interaction_data.shape)"
   ]
  },
  {
   "cell_type": "markdown",
   "metadata": {},
   "source": [
    "#### 구매이력"
   ]
  },
  {
   "cell_type": "code",
   "execution_count": 22,
   "metadata": {},
   "outputs": [],
   "source": [
    "cnt_ = n_interaction_data.groupby([\"customer_id\"]).article_id.count()"
   ]
  },
  {
   "cell_type": "code",
   "execution_count": 16,
   "metadata": {},
   "outputs": [],
   "source": [
    "pd.options.display.float_format = '{:.5f}'.format"
   ]
  },
  {
   "cell_type": "code",
   "execution_count": 17,
   "metadata": {},
   "outputs": [
    {
     "data": {
      "text/plain": [
       "count   1361131.00000\n",
       "mean         23.17947\n",
       "std          39.00726\n",
       "min           1.00000\n",
       "25%           3.00000\n",
       "50%           9.00000\n",
       "75%          27.00000\n",
       "max        1889.00000\n",
       "Name: article_id, dtype: float64"
      ]
     },
     "execution_count": 17,
     "metadata": {},
     "output_type": "execute_result"
    }
   ],
   "source": [
    "cnt_.describe()"
   ]
  },
  {
   "cell_type": "code",
   "execution_count": 22,
   "metadata": {},
   "outputs": [],
   "source": [
    "unique, counts = np.unique(cnt_, return_counts=True)"
   ]
  },
  {
   "cell_type": "code",
   "execution_count": 37,
   "metadata": {},
   "outputs": [
    {
     "data": {
      "image/png": "[encoded data removed]",
      "text/plain": [
       "<Figure size 640x480 with 1 Axes>"
      ]
     },
     "metadata": {},
     "output_type": "display_data"
    }
   ],
   "source": [
    "import matplotlib.pyplot as plt\n",
    "\n",
    "# 구매 횟수에 대한 빈도 막대 그래프\n",
    "plt.bar(unique, counts)\n",
    "# plt.xlim((0,200))\n",
    "# plt.ylim((0,500))\n",
    "plt.show()"
   ]
  },
  {
   "cell_type": "markdown",
   "metadata": {},
   "source": [
    "#### 아이템 및 유저의 상호작용 수에 따른 데이터 처리"
   ]
  },
  {
   "cell_type": "code",
   "execution_count": 12,
   "metadata": {},
   "outputs": [],
   "source": [
    "n_item_data = n_item_data[[\"article_id\",\"product_type_no\"]]"
   ]
  },
  {
   "cell_type": "code",
   "execution_count": 13,
   "metadata": {},
   "outputs": [],
   "source": [
    "# 아이템/유저 등장 빈도에 따른 데이터 구성\n",
    "# 유저: 상호작용이 threshold 이하인 경우 삭제, 아이템 : 상호작용이 20 이하인 경우 삭제 \n",
    "# 상호작용 유저/아이템 수는 반복 구매를 제외하고 unique한 값을 기준으로 함\n",
    "# 반복적으로 실행하여, 모든 유저, 아이템이 조건을 만족하도록 함\n",
    "\n",
    "def data_cutter(origin_data, threshold=20):\n",
    "    while True:\n",
    "        new_data = origin_data.groupby('customer_id').filter(lambda x: x.article_id.nunique() >= threshold).reset_index(drop=True)\n",
    "        new_data = new_data.groupby('article_id').filter(lambda x: x.customer_id.nunique() >= 20).reset_index(drop=True)\n",
    "        \n",
    "        if new_data.equals(origin_data):\n",
    "            print(\"finish\")\n",
    "            break\n",
    "        origin_data = new_data\n",
    "        print(\"cut again\")\n",
    "\n",
    "    print(\"shape of n_interaction_data : \", new_data.shape)\n",
    "    print(\"num of user : \", new_data.customer_id.nunique())\n",
    "    print(\"num of item : \", new_data.article_id.nunique())\n",
    "    print(\"data density : \", new_data.shape[0]/(new_data.customer_id.nunique()*new_data.article_id.nunique())*100, \"%\")\n",
    "    \n",
    "    return new_data"
   ]
  },
  {
   "cell_type": "code",
   "execution_count": 14,
   "metadata": {},
   "outputs": [
    {
     "name": "stdout",
     "output_type": "stream",
     "text": [
      "cut again\n",
      "cut again\n",
      "cut again\n",
      "cut again\n",
      "finish\n",
      "shape of n_interaction_data :  (15997979, 5)\n",
      "num of user :  191087\n",
      "num of item :  60234\n",
      "data density :  0.13899279094394293 %\n"
     ]
    }
   ],
   "source": [
    "# n_interaction_data_10 = data_cutter(n_interaction_data, 10)\n",
    "# n_interaction_data_20 = data_cutter(n_interaction_data, 20)\n",
    "new_interaction_data = data_cutter(n_interaction_data, 40) # 아이템: 20미만 삭제, 유저: 40미만 삭제"
   ]
  },
  {
   "cell_type": "code",
   "execution_count": 15,
   "metadata": {},
   "outputs": [],
   "source": [
    "n_item_data = n_item_data[n_item_data['article_id'].isin(new_interaction_data['article_id'])].reset_index(drop=True)"
   ]
  },
  {
   "cell_type": "code",
   "execution_count": 16,
   "metadata": {},
   "outputs": [],
   "source": [
    "# product_type마다 속하는 item 목록 생성 {product_type_no : [items]}\n",
    "items_by_prod_type = dict(list(n_item_data.groupby(\"product_type_no\")))\n",
    "for k in items_by_prod_type.keys():\n",
    "    items_by_prod_type[k] = items_by_prod_type[k].article_id.reset_index(drop=True).tolist()"
   ]
  },
  {
   "cell_type": "code",
   "execution_count": 17,
   "metadata": {},
   "outputs": [],
   "source": [
    "# prod_type에 속하는 아이템이 5개 미만인 경우 prod_type과 그에 속하는 아이템 삭제\n",
    "rm_list = [key for key, value in items_by_prod_type.items() if len(value) < 5]\n",
    "\n",
    "for k in rm_list:\n",
    "    del items_by_prod_type[k]\n",
    "    \n",
    "n_item_data = n_item_data[~n_item_data['product_type_no'].isin(rm_list)].reset_index(drop=True)"
   ]
  },
  {
   "cell_type": "code",
   "execution_count": 18,
   "metadata": {},
   "outputs": [],
   "source": [
    "new_interaction_data = new_interaction_data[new_interaction_data['article_id'].isin(n_item_data['article_id'])].reset_index(drop=True)"
   ]
  },
  {
   "cell_type": "code",
   "execution_count": 19,
   "metadata": {},
   "outputs": [
    {
     "name": "stdout",
     "output_type": "stream",
     "text": [
      "shape of n_item_data :  (60233, 2)\n",
      "shape of new_interaction_data :  (15997957, 5)\n"
     ]
    }
   ],
   "source": [
    "print(\"shape of n_item_data : \", n_item_data.shape)\n",
    "print(\"shape of new_interaction_data : \", new_interaction_data.shape)"
   ]
  },
  {
   "cell_type": "code",
   "execution_count": 20,
   "metadata": {},
   "outputs": [],
   "source": [
    "metadata = {\"shape of interaction data\" : new_interaction_data.shape,\n",
    "            \"num of user\" : new_interaction_data.customer_id.nunique(),\n",
    "            \"num of item\" : new_interaction_data.article_id.nunique(),\n",
    "            \"data density\" : f'{new_interaction_data.shape[0]/(new_interaction_data.customer_id.nunique()*new_interaction_data.article_id.nunique())*100}%'}\n",
    "dump_json(metadata, f'{data_dir}/metadata.json')"
   ]
  },
  {
   "cell_type": "code",
   "execution_count": 21,
   "metadata": {},
   "outputs": [],
   "source": [
    "# product_type마다 속하는 item 목록 생성 {product_type_no : [items]}\n",
    "items_by_prod_type = dict(list(n_item_data.groupby(\"product_type_no\")))\n",
    "for k in items_by_prod_type.keys():\n",
    "    items_by_prod_type[k] = items_by_prod_type[k].article_id.reset_index(drop=True).tolist()\n",
    "\n",
    "torch.save(items_by_prod_type, f\"{data_dir}/items_by_prod_type.pt\")"
   ]
  },
  {
   "cell_type": "markdown",
   "metadata": {},
   "source": [
    "#### 아이템 이미지 임베딩 생성 with fashion clip"
   ]
  },
  {
   "cell_type": "code",
   "execution_count": 44,
   "metadata": {},
   "outputs": [
    {
     "name": "stderr",
     "output_type": "stream",
     "text": [
      "59it [1:11:20, 72.56s/it]                         \n"
     ]
    }
   ],
   "source": [
    "from fashion_clip.fashion_clip import FashionCLIP\n",
    "fclip = FashionCLIP('fashion-clip')\n",
    "\n",
    "images = [\"./data/images/\" + \"0\" + str(k)[0:2] + \"/\" + \"0\"+str(k) + \".jpg\" for k in n_item_data[\"article_id\"].tolist()]\n",
    "image_embeddings = fclip.encode_images(images, batch_size=1024)"
   ]
  },
  {
   "cell_type": "code",
   "execution_count": 45,
   "metadata": {},
   "outputs": [],
   "source": [
    "# {article_id : emb}\n",
    "id_emb_map = {k:torch.tensor(v) for k,v in zip(n_item_data[\"article_id\"].tolist(), image_embeddings)}\n",
    "dump_pickle(id_emb_map, f'{data_dir}/id_emb_map.pkl')"
   ]
  },
  {
   "cell_type": "code",
   "execution_count": 46,
   "metadata": {},
   "outputs": [],
   "source": [
    "#이미지 임베딩을 pkl/json 파일로 저장하고 싶은 경우 실행\n",
    "dump_pickle(image_embeddings, f'{data_dir}/img_emb_small.pkl')\n",
    "# dump_json(image_embeddings, f'{data_dir}/img_emb_small.json')"
   ]
  },
  {
   "cell_type": "markdown",
   "metadata": {},
   "source": [
    "#### id mapping"
   ]
  },
  {
   "cell_type": "code",
   "execution_count": 22,
   "metadata": {},
   "outputs": [
    {
     "name": "stdout",
     "output_type": "stream",
     "text": [
      "# of user 191087\n",
      "# of item 60233\n"
     ]
    }
   ],
   "source": [
    "user2idx = {v:k for k,v in enumerate(new_interaction_data['customer_id'].unique())} # {user_id:idx}\n",
    "item2idx = {v:k for k,v in enumerate(n_item_data['article_id'].unique())}         # {item_id:idx}\n",
    "\n",
    "print(\"# of user\", len(user2idx))\n",
    "print(\"# of item\", len(item2idx))\n",
    "\n",
    "torch.save(item2idx, f'{data_dir}/item2idx.pt')"
   ]
  },
  {
   "cell_type": "code",
   "execution_count": 31,
   "metadata": {},
   "outputs": [],
   "source": [
    "new_interaction_data[\"customer_id\"] = new_interaction_data[\"customer_id\"].map(user2idx)\n",
    "new_interaction_data[\"article_id\"] = new_interaction_data[\"article_id\"].map(item2idx)\n",
    "n_item_data[\"article_id\"] = n_item_data[\"article_id\"].map(item2idx)"
   ]
  },
  {
   "cell_type": "code",
   "execution_count": 32,
   "metadata": {},
   "outputs": [],
   "source": [
    "item_with_prod_type = {k:v for k,v in zip(n_item_data.article_id, n_item_data.product_type_no)}\n",
    "torch.save(item_with_prod_type, f'{data_dir}/item_with_prod_type.pt')"
   ]
  },
  {
   "cell_type": "markdown",
   "metadata": {},
   "source": [
    "#### train/valid/test split"
   ]
  },
  {
   "cell_type": "code",
   "execution_count": 35,
   "metadata": {},
   "outputs": [],
   "source": [
    "new_interaction_data = new_interaction_data.drop([\"t_dat\", \"price\",\"sales_channel_id\"], axis=1)\n",
    "unique_data = new_interaction_data.drop_duplicates([\"article_id\", \"customer_id\"])"
   ]
  },
  {
   "cell_type": "markdown",
   "metadata": {},
   "source": [
    "random split"
   ]
  },
  {
   "cell_type": "code",
   "execution_count": null,
   "metadata": {},
   "outputs": [],
   "source": [
    "test_data = unique_data.groupby(\"customer_id\").sample(n=1, random_state=seed) # 랜덤하게 1개 추출하여 test로 사용\n",
    "unique_data = unique_data[~unique_data.index.isin(test_data.index)] # test set으로 추출된 것 제거\n",
    "valid_data = unique_data.groupby(\"customer_id\").sample(n=1, random_state=seed) # 다시 랜덤하게 1개 추출하여 valid로 사용\n",
    "\n",
    "print(f'test 및 valid가 중복없이 생성되었는가? : {pd.concat([valid_data, test_data]).drop_duplicates(keep=False).shape[0] == (valid_data.shape[0] + test_data.shape[0])}')"
   ]
  },
  {
   "cell_type": "markdown",
   "metadata": {},
   "source": [
    "split by time"
   ]
  },
  {
   "cell_type": "code",
   "execution_count": null,
   "metadata": {},
   "outputs": [],
   "source": [
    "test_data = unique_data.groupby(\"customer_id\").nth(-1) # 랜덤하게 1개 추출하여 test로 사용\n",
    "valid_data = unique_data.groupby(\"customer_id\").nth(-2) # 다시 랜덤하게 1개 추출하여 valid로 사용\n",
    "\n",
    "print(f'test 및 valid가 중복없이 생성되었는가? : {pd.concat([valid_data, test_data]).drop_duplicates(keep=False).shape[0] == (valid_data.shape[0] + test_data.shape[0])}')"
   ]
  },
  {
   "cell_type": "markdown",
   "metadata": {},
   "source": [
    "split by time (unused item case)"
   ]
  },
  {
   "cell_type": "code",
   "execution_count": null,
   "metadata": {},
   "outputs": [],
   "source": [
    "test_data = unique_data.groupby(\"customer_id\").nth(-1).reset_index() #가장 마지막 1개 추출\n",
    "user_item_dict = dict(list(new_interaction_data.groupby(\"customer_id\")))\n",
    "\n",
    "for idx, row in tqdm(test_data.iterrows(), total=len(test_data)):\n",
    "    i = -1\n",
    "    item = row.article_id\n",
    "    user = row.customer_id\n",
    "    \n",
    "    while sum(user_item_dict[user].article_id.isin([item])) > 1: #구매 이력에 1번 이상 존재하는 경우 그 앞의 것 확인\n",
    "        i -= 1\n",
    "        item = user_item_dict[user].article_id.iloc[i]\n",
    "        # print(f\"{idx, user} Again\")\n",
    "    \n",
    "    test_data.at[idx, 'article_id'] = item"
   ]
  },
  {
   "cell_type": "code",
   "execution_count": 48,
   "metadata": {},
   "outputs": [
    {
     "name": "stdout",
     "output_type": "stream",
     "text": [
      "index          2139805\n",
      "customer_id     161442\n",
      "article_id       34615\n",
      "Name: 50, dtype: int64\n",
      "index          2139805\n",
      "customer_id     161442\n",
      "article_id       27547\n",
      "Name: 50, dtype: int64\n"
     ]
    }
   ],
   "source": [
    "# 값이 변경됐는지 확인\n",
    "print(test_data.iloc[50])\n",
    "print(unique_data.groupby(\"customer_id\").nth(-1).reset_index().iloc[50])"
   ]
  },
  {
   "cell_type": "code",
   "execution_count": 49,
   "metadata": {},
   "outputs": [],
   "source": [
    "unique_data = unique_data[~unique_data.index.isin(test_data[\"index\"])] # test set으로 추출된 것 제거"
   ]
  },
  {
   "cell_type": "code",
   "execution_count": null,
   "metadata": {},
   "outputs": [],
   "source": [
    "valid_data = unique_data.groupby(\"customer_id\").nth(-1).reset_index() # 가장 마지막 1개 추출 -> test를 제외하였으므로 -2번째로 볼 수 있음\n",
    "\n",
    "for idx, row in tqdm(valid_data.iterrows(), total=len(valid_data)):\n",
    "    i = -1\n",
    "    item = row.article_id\n",
    "    user = row.customer_id\n",
    "    \n",
    "    while sum(user_item_dict[user].article_id.isin([item])) > 1: #구매 이력에 1번 이상 존재하는 경우 제외\n",
    "        i -= 1\n",
    "        item = user_item_dict[user].article_id.iloc[i]\n",
    "        # print(f\"{idx, user} Again\")\n",
    "    \n",
    "    valid_data.at[idx, 'article_id'] = item"
   ]
  },
  {
   "cell_type": "code",
   "execution_count": 53,
   "metadata": {},
   "outputs": [
    {
     "name": "stdout",
     "output_type": "stream",
     "text": [
      "index          3500727\n",
      "customer_id     176326\n",
      "article_id       11046\n",
      "Name: 199, dtype: int64\n",
      "index          3273411\n",
      "customer_id      17510\n",
      "article_id       27309\n",
      "Name: 199, dtype: int64\n"
     ]
    }
   ],
   "source": [
    "# 값이 변경됐는지 확인\n",
    "print(valid_data.iloc[199])\n",
    "print(unique_data.groupby(\"customer_id\").nth(-2).reset_index().iloc[199])"
   ]
  },
  {
   "cell_type": "code",
   "execution_count": 54,
   "metadata": {},
   "outputs": [
    {
     "name": "stdout",
     "output_type": "stream",
     "text": [
      "test 및 valid가 중복없이 생성되었는가? : True\n"
     ]
    }
   ],
   "source": [
    "print(f'test 및 valid가 중복없이 생성되었는가? : {pd.concat([valid_data, test_data]).drop_duplicates(keep=False).shape[0] == (valid_data.shape[0] + test_data.shape[0])}')"
   ]
  },
  {
   "cell_type": "markdown",
   "metadata": {},
   "source": [
    "test/valid로 선정된 것 train에서 제거"
   ]
  },
  {
   "cell_type": "code",
   "execution_count": null,
   "metadata": {},
   "outputs": [],
   "source": [
    "drop_index = pd.Index([None])\n",
    "\n",
    "for key, data in tqdm(new_interaction_data.groupby(\"customer_id\"), total=new_interaction_data.customer_id.nunique()):\n",
    "    valid_item = valid_data[valid_data.customer_id==key].article_id\n",
    "    test_item = test_data[test_data.customer_id==key].article_id\n",
    "    idxs = data[data.article_id.isin(np.concatenate((valid_item, test_item)))].index\n",
    "    if len(idxs) > 2: # 검증용\n",
    "        print(key)\n",
    "    drop_index = drop_index.append(idxs)"
   ]
  },
  {
   "cell_type": "code",
   "execution_count": 56,
   "metadata": {},
   "outputs": [
    {
     "name": "stdout",
     "output_type": "stream",
     "text": [
      "shape of test_data :  (191087, 2)\n",
      "shape of valid_data :  (191087, 2)\n",
      "shape of train_data :  (15622247, 2)\n"
     ]
    }
   ],
   "source": [
    "drop_index = drop_index.dropna() # remove None\n",
    "train_data = new_interaction_data.drop(index=drop_index) \n",
    "\n",
    "test_data = test_data.reset_index(drop=True).drop(columns=\"index\")\n",
    "valid_data = valid_data.reset_index(drop=True).drop(columns=\"index\")\n",
    "train_data = train_data.reset_index(drop=True)\n",
    "\n",
    "valid_data = valid_data.sort_values(by=\"customer_id\").reset_index(drop=True)\n",
    "test_data = test_data.sort_values(by=\"customer_id\").reset_index(drop=True)\n",
    "\n",
    "print(\"shape of test_data : \", test_data.shape)\n",
    "print(\"shape of valid_data : \", valid_data.shape)\n",
    "print(\"shape of train_data : \", train_data.shape)"
   ]
  },
  {
   "cell_type": "markdown",
   "metadata": {},
   "source": [
    "#### data 확인"
   ]
  },
  {
   "cell_type": "code",
   "execution_count": 57,
   "metadata": {},
   "outputs": [
    {
     "data": {
      "text/html": [
       "<div>\n",
       "<style scoped>\n",
       "    .dataframe tbody tr th:only-of-type {\n",
       "        vertical-align: middle;\n",
       "    }\n",
       "\n",
       "    .dataframe tbody tr th {\n",
       "        vertical-align: top;\n",
       "    }\n",
       "\n",
       "    .dataframe thead th {\n",
       "        text-align: right;\n",
       "    }\n",
       "</style>\n",
       "<table border=\"1\" class=\"dataframe\">\n",
       "  <thead>\n",
       "    <tr style=\"text-align: right;\">\n",
       "      <th></th>\n",
       "      <th>customer_id</th>\n",
       "      <th>article_id</th>\n",
       "    </tr>\n",
       "  </thead>\n",
       "  <tbody>\n",
       "    <tr>\n",
       "      <th>0</th>\n",
       "      <td>0</td>\n",
       "      <td>3060</td>\n",
       "    </tr>\n",
       "    <tr>\n",
       "      <th>1</th>\n",
       "      <td>0</td>\n",
       "      <td>22709</td>\n",
       "    </tr>\n",
       "    <tr>\n",
       "      <th>2</th>\n",
       "      <td>0</td>\n",
       "      <td>22710</td>\n",
       "    </tr>\n",
       "    <tr>\n",
       "      <th>3</th>\n",
       "      <td>0</td>\n",
       "      <td>22707</td>\n",
       "    </tr>\n",
       "    <tr>\n",
       "      <th>4</th>\n",
       "      <td>0</td>\n",
       "      <td>3059</td>\n",
       "    </tr>\n",
       "  </tbody>\n",
       "</table>\n",
       "</div>"
      ],
      "text/plain": [
       "   customer_id  article_id\n",
       "0            0        3060\n",
       "1            0       22709\n",
       "2            0       22710\n",
       "3            0       22707\n",
       "4            0        3059"
      ]
     },
     "execution_count": 57,
     "metadata": {},
     "output_type": "execute_result"
    }
   ],
   "source": [
    "train_data.head()"
   ]
  },
  {
   "cell_type": "code",
   "execution_count": 58,
   "metadata": {},
   "outputs": [
    {
     "data": {
      "text/html": [
       "<div>\n",
       "<style scoped>\n",
       "    .dataframe tbody tr th:only-of-type {\n",
       "        vertical-align: middle;\n",
       "    }\n",
       "\n",
       "    .dataframe tbody tr th {\n",
       "        vertical-align: top;\n",
       "    }\n",
       "\n",
       "    .dataframe thead th {\n",
       "        text-align: right;\n",
       "    }\n",
       "</style>\n",
       "<table border=\"1\" class=\"dataframe\">\n",
       "  <thead>\n",
       "    <tr style=\"text-align: right;\">\n",
       "      <th></th>\n",
       "      <th>customer_id</th>\n",
       "      <th>article_id</th>\n",
       "    </tr>\n",
       "  </thead>\n",
       "  <tbody>\n",
       "    <tr>\n",
       "      <th>0</th>\n",
       "      <td>0</td>\n",
       "      <td>516</td>\n",
       "    </tr>\n",
       "    <tr>\n",
       "      <th>1</th>\n",
       "      <td>1</td>\n",
       "      <td>41580</td>\n",
       "    </tr>\n",
       "    <tr>\n",
       "      <th>2</th>\n",
       "      <td>2</td>\n",
       "      <td>50506</td>\n",
       "    </tr>\n",
       "    <tr>\n",
       "      <th>3</th>\n",
       "      <td>3</td>\n",
       "      <td>59749</td>\n",
       "    </tr>\n",
       "    <tr>\n",
       "      <th>4</th>\n",
       "      <td>4</td>\n",
       "      <td>58272</td>\n",
       "    </tr>\n",
       "  </tbody>\n",
       "</table>\n",
       "</div>"
      ],
      "text/plain": [
       "   customer_id  article_id\n",
       "0            0         516\n",
       "1            1       41580\n",
       "2            2       50506\n",
       "3            3       59749\n",
       "4            4       58272"
      ]
     },
     "execution_count": 58,
     "metadata": {},
     "output_type": "execute_result"
    }
   ],
   "source": [
    "valid_data.head()"
   ]
  },
  {
   "cell_type": "code",
   "execution_count": 59,
   "metadata": {},
   "outputs": [
    {
     "data": {
      "text/html": [
       "<div>\n",
       "<style scoped>\n",
       "    .dataframe tbody tr th:only-of-type {\n",
       "        vertical-align: middle;\n",
       "    }\n",
       "\n",
       "    .dataframe tbody tr th {\n",
       "        vertical-align: top;\n",
       "    }\n",
       "\n",
       "    .dataframe thead th {\n",
       "        text-align: right;\n",
       "    }\n",
       "</style>\n",
       "<table border=\"1\" class=\"dataframe\">\n",
       "  <thead>\n",
       "    <tr style=\"text-align: right;\">\n",
       "      <th></th>\n",
       "      <th>customer_id</th>\n",
       "      <th>article_id</th>\n",
       "    </tr>\n",
       "  </thead>\n",
       "  <tbody>\n",
       "    <tr>\n",
       "      <th>0</th>\n",
       "      <td>0</td>\n",
       "      <td>5440</td>\n",
       "    </tr>\n",
       "    <tr>\n",
       "      <th>1</th>\n",
       "      <td>1</td>\n",
       "      <td>55048</td>\n",
       "    </tr>\n",
       "    <tr>\n",
       "      <th>2</th>\n",
       "      <td>2</td>\n",
       "      <td>50506</td>\n",
       "    </tr>\n",
       "    <tr>\n",
       "      <th>3</th>\n",
       "      <td>3</td>\n",
       "      <td>59752</td>\n",
       "    </tr>\n",
       "    <tr>\n",
       "      <th>4</th>\n",
       "      <td>4</td>\n",
       "      <td>43049</td>\n",
       "    </tr>\n",
       "  </tbody>\n",
       "</table>\n",
       "</div>"
      ],
      "text/plain": [
       "   customer_id  article_id\n",
       "0            0        5440\n",
       "1            1       55048\n",
       "2            2       50506\n",
       "3            3       59752\n",
       "4            4       43049"
      ]
     },
     "execution_count": 59,
     "metadata": {},
     "output_type": "execute_result"
    }
   ],
   "source": [
    "test_data.head()"
   ]
  },
  {
   "cell_type": "markdown",
   "metadata": {},
   "source": [
    "#### Neg smapling"
   ]
  },
  {
   "cell_type": "code",
   "execution_count": 58,
   "metadata": {},
   "outputs": [],
   "source": [
    "# item 등장 빈도에 대한 목록 생성 {article_id : cnt}, trian_data에 있는 것만 반영\n",
    "# item_occur_cnt = train_data.groupby(\"article_id\").count().reset_index()\n",
    "# item_occur_cnt.rename(columns={\"customer_id\":\"cnt\"}, inplace=True)"
   ]
  },
  {
   "cell_type": "code",
   "execution_count": 59,
   "metadata": {},
   "outputs": [],
   "source": [
    "# # product_type마다 속하는 item 목록 생성 {product_type_no : [[items], [cnts]]}\n",
    "# items_by_prod_type_cnt = dict(list(n_item_data.groupby(\"product_type_no\")))\n",
    "# for k in items_by_prod_type_cnt.keys():\n",
    "#     items_by_prod_type_cnt[k].rename(columns={\"product_type_no\":\"cnt\"}, inplace=True)\n",
    "#     items_by_prod_type_cnt[k] = items_by_prod_type_cnt[k].reset_index(drop=True)\n",
    "#     items_by_prod_type_cnt[k].cnt = 0\n",
    "\n",
    "#     for idx, row in items_by_prod_type_cnt[k].iterrows():\n",
    "#         if row.article_id in item_occur_cnt.article_id.values:\n",
    "#             items_by_prod_type_cnt[k].at[idx, 'cnt'] = item_occur_cnt.loc[item_occur_cnt['article_id'] == row.article_id, 'cnt'].values[0]\n",
    "\n",
    "# dump_pickle(items_by_prod_type_cnt, \"items_by_prod_type_cnt.pkl\")"
   ]
  },
  {
   "cell_type": "code",
   "execution_count": 37,
   "metadata": {},
   "outputs": [],
   "source": [
    "# product_type마다 속하는 item 목록 생성 {product_type_no : [items]}\n",
    "items_by_prod_type = dict(list(n_item_data.groupby(\"product_type_no\")))\n",
    "for k in items_by_prod_type.keys():\n",
    "    items_by_prod_type[k] = items_by_prod_type[k].article_id.reset_index(drop=True).tolist()\n",
    "\n",
    "torch.save(items_by_prod_type, f'{data_dir}/items_by_prod_type.pt')"
   ]
  },
  {
   "cell_type": "code",
   "execution_count": 60,
   "metadata": {},
   "outputs": [],
   "source": [
    "# user의 pos item 목록 생성 {user_id : [items]}\n",
    "bert_train_data = dict(list(train_data.groupby(\"customer_id\")))\n",
    "for k in bert_train_data.keys():\n",
    "    bert_train_data[k] = bert_train_data[k].article_id.reset_index(drop=True).tolist()\n",
    "\n",
    "torch.save(bert_train_data, f'{data_dir}/bert_train_data.pt')"
   ]
  },
  {
   "cell_type": "code",
   "execution_count": 39,
   "metadata": {},
   "outputs": [],
   "source": [
    "def make_triples_data(df, item_df, items_by_prod_type, pos_items_each_user):\n",
    "    def neg_sampling(pos_list, prod_type_no):\n",
    "        neg = random.choice(items_by_prod_type[prod_type_no]) \n",
    "        while neg in pos_list:\n",
    "            neg = random.choice(items_by_prod_type[prod_type_no]) \n",
    "        return neg\n",
    "    \n",
    "    for user_id, rows in tqdm(df.groupby(\"customer_id\")):\n",
    "            pos_list = pos_items_each_user[user_id]\n",
    "            for idx, row in rows.iterrows():\n",
    "                item_id = row.article_id\n",
    "                prod_type_no = item_df[item_df[\"article_id\"] == item_id].product_type_no.item()\n",
    "                df.at[idx, 'neg'] = neg_sampling(pos_list, prod_type_no)\n",
    "    return df\n",
    "    "
   ]
  },
  {
   "cell_type": "code",
   "execution_count": 48,
   "metadata": {},
   "outputs": [
    {
     "name": "stderr",
     "output_type": "stream",
     "text": [
      "100%|██████████| 190977/190977 [00:21<00:00, 8843.85it/s]\n"
     ]
    }
   ],
   "source": [
    "neg_sampled_train_df = make_triples_data(train_data, n_item_data, items_by_prod_type, pos_items_each_user)\n",
    "neg_sampled_train_df.neg = neg_sampled_train_df.neg.apply(lambda x : int(x))\n",
    "neg_sampled_train_df.to_csv(f'{data_dir}/neg_sampled_train_df.csv')\n",
    "\n",
    "neg_sampled_valid_df = make_triples_data(valid_data, n_item_data, items_by_prod_type, pos_items_each_user)\n",
    "neg_sampled_valid_df.neg = neg_sampled_valid_df.neg.apply(lambda x : int(x))\n",
    "neg_sampled_valid_df.to_csv(f'{data_dir}/neg_sampled_valid_df.csv')\n"
   ]
  },
  {
   "cell_type": "markdown",
   "metadata": {},
   "source": [
    "### DATASET"
   ]
  },
  {
   "cell_type": "markdown",
   "metadata": {},
   "source": [
    "#### General"
   ]
  },
  {
   "cell_type": "code",
   "execution_count": 61,
   "metadata": {},
   "outputs": [],
   "source": [
    "class HMDataset(Dataset):\n",
    "    def __init__(self, df, mode:str) -> None:\n",
    "        super().__init__()\n",
    "        self.df = df\n",
    "        self.mode = mode\n",
    "    \n",
    "    def __getitem__(self, index):\n",
    "        user = self.df.iloc[index]['customer_id']\n",
    "        pos = self.df.iloc[index]['article_id']\n",
    "        if self.mode in [\"valid\", \"train\"]:\n",
    "            neg = self.df.iloc[index]['neg']\n",
    "            return user, pos, neg\n",
    "        return user, pos\n",
    "    \n",
    "    def __len__(self):\n",
    "        return len(self.df)"
   ]
  },
  {
   "cell_type": "markdown",
   "metadata": {},
   "source": [
    "#### sasrec"
   ]
  },
  {
   "cell_type": "code",
   "execution_count": 74,
   "metadata": {},
   "outputs": [],
   "source": [
    "class HMSeqDataset(Dataset):\n",
    "    def __init__(self, train_df, valid_df, test_df, mode:str, max_len:int=30) -> None:\n",
    "        super().__init__()\n",
    "        self.train_df = train_df\n",
    "        self.valid_df = valid_df\n",
    "        self.test_df = test_df\n",
    "        self.mode = mode\n",
    "        self.max_len = max_len\n",
    "        self.seq = {}\n",
    "        self.pos = {}\n",
    "        self.neg = {}\n",
    "        \n",
    "        self.__prepareData()\n",
    "        \n",
    "    def __makeSeq(self, train_pos, train_neg):\n",
    "        train_pos = train_pos + 1 # cos padding(zero)\n",
    "        train_neg = train_neg + 1\n",
    "                \n",
    "        seq_len = len(train_pos) \n",
    "        if seq_len > self.max_len:\n",
    "            seq = train_pos[-(self.max_len+1):-1]\n",
    "            pos = train_pos[-self.max_len:]\n",
    "            neg = train_neg[-self.max_len:]\n",
    "        else:\n",
    "            seq = np.zeros([self.max_len], dtype=np.int32)\n",
    "            pos = np.zeros([self.max_len], dtype=np.int32)\n",
    "            neg = np.zeros([self.max_len], dtype=np.int32)\n",
    "            seq[self.max_len-seq_len+1:] = train_pos[:-1]\n",
    "            pos[self.max_len-seq_len+1:] = train_pos[1:]\n",
    "            neg[self.max_len-seq_len+1:] = train_neg[1:]\n",
    "        \n",
    "        return (seq, pos, neg)\n",
    "    \n",
    "    def __prepareData(self):\n",
    "        for user_id, rows in tqdm(self.train_df.groupby(\"customer_id\")):\n",
    "            if self.mode == \"train\":\n",
    "                seq, pos, neg = self.__makeSeq(rows.article_id, rows.neg)\n",
    "            if self.mode == \"valid\":\n",
    "                valid = self.valid_df[self.valid_df.customer_id==user_id]\n",
    "                train_pos = np.append(rows.article_id, valid.article_id)\n",
    "                train_neg = np.append(rows.neg, valid.neg)\n",
    "                seq, pos, neg = self.__makeSeq(train_pos, train_neg)\n",
    "            if self.mode == \"test\":\n",
    "                valid = self.valid_df[self.valid_df.customer_id==user_id]\n",
    "                test = self.test_df[self.test_df.customer_id==user_id]\n",
    "                train_pos = np.append(rows.article_id,[valid.article_id, test.article_id])\n",
    "                seq, pos, neg = self.__makeSeq(train_pos, train_pos) # use seq only\n",
    "                \n",
    "            self.seq[user_id] = seq\n",
    "            self.pos[user_id] = pos\n",
    "            self.neg[user_id] = neg\n",
    "    \n",
    "    def __getitem__(self, index):\n",
    "        seq = self.seq[index]\n",
    "        pos = self.pos[index]\n",
    "        neg = self.neg[index]\n",
    "        return seq, pos, neg\n",
    "    \n",
    "    def __len__(self):\n",
    "        return len(self.seq)"
   ]
  },
  {
   "cell_type": "markdown",
   "metadata": {},
   "source": [
    "#### make sequence data \n"
   ]
  },
  {
   "cell_type": "code",
   "execution_count": null,
   "metadata": {},
   "outputs": [],
   "source": [
    "# make sequence\n",
    "data_by_user = dict(list(train_data.groupby(\"customer_id\")))\n",
    "bert_train_data = {}\n",
    "bert_valid_data = {}\n",
    "bert_test_data = {}\n",
    "\n",
    "for k in tqdm(data_by_user.keys()):\n",
    "    bert_train_data[k] = data_by_user[k].article_id.reset_index(drop=True).tolist()\n",
    "    bert_valid_data[k] = bert_train_data[k] + [valid_data.iloc[k].article_id]\n",
    "    bert_test_data[k] = bert_valid_data[k] + [test_data.iloc[k].article_id]"
   ]
  },
  {
   "cell_type": "code",
   "execution_count": 63,
   "metadata": {},
   "outputs": [],
   "source": [
    "torch.save(bert_train_data, f'{data_dir}/seq_train_data.pt')\n",
    "torch.save(bert_valid_data, f'{data_dir}/bert_valid_data.pt')\n",
    "torch.save(bert_test_data, f'{data_dir}/bert_test_data.pt')"
   ]
  },
  {
   "cell_type": "markdown",
   "metadata": {},
   "source": [
    "#### candidate item samplig"
   ]
  },
  {
   "cell_type": "code",
   "execution_count": 85,
   "metadata": {},
   "outputs": [],
   "source": [
    "all_items = np.arange(len(item2idx))\n",
    "sample_size = 1000\n",
    "candidate_items_each_user = {}"
   ]
  },
  {
   "cell_type": "code",
   "execution_count": 91,
   "metadata": {},
   "outputs": [
    {
     "name": "stderr",
     "output_type": "stream",
     "text": [
      "100%|██████████| 190977/190977 [02:01<00:00, 1578.31it/s]\n"
     ]
    }
   ],
   "source": [
    "# HMseqDataset\n",
    "for idx, row in tqdm(test_data.iterrows(), total=len(test_data)):\n",
    "    user, item = row\n",
    "    candidate_items = torch.tensor(np.append(np.random.choice(np.setdiff1d(all_items, pos_items_each_user[user]), sample_size), item))\n",
    "    candidate_items_each_user[user] = candidate_items + 1\n",
    "\n",
    "dump_pickle(candidate_items_each_user, f'{data_dir}/seq_candidate_items_each_user_small.pkl')\n",
    "# dump_json(candidate_items_each_user, f'{data_dir}/candidate_items_each_user_small.json')"
   ]
  },
  {
   "cell_type": "code",
   "execution_count": 93,
   "metadata": {},
   "outputs": [
    {
     "name": "stderr",
     "output_type": "stream",
     "text": [
      "100%|██████████| 190977/190977 [02:04<00:00, 1533.85it/s]\n"
     ]
    }
   ],
   "source": [
    "# HMDataset\n",
    "for user, target in tqdm(test_dataset):\n",
    "    candidate_items = torch.tensor(np.append(np.random.choice(np.setdiff1d(all_items, pos_items_each_user[user]), sample_size), target))\n",
    "    candidate_items_each_user[user] = candidate_items\n",
    "\n",
    "dump_pickle(candidate_items_each_user, f'{data_dir}/candidate_items_each_user_small.pkl')\n",
    "# dump_json(candidate_items_each_user, f'{data_dir}/candidate_items_each_user_small.json')"
   ]
  },
  {
   "cell_type": "markdown",
   "metadata": {},
   "source": [
    "#### gen_img_emb"
   ]
  },
  {
   "cell_type": "code",
   "execution_count": null,
   "metadata": {},
   "outputs": [],
   "source": [
    "data_repo = \"sequential\"\n",
    "dataset = \"small\"\n",
    "data_version = \"1cfab1b354da9685652be383f9a641248904b4a7\"\n",
    "\n",
    "path = (\n",
    "            snapshot_download(\n",
    "                repo_id=f\"SLKpnu/{data_repo}\",\n",
    "                repo_type=\"dataset\",\n",
    "                cache_dir=\"./data\",\n",
    "                revision=data_version,\n",
    "            )\n",
    "            + \"/\"\n",
    "            + dataset\n",
    "        )"
   ]
  },
  {
   "cell_type": "code",
   "execution_count": 13,
   "metadata": {},
   "outputs": [],
   "source": [
    "item2idx = torch.load(f\"{path}/item2idx.pt\")"
   ]
  },
  {
   "cell_type": "code",
   "execution_count": 18,
   "metadata": {},
   "outputs": [],
   "source": [
    "emb_path = \"../../../image_gen/Grad_proj/dataset_fashion/embeddings/\"\n",
    "\n",
    "gen_img_emb_sep = torch.stack([torch.from_numpy(torch.load(emb_path+str(id)+\".pth\")) for id in item2idx.keys()], 0)  # n_item * 3 * 512"
   ]
  },
  {
   "cell_type": "code",
   "execution_count": 20,
   "metadata": {},
   "outputs": [],
   "source": [
    "torch.save(gen_img_emb_sep, f\"{data_dir}/gen_img_emb.pt\")"
   ]
  },
  {
   "cell_type": "markdown",
   "metadata": {},
   "source": [
    "# upload data to Huggingface Hub"
   ]
  },
  {
   "cell_type": "code",
   "execution_count": null,
   "metadata": {},
   "outputs": [],
   "source": [
    "!huggingface-cli login --token \"your write token\""
   ]
  },
  {
   "cell_type": "code",
   "execution_count": 23,
   "metadata": {},
   "outputs": [
    {
     "name": "stderr",
     "output_type": "stream",
     "text": [
      "gen_img_emb.pt: 100%|██████████| 370M/370M [00:20<00:00, 17.6MB/s] \n"
     ]
    },
    {
     "data": {
      "text/plain": [
       "CommitInfo(commit_url='https://huggingface.co/datasets/SLKpnu/sequential/commit/493b547ccef51c42851b1fb42bf6931d11c8dcf7', commit_message='dataset created timestamp : 15041639', commit_description='', oid='493b547ccef51c42851b1fb42bf6931d11c8dcf7', pr_url=None, pr_revision=None, pr_num=None)"
      ]
     },
     "execution_count": 23,
     "metadata": {},
     "output_type": "execute_result"
    }
   ],
   "source": [
    "# Upload to Huggingface Hub\n",
    "_, _, repo, dir = data_dir.split(\"/\")\n",
    "api = HfApi()\n",
    "api.upload_folder(folder_path=data_dir, path_in_repo=dir, repo_id=f\"SLKpnu/{repo}\", \n",
    "                  commit_message=f\"dataset created timestamp : {get_timestamp()}\", repo_type=\"dataset\")\n"
   ]
  },
  {
   "cell_type": "markdown",
   "metadata": {},
   "source": [
    "# 실행 시간 비교"
   ]
  },
  {
   "cell_type": "code",
   "execution_count": null,
   "metadata": {},
   "outputs": [
    {
     "name": "stdout",
     "output_type": "stream",
     "text": [
      "np.random.randint 실행 시간: 6.5607867789804 초\n",
      "random.sample 실행 시간: 0.37414733300101943 초\n",
      "random.choice 실행 시간: 0.17139070699340664 초\n",
      "np.random.choice 실행 시간: 13.791083243995672 초\n"
     ]
    }
   ],
   "source": [
    "import timeit\n",
    "import numpy as np\n",
    "import random\n",
    "\n",
    "def function_1(pos_list, n_item):\n",
    "    neg = np.random.randint(0, n_item, 1) \n",
    "    while neg in pos_list:\n",
    "        neg = np.random.randint(0, n_item, 1) \n",
    "    return neg\n",
    "\n",
    "def function_2(pos_list, n_item):\n",
    "    neg = random.sample(range(0,n_item), 1) \n",
    "    while neg in pos_list:\n",
    "        neg = random.sample(range(0,n_item), 1) \n",
    "    return neg\n",
    "\n",
    "def function_3(pos_list, n_item):\n",
    "    neg = random.choice(range(0,n_item)) \n",
    "    while neg in pos_list:\n",
    "        neg = random.choice(range(0,n_item)) \n",
    "    return neg\n",
    "\n",
    "def function_4(pos_list, n_item):\n",
    "    neg = np.random.choice(np.arange(n_item), 1)\n",
    "    while neg in pos_list:\n",
    "        neg =  np.random.choice(np.arange(n_item), 1)\n",
    "    return neg\n",
    "\n",
    "n_item = len(item2idx)\n",
    "pos = random.sample(range(1,n_item), 40)\n",
    "n = 115500\n",
    "\n",
    "time_1 = timeit.timeit('function_1(pos, n_item)', globals=globals(), number=n)\n",
    "time_2 = timeit.timeit('function_2(pos, n_item)', globals=globals(), number=n)\n",
    "time_3 = timeit.timeit('function_3(pos, n_item)', globals=globals(), number=n)\n",
    "time_4 = timeit.timeit('function_4(pos, n_item)', globals=globals(), number=n)\n",
    "\n",
    "print(f'np.random.randint 실행 시간: {time_1} 초')\n",
    "print(f'random.sample 실행 시간: {time_2} 초')\n",
    "print(f'random.choice 실행 시간: {time_3} 초')\n",
    "print(f'np.random.choice 실행 시간: {time_4} 초')\n",
    "\n"
   ]
  },
  {
   "cell_type": "code",
   "execution_count": null,
   "metadata": {},
   "outputs": [],
   "source": [
    "def function_1(pos_list, n_item):\n",
    "    neg = random.choice(range(0,n_item)) \n",
    "    while neg in pos_list:\n",
    "        neg = random.choice(range(0,n_item)) \n",
    "    return neg\n",
    "\n",
    "def function_2(pos_list, n_item):\n",
    "    pos_list = {k:1 for k in pos_list}\n",
    "    neg = random.choice(range(0,n_item)) \n",
    "    while neg in pos_list:\n",
    "        neg = random.choice(range(0,n_item)) \n",
    "    return neg\n",
    "\n",
    "n_item = len(item2idx)\n",
    "pos = random.sample(range(1,n_item), 40)\n",
    "n = 315500\n",
    "\n",
    "time_1 = timeit.timeit('function_1(pos, n_item)', globals=globals(), number=n)\n",
    "time_2 = timeit.timeit('function_2(pos, n_item)', globals=globals(), number=n)\n",
    "\n",
    "print(f'list 실행 시간: {time_1} 초')\n",
    "print(f'dict 실행 시간: {time_2} 초')\n"
   ]
  },
  {
   "cell_type": "code",
   "execution_count": null,
   "metadata": {},
   "outputs": [
    {
     "name": "stdout",
     "output_type": "stream",
     "text": [
      "list(set) 실행 시간: 508.1635248339999 초\n",
      "np.setdiff1d 실행 시간: 69.18620454200027 초\n",
      "set 실행 시간: 5.8264562089998435 초\n",
      "np.arange 실행 시간: 0.028278708000470942 초\n"
     ]
    }
   ],
   "source": [
    "import numpy as np\n",
    "import timeit\n",
    "import random\n",
    "import torch\n",
    "\n",
    "def function_1(pos_list, all_item):\n",
    "    candicate_items = torch.tensor(list(all_item - set(pos_list)))\n",
    "\n",
    "def function_2(pos_list, all_item):\n",
    "    candicate_items = torch.tensor(np.setdiff1d(all_item, pos_list))\n",
    "   \n",
    "def function_3():\n",
    "    items_set = set(range(1,104573))\n",
    "    \n",
    "def function_4():\n",
    "    items_np = np.arange(104573, dtype=np.int32)\n",
    "    \n",
    "\n",
    "items_set = set(range(1,104573))\n",
    "items_np = np.arange(104573, dtype=np.int32)\n",
    "pos = random.sample(range(1,104573), 40)\n",
    "n1 = 74570\n",
    "n2 = 4000\n",
    "\n",
    "time_1 = timeit.timeit('function_1(pos, items_set)', globals=globals(), number=n1)\n",
    "print(f'list(set) 실행 시간: {time_1} 초')\n",
    "\n",
    "time_2 = timeit.timeit('function_2(pos, items_np)', globals=globals(), number=n1)\n",
    "print(f'np.setdiff1d 실행 시간: {time_2} 초')\n",
    "\n",
    "time_3 = timeit.timeit('function_3()', globals=globals(), number=n2)\n",
    "print(f'set 실행 시간: {time_3} 초')\n",
    "\n",
    "time_4 = timeit.timeit('function_4()', globals=globals(), number=n2)\n",
    "print(f'np.arange 실행 시간: {time_4} 초')\n"
   ]
  },
  {
   "cell_type": "code",
   "execution_count": null,
   "metadata": {},
   "outputs": [
    {
     "name": "stdout",
     "output_type": "stream",
     "text": [
      "np.random.choice 실행 시간: 41.994027569977334 초\n",
      "random.sample + list 실행 시간: 174.8324626859976 초\n"
     ]
    }
   ],
   "source": [
    "import numpy as np\n",
    "import timeit\n",
    "import random\n",
    "import torch\n",
    "\n",
    "def function_1(pos_list, all_item):\n",
    "    candicate_items = torch.tensor(np.random.choice(np.setdiff1d(all_item, pos_list), 100))\n",
    "\n",
    "\n",
    "def function_2(pos_list, all_item):\n",
    "    candicate_items = torch.tensor(random.sample(list(np.setdiff1d(all_item, pos_list)), 100))\n",
    "    \n",
    "\n",
    "# items_set = set(range(1,104573))\n",
    "items_np = np.arange(104573, dtype=np.int32)\n",
    "pos = random.sample(range(1,104573), 40)\n",
    "n1 = 24570\n",
    "\n",
    "time_1 = timeit.timeit('function_1(pos, items_np)', globals=globals(), number=n1)\n",
    "print(f'np.random.choice 실행 시간: {time_1} 초')\n",
    "\n",
    "time_2 = timeit.timeit('function_2(pos, items_np)', globals=globals(), number=n1)\n",
    "print(f'random.sample + list 실행 시간: {time_2} 초')\n"
   ]
  }
 ],
 "metadata": {
  "kernelspec": {
   "display_name": "vbpr",
   "language": "python",
   "name": "python3"
  },
  "language_info": {
   "codemirror_mode": {
    "name": "ipython",
    "version": 3
   },
   "file_extension": ".py",
   "mimetype": "text/x-python",
   "name": "python",
   "nbconvert_exporter": "python",
   "pygments_lexer": "ipython3",
   "version": "3.11.0"
  }
 },
 "nbformat": 4,
 "nbformat_minor": 2
}
