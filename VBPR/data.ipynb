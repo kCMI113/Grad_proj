{
 "cells": [
  {
   "cell_type": "code",
   "execution_count": 3,
   "metadata": {},
   "outputs": [],
   "source": [
    "import os\n",
    "import \n",
    "import pickle\n",
    "import pandas as pd\n",
    "import numpy as np\n",
    "import torch\n",
    "import torch.nn as nn\n",
    "from torch.utils.data import Dataset\n",
    "from PIL import Image\n",
    "from tqdm import tqdm \n"
   ]
  },
  {
   "cell_type": "code",
   "execution_count": 4,
   "metadata": {},
   "outputs": [],
   "source": [
    "def seed_everything(seed: int = 42):\n",
    "    random.seed(seed)\n",
    "    np.random.seed(seed)\n",
    "    os.environ[\"PYTHONHASHSEED\"] = str(seed)\n",
    "    torch.manual_seed(seed)\n",
    "    torch.cuda.manual_seed(seed)  \n",
    "    \n",
    "seed = 42\n",
    "seed_everything(42)"
   ]
  },
  {
   "cell_type": "code",
   "execution_count": 5,
   "metadata": {},
   "outputs": [],
   "source": [
    "def dump_pickle(data, path):\n",
    "    with open(path, \"wb\") as file:\n",
    "        pickle.dump(data, file)\n",
    "\n",
    "def load_pickle(path):\n",
    "    with open(path, \"rb\") as file:\n",
    "        data = pickle.load(file)\n",
    "    return data\n",
    "\n",
    "def save_pt(data, path):\n",
    "    with open(path, \"wb\") as file:\n",
    "        torch.save(data, file)\n"
   ]
  },
  {
   "cell_type": "markdown",
   "metadata": {},
   "source": [
    "#### 데이터 load 및 shape 확인"
   ]
  },
  {
   "cell_type": "code",
   "execution_count": 44,
   "metadata": {},
   "outputs": [],
   "source": [
    "item_data = pd.read_csv(\"./data/articles.csv\")\n",
    "interaction_data = pd.read_csv(\"./data/transactions_train.csv\")"
   ]
  },
  {
   "cell_type": "code",
   "execution_count": 45,
   "metadata": {},
   "outputs": [
    {
     "name": "stdout",
     "output_type": "stream",
     "text": [
      "shape of Item data :  (105542, 25)\n",
      "shape of interaction data :  (31788324, 5)\n"
     ]
    }
   ],
   "source": [
    "print(\"shape of Item data : \",item_data.shape)\n",
    "print(\"shape of interaction data : \", interaction_data.shape)"
   ]
  },
  {
   "cell_type": "markdown",
   "metadata": {},
   "source": [
    "#### 이미지가 없는 아이템 찾기"
   ]
  },
  {
   "cell_type": "code",
   "execution_count": 46,
   "metadata": {},
   "outputs": [],
   "source": [
    "def img_by_id(df, article_id:int, no_list:list, echo:int=1, img_show:bool=True):\n",
    "    if article_id in no_list:\n",
    "        return\n",
    "    if echo:\n",
    "        display(df[df.article_id == article_id])\n",
    "\n",
    "    img_id = \"0\"+str(article_id)\n",
    "    img = Image.open(\"./data/images/\"+img_id[0:3]+\"/\"+img_id+\".jpg\")\n",
    "\n",
    "    if img_show:\n",
    "        img.show()\n",
    "\n",
    "def find_no_img_item(df):\n",
    "    no_img = []\n",
    "\n",
    "    for item in tqdm(df.iterrows(), total=len(df)):\n",
    "        try:\n",
    "            img_by_id(df, item[1][0], no_list=no_img, echo=0, img_show=False)\n",
    "        except FileNotFoundError:\n",
    "            no_img.append(item[0])\n",
    "\n",
    "    return no_img"
   ]
  },
  {
   "cell_type": "code",
   "execution_count": 47,
   "metadata": {},
   "outputs": [
    {
     "name": "stderr",
     "output_type": "stream",
     "text": [
      "100%|██████████| 105542/105542 [00:24<00:00, 4312.82it/s]\n"
     ]
    }
   ],
   "source": [
    "no_img_idx = find_no_img_item(item_data)\n"
   ]
  },
  {
   "cell_type": "code",
   "execution_count": 48,
   "metadata": {},
   "outputs": [
    {
     "name": "stdout",
     "output_type": "stream",
     "text": [
      "# of non-img item :  442\n"
     ]
    }
   ],
   "source": [
    "print(\"# of non-img item : \",len(no_img_idx))"
   ]
  },
  {
   "cell_type": "code",
   "execution_count": 49,
   "metadata": {},
   "outputs": [
    {
     "name": "stdout",
     "output_type": "stream",
     "text": [
      "shape of n_item_data :  (105100, 25)\n"
     ]
    }
   ],
   "source": [
    "# 이미지가 없는 아이템 삭제\n",
    "no_img_item = {idx:item_data.iloc[idx].article_id for idx in no_img_idx}\n",
    "n_item_data = item_data.drop(no_img_idx, axis=0).reset_index(drop=True) # 이미지 없는 아이템을 삭제한 데이터\n",
    "print(\"shape of n_item_data : \", n_item_data.shape)"
   ]
  },
  {
   "cell_type": "code",
   "execution_count": 50,
   "metadata": {},
   "outputs": [
    {
     "name": "stdout",
     "output_type": "stream",
     "text": [
      "shape of n_item_data :  (104973, 25)\n"
     ]
    }
   ],
   "source": [
    "# product_type에 속하는 상품이 10개 미만인 경우 삭제 131 -> 94로 줄어듦, 아이템은 약 130개 사라짐\n",
    "n_item_data = n_item_data.groupby('product_type_no').filter(lambda x: len(x) >= 10).reset_index(drop=True)\n",
    "print(\"shape of n_item_data : \", n_item_data.shape)"
   ]
  },
  {
   "cell_type": "code",
   "execution_count": 51,
   "metadata": {},
   "outputs": [
    {
     "name": "stdout",
     "output_type": "stream",
     "text": [
      "shape of n_item_data :  (104572, 25)\n",
      "# of product_type :  84\n"
     ]
    }
   ],
   "source": [
    "# product_type 중 불필요한 것 삭제 -> 84로 줄어듧, 아이템 400개 정도 사라짐\n",
    "rm_list = [\"Umbrella\", \"Bracelet\", \"Giftbox\", \"Waterbottle\", \n",
    "           \"Nipple covers\", 'Chem. cosmetics', \"Fine cosmetics\", \"Soft Toys\",\n",
    "           \"Bra extender\", \"Cushion\", \"Side table\", \"Dog Wear\", \"Keychain\",\n",
    "           \"Sewing kit\", \"Towel\", \"Mobile case\", \"Zipper head\",\n",
    "           \"Wireless earphone case\", \"Stain remover spray\",\n",
    "           \"Clothing mist\", \"Hair ties\"]\n",
    "n_item_data = n_item_data[~n_item_data['product_type_name'].isin(rm_list)].reset_index(drop=True)\n",
    "print(\"shape of n_item_data : \", n_item_data.shape)\n",
    "print(\"# of product_type : \", n_item_data.product_type_name.nunique())\n"
   ]
  },
  {
   "cell_type": "code",
   "execution_count": 52,
   "metadata": {},
   "outputs": [
    {
     "name": "stdout",
     "output_type": "stream",
     "text": [
      "shape of interaction data :  (31788324, 5)\n",
      "shape of n_interaction_data :  (31550289, 5)\n"
     ]
    }
   ],
   "source": [
    "# interacion data에서 앞선 과정에서 삭제된 데이터 제거\n",
    "n_interaction_data = interaction_data[interaction_data['article_id'].isin(n_item_data['article_id'])].reset_index(drop=True)\n",
    "print(\"shape of interaction data : \", interaction_data.shape)\n",
    "print(\"shape of n_interaction_data : \", n_interaction_data.shape)"
   ]
  },
  {
   "cell_type": "code",
   "execution_count": 53,
   "metadata": {},
   "outputs": [],
   "source": [
    "n_item_data = n_item_data[[\"article_id\",\"product_type_no\"]]"
   ]
  },
  {
   "cell_type": "markdown",
   "metadata": {},
   "source": [
    "### 작은 데이터 생성 (기존 데이터의 20%)"
   ]
  },
  {
   "cell_type": "code",
   "execution_count": 54,
   "metadata": {},
   "outputs": [],
   "source": [
    "from sklearn.model_selection import train_test_split\n",
    "\n",
    "small_interaction_data, _ = train_test_split(n_interaction_data, train_size=0.2, random_state=seed)"
   ]
  },
  {
   "cell_type": "code",
   "execution_count": 55,
   "metadata": {},
   "outputs": [
    {
     "data": {
      "text/html": [
       "<div>\n",
       "<style scoped>\n",
       "    .dataframe tbody tr th:only-of-type {\n",
       "        vertical-align: middle;\n",
       "    }\n",
       "\n",
       "    .dataframe tbody tr th {\n",
       "        vertical-align: top;\n",
       "    }\n",
       "\n",
       "    .dataframe thead th {\n",
       "        text-align: right;\n",
       "    }\n",
       "</style>\n",
       "<table border=\"1\" class=\"dataframe\">\n",
       "  <thead>\n",
       "    <tr style=\"text-align: right;\">\n",
       "      <th></th>\n",
       "      <th>t_dat</th>\n",
       "      <th>customer_id</th>\n",
       "      <th>article_id</th>\n",
       "      <th>price</th>\n",
       "      <th>sales_channel_id</th>\n",
       "    </tr>\n",
       "  </thead>\n",
       "  <tbody>\n",
       "    <tr>\n",
       "      <th>21533031</th>\n",
       "      <td>2020-01-26</td>\n",
       "      <td>bc9df9b087d9f54aba50fe2a0ab838cb0a994ee67ac72c...</td>\n",
       "      <td>810838009</td>\n",
       "      <td>0.042356</td>\n",
       "      <td>2</td>\n",
       "    </tr>\n",
       "    <tr>\n",
       "      <th>28284508</th>\n",
       "      <td>2020-07-02</td>\n",
       "      <td>95de2d7aef6bd87b885f49144f948c1d5efbaa1106e118...</td>\n",
       "      <td>759479001</td>\n",
       "      <td>0.006763</td>\n",
       "      <td>2</td>\n",
       "    </tr>\n",
       "    <tr>\n",
       "      <th>20236749</th>\n",
       "      <td>2019-12-20</td>\n",
       "      <td>adad94ea244db54bd23c873a1d63776d5f554c1ef43633...</td>\n",
       "      <td>564311019</td>\n",
       "      <td>0.025407</td>\n",
       "      <td>1</td>\n",
       "    </tr>\n",
       "    <tr>\n",
       "      <th>1509783</th>\n",
       "      <td>2018-10-22</td>\n",
       "      <td>c57de756989c61f9aec47c3a4a832bbc25dff314e4e2c1...</td>\n",
       "      <td>675443003</td>\n",
       "      <td>0.011525</td>\n",
       "      <td>1</td>\n",
       "    </tr>\n",
       "    <tr>\n",
       "      <th>23521929</th>\n",
       "      <td>2020-03-25</td>\n",
       "      <td>14a687723e8ca90ce78f95049eeea9a8ce8ba8c521954a...</td>\n",
       "      <td>821397001</td>\n",
       "      <td>0.025407</td>\n",
       "      <td>2</td>\n",
       "    </tr>\n",
       "    <tr>\n",
       "      <th>...</th>\n",
       "      <td>...</td>\n",
       "      <td>...</td>\n",
       "      <td>...</td>\n",
       "      <td>...</td>\n",
       "      <td>...</td>\n",
       "    </tr>\n",
       "    <tr>\n",
       "      <th>21081788</th>\n",
       "      <td>2020-01-13</td>\n",
       "      <td>568ff20446d7e630ec7488a99f29eab971749a04dc161e...</td>\n",
       "      <td>781806005</td>\n",
       "      <td>0.015237</td>\n",
       "      <td>2</td>\n",
       "    </tr>\n",
       "    <tr>\n",
       "      <th>26858567</th>\n",
       "      <td>2020-06-10</td>\n",
       "      <td>8df8a7008288a8354e7f2eb261d83b8f812bc5b6293a4a...</td>\n",
       "      <td>856310003</td>\n",
       "      <td>0.025407</td>\n",
       "      <td>2</td>\n",
       "    </tr>\n",
       "    <tr>\n",
       "      <th>23327850</th>\n",
       "      <td>2020-03-18</td>\n",
       "      <td>39b7ca4eb886a72f80a34e5bea0fff9bb18a49734ddb5e...</td>\n",
       "      <td>858453001</td>\n",
       "      <td>0.041508</td>\n",
       "      <td>2</td>\n",
       "    </tr>\n",
       "    <tr>\n",
       "      <th>16094478</th>\n",
       "      <td>2019-09-04</td>\n",
       "      <td>2435ac495a1979f4ff35ffa1851dd9d8de597c44915824...</td>\n",
       "      <td>708311020</td>\n",
       "      <td>0.044051</td>\n",
       "      <td>1</td>\n",
       "    </tr>\n",
       "    <tr>\n",
       "      <th>23200604</th>\n",
       "      <td>2020-03-13</td>\n",
       "      <td>593cc268d63a0898879c9f3cd39216bd0e0ff8ef15628f...</td>\n",
       "      <td>728156006</td>\n",
       "      <td>0.050831</td>\n",
       "      <td>1</td>\n",
       "    </tr>\n",
       "  </tbody>\n",
       "</table>\n",
       "<p>6310057 rows × 5 columns</p>\n",
       "</div>"
      ],
      "text/plain": [
       "               t_dat                                        customer_id   \n",
       "21533031  2020-01-26  bc9df9b087d9f54aba50fe2a0ab838cb0a994ee67ac72c...  \\\n",
       "28284508  2020-07-02  95de2d7aef6bd87b885f49144f948c1d5efbaa1106e118...   \n",
       "20236749  2019-12-20  adad94ea244db54bd23c873a1d63776d5f554c1ef43633...   \n",
       "1509783   2018-10-22  c57de756989c61f9aec47c3a4a832bbc25dff314e4e2c1...   \n",
       "23521929  2020-03-25  14a687723e8ca90ce78f95049eeea9a8ce8ba8c521954a...   \n",
       "...              ...                                                ...   \n",
       "21081788  2020-01-13  568ff20446d7e630ec7488a99f29eab971749a04dc161e...   \n",
       "26858567  2020-06-10  8df8a7008288a8354e7f2eb261d83b8f812bc5b6293a4a...   \n",
       "23327850  2020-03-18  39b7ca4eb886a72f80a34e5bea0fff9bb18a49734ddb5e...   \n",
       "16094478  2019-09-04  2435ac495a1979f4ff35ffa1851dd9d8de597c44915824...   \n",
       "23200604  2020-03-13  593cc268d63a0898879c9f3cd39216bd0e0ff8ef15628f...   \n",
       "\n",
       "          article_id     price  sales_channel_id  \n",
       "21533031   810838009  0.042356                 2  \n",
       "28284508   759479001  0.006763                 2  \n",
       "20236749   564311019  0.025407                 1  \n",
       "1509783    675443003  0.011525                 1  \n",
       "23521929   821397001  0.025407                 2  \n",
       "...              ...       ...               ...  \n",
       "21081788   781806005  0.015237                 2  \n",
       "26858567   856310003  0.025407                 2  \n",
       "23327850   858453001  0.041508                 2  \n",
       "16094478   708311020  0.044051                 1  \n",
       "23200604   728156006  0.050831                 1  \n",
       "\n",
       "[6310057 rows x 5 columns]"
      ]
     },
     "execution_count": 55,
     "metadata": {},
     "output_type": "execute_result"
    }
   ],
   "source": [
    "small_interaction_data"
   ]
  },
  {
   "cell_type": "code",
   "execution_count": 56,
   "metadata": {},
   "outputs": [
    {
     "name": "stdout",
     "output_type": "stream",
     "text": [
      "shape of n_interaction_data :  (4209754, 5)\n"
     ]
    }
   ],
   "source": [
    "# 이력이 7초과인 유저만 남김\n",
    "small_interaction_data = small_interaction_data.groupby('customer_id').filter(lambda x: len(x) > 7).reset_index(drop=True)\n",
    "print(\"shape of n_interaction_data : \", small_interaction_data.shape)"
   ]
  },
  {
   "cell_type": "code",
   "execution_count": 57,
   "metadata": {},
   "outputs": [
    {
     "name": "stdout",
     "output_type": "stream",
     "text": [
      "# of user 248113\n",
      "# of item 104572\n"
     ]
    }
   ],
   "source": [
    "user2idx = {v:k for k,v in enumerate(small_interaction_data['customer_id'].unique())}\n",
    "item2idx = {v:k for k,v in enumerate(n_item_data['article_id'].unique())}\n",
    "\n",
    "print(\"# of user\", len(user2idx))\n",
    "print(\"# of item\", len(item2idx))"
   ]
  },
  {
   "cell_type": "code",
   "execution_count": 58,
   "metadata": {},
   "outputs": [
    {
     "name": "stdout",
     "output_type": "stream",
     "text": [
      "shape of test_data :  (248113, 2)\n",
      "shape of train_data :  (3961641, 2)\n"
     ]
    }
   ],
   "source": [
    "# train/test split\n",
    "test_data = small_interaction_data.groupby(\"customer_id\").nth(-1)\n",
    "train_data = small_interaction_data[~small_interaction_data.index.isin(test_data.index)]\n",
    "test_data = test_data.reset_index(drop=True).drop([\"t_dat\", \"price\",\"sales_channel_id\"], axis=1)\n",
    "train_data = train_data.reset_index(drop=True).drop([\"t_dat\", \"price\",\"sales_channel_id\"], axis=1)\n",
    "\n",
    "print(\"shape of test_data : \", test_data.shape)\n",
    "print(\"shape of train_data : \", train_data.shape)\n"
   ]
  },
  {
   "cell_type": "code",
   "execution_count": 59,
   "metadata": {},
   "outputs": [],
   "source": [
    "train_data[\"customer_id\"] = train_data[\"customer_id\"].map(user2idx)\n",
    "test_data[\"customer_id\"] = test_data[\"customer_id\"].map(user2idx)\n",
    "train_data[\"article_id\"] = train_data[\"article_id\"].map(item2idx)\n",
    "test_data[\"article_id\"] = test_data[\"article_id\"].map(item2idx)\n",
    "n_item_data[\"article_id\"] = n_item_data[\"article_id\"].map(item2idx)"
   ]
  },
  {
   "cell_type": "code",
   "execution_count": 60,
   "metadata": {},
   "outputs": [
    {
     "data": {
      "text/html": [
       "<div>\n",
       "<style scoped>\n",
       "    .dataframe tbody tr th:only-of-type {\n",
       "        vertical-align: middle;\n",
       "    }\n",
       "\n",
       "    .dataframe tbody tr th {\n",
       "        vertical-align: top;\n",
       "    }\n",
       "\n",
       "    .dataframe thead th {\n",
       "        text-align: right;\n",
       "    }\n",
       "</style>\n",
       "<table border=\"1\" class=\"dataframe\">\n",
       "  <thead>\n",
       "    <tr style=\"text-align: right;\">\n",
       "      <th></th>\n",
       "      <th>customer_id</th>\n",
       "      <th>article_id</th>\n",
       "    </tr>\n",
       "  </thead>\n",
       "  <tbody>\n",
       "    <tr>\n",
       "      <th>0</th>\n",
       "      <td>0</td>\n",
       "      <td>69390</td>\n",
       "    </tr>\n",
       "    <tr>\n",
       "      <th>1</th>\n",
       "      <td>1</td>\n",
       "      <td>98120</td>\n",
       "    </tr>\n",
       "    <tr>\n",
       "      <th>2</th>\n",
       "      <td>2</td>\n",
       "      <td>42313</td>\n",
       "    </tr>\n",
       "    <tr>\n",
       "      <th>3</th>\n",
       "      <td>3</td>\n",
       "      <td>45500</td>\n",
       "    </tr>\n",
       "    <tr>\n",
       "      <th>4</th>\n",
       "      <td>4</td>\n",
       "      <td>85871</td>\n",
       "    </tr>\n",
       "  </tbody>\n",
       "</table>\n",
       "</div>"
      ],
      "text/plain": [
       "   customer_id  article_id\n",
       "0            0       69390\n",
       "1            1       98120\n",
       "2            2       42313\n",
       "3            3       45500\n",
       "4            4       85871"
      ]
     },
     "execution_count": 60,
     "metadata": {},
     "output_type": "execute_result"
    }
   ],
   "source": [
    "train_data.head()"
   ]
  },
  {
   "cell_type": "code",
   "execution_count": 61,
   "metadata": {},
   "outputs": [
    {
     "data": {
      "text/html": [
       "<div>\n",
       "<style scoped>\n",
       "    .dataframe tbody tr th:only-of-type {\n",
       "        vertical-align: middle;\n",
       "    }\n",
       "\n",
       "    .dataframe tbody tr th {\n",
       "        vertical-align: top;\n",
       "    }\n",
       "\n",
       "    .dataframe thead th {\n",
       "        text-align: right;\n",
       "    }\n",
       "</style>\n",
       "<table border=\"1\" class=\"dataframe\">\n",
       "  <thead>\n",
       "    <tr style=\"text-align: right;\">\n",
       "      <th></th>\n",
       "      <th>customer_id</th>\n",
       "      <th>article_id</th>\n",
       "    </tr>\n",
       "  </thead>\n",
       "  <tbody>\n",
       "    <tr>\n",
       "      <th>51671</th>\n",
       "      <td>0</td>\n",
       "      <td>44272</td>\n",
       "    </tr>\n",
       "  </tbody>\n",
       "</table>\n",
       "</div>"
      ],
      "text/plain": [
       "       customer_id  article_id\n",
       "51671            0       44272"
      ]
     },
     "execution_count": 61,
     "metadata": {},
     "output_type": "execute_result"
    }
   ],
   "source": [
    "test_data[test_data.customer_id==0]"
   ]
  },
  {
   "cell_type": "code",
   "execution_count": 62,
   "metadata": {},
   "outputs": [
    {
     "data": {
      "text/html": [
       "<div>\n",
       "<style scoped>\n",
       "    .dataframe tbody tr th:only-of-type {\n",
       "        vertical-align: middle;\n",
       "    }\n",
       "\n",
       "    .dataframe tbody tr th {\n",
       "        vertical-align: top;\n",
       "    }\n",
       "\n",
       "    .dataframe thead th {\n",
       "        text-align: right;\n",
       "    }\n",
       "</style>\n",
       "<table border=\"1\" class=\"dataframe\">\n",
       "  <thead>\n",
       "    <tr style=\"text-align: right;\">\n",
       "      <th></th>\n",
       "      <th>article_id</th>\n",
       "      <th>product_type_no</th>\n",
       "    </tr>\n",
       "  </thead>\n",
       "  <tbody>\n",
       "    <tr>\n",
       "      <th>0</th>\n",
       "      <td>0</td>\n",
       "      <td>253</td>\n",
       "    </tr>\n",
       "    <tr>\n",
       "      <th>1</th>\n",
       "      <td>1</td>\n",
       "      <td>253</td>\n",
       "    </tr>\n",
       "    <tr>\n",
       "      <th>2</th>\n",
       "      <td>2</td>\n",
       "      <td>253</td>\n",
       "    </tr>\n",
       "    <tr>\n",
       "      <th>3</th>\n",
       "      <td>3</td>\n",
       "      <td>306</td>\n",
       "    </tr>\n",
       "    <tr>\n",
       "      <th>4</th>\n",
       "      <td>4</td>\n",
       "      <td>306</td>\n",
       "    </tr>\n",
       "  </tbody>\n",
       "</table>\n",
       "</div>"
      ],
      "text/plain": [
       "   article_id  product_type_no\n",
       "0           0              253\n",
       "1           1              253\n",
       "2           2              253\n",
       "3           3              306\n",
       "4           4              306"
      ]
     },
     "execution_count": 62,
     "metadata": {},
     "output_type": "execute_result"
    }
   ],
   "source": [
    "n_item_data.head()"
   ]
  },
  {
   "cell_type": "code",
   "execution_count": 63,
   "metadata": {},
   "outputs": [],
   "source": [
    "# product_type마다 속하는 item 목록 생성 {product_type_no : [items]}\n",
    "items_by_prod_type = dict(list(n_item_data.groupby(\"product_type_no\")))\n",
    "for k in items_by_prod_type.keys():\n",
    "    items_by_prod_type[k] = items_by_prod_type[k].article_id.reset_index(drop=True)\n",
    "\n",
    "dump_pickle(items_by_prod_type, \"items_by_prod_type.pkl\")"
   ]
  },
  {
   "cell_type": "code",
   "execution_count": 64,
   "metadata": {},
   "outputs": [],
   "source": [
    "# user의 pos item 목록 생성 {user_id : [items]}\n",
    "pos_items_each_user = dict(list(train_data.groupby(\"customer_id\")))\n",
    "for k in pos_items_each_user.keys():\n",
    "    pos_items_each_user[k] = pos_items_each_user[k].article_id.reset_index(drop=True)\n",
    "\n",
    "dump_pickle(pos_items_each_user, \"pos_items_each_user_small.pkl\")"
   ]
  },
  {
   "cell_type": "markdown",
   "metadata": {},
   "source": [
    "### DATASET 생성"
   ]
  },
  {
   "cell_type": "code",
   "execution_count": 65,
   "metadata": {},
   "outputs": [],
   "source": [
    "class HMTrainDataset(Dataset):\n",
    "    def __init__(self, df, item_df, items_by_prod_type, pos_items_each_user) -> None:\n",
    "        super().__init__()\n",
    "        self.df = df\n",
    "        self.item_df = item_df\n",
    "        self.items_by_prod_type = items_by_prod_type\n",
    "        self.pos_items_each_user = pos_items_each_user\n",
    "        self.df['neg'] = np.zeros(len(self.df), dtype=int)\n",
    "        self._make_triples_data()\n",
    "    \n",
    "    def __getitem__(self, index):\n",
    "        user = self.df.customer_id[index]\n",
    "        pos = self.df.article_id[index]\n",
    "        neg = self.df.neg[index]\n",
    "        return user, pos, neg\n",
    "            \n",
    "    def _neg_sampling(self, pos_list, prod_type_no):\n",
    "        # 같은 prod_type_no 내에서 neg sampling\n",
    "        neg = random.choice(self.items_by_prod_type[prod_type_no]) \n",
    "        while neg in pos_list:\n",
    "            neg = random.choice(self.items_by_prod_type[prod_type_no])\n",
    "        return neg\n",
    "\n",
    "    def _make_triples_data(self):\n",
    "        for user_id, rows in tqdm(self.df.groupby(\"customer_id\")):\n",
    "            # pos_list = {k:1 for k in pos_items_each_user[user_id]}\n",
    "            pos_list = self.pos_items_each_user[user_id]\n",
    "            for idx, row in rows.iterrows():\n",
    "                item_id = row.article_id\n",
    "                prod_type_no = self.item_df[self.item_df[\"article_id\"] == item_id].product_type_no.item()\n",
    "                self.df.at[idx, 'neg'] = self._neg_sampling(pos_list, prod_type_no)\n",
    "    \n",
    "    def __len__(self):\n",
    "        return len(self.df)\n",
    "    "
   ]
  },
  {
   "cell_type": "code",
   "execution_count": 66,
   "metadata": {},
   "outputs": [],
   "source": [
    "class HMTestDataset(Dataset):\n",
    "    def __init__(self, df) -> None:\n",
    "        super().__init__()\n",
    "        self.df = df\n",
    "        \n",
    "    def __getitem__(self, index):\n",
    "        user = self.df.customer_id[index]\n",
    "        pos = self.df.article_id[index]\n",
    "        return user, pos\n",
    "\n",
    "    def __len__(self):\n",
    "        return len(self.df)"
   ]
  },
  {
   "cell_type": "code",
   "execution_count": 67,
   "metadata": {},
   "outputs": [
    {
     "name": "stderr",
     "output_type": "stream",
     "text": [
      "100%|██████████| 248113/248113 [09:15<00:00, 446.70it/s]\n"
     ]
    }
   ],
   "source": [
    "train_dataset = HMTrainDataset(train_data, n_item_data, items_by_prod_type, pos_items_each_user)\n",
    "save_pt(train_dataset, \"./dataset/train_dataset_v1.pt\")"
   ]
  },
  {
   "cell_type": "code",
   "execution_count": null,
   "metadata": {},
   "outputs": [],
   "source": [
    "test_dataset = HMTestDataset(test_data)\n",
    "save_pt(test_dataset, \"./dataset/test_dataset_v1.pt\")"
   ]
  },
  {
   "cell_type": "markdown",
   "metadata": {},
   "source": [
    "#### 아이템 이미지 임베딩 생성"
   ]
  },
  {
   "cell_type": "code",
   "execution_count": null,
   "metadata": {},
   "outputs": [],
   "source": [
    "from fashion_clip.fashion_clip import FashionCLIP\n",
    "fclip = FashionCLIP('fashion-clip')\n",
    "\n",
    "images = [\"./data/images/\" + \"0\" + str(k)[0:2] + \"/\" + \"0\"+str(k) + \".jpg\" for k in n_item_data[\"article_id\"].tolist()]\n",
    "image_embeddings = fclip.encode_images(images, batch_size=64)"
   ]
  },
  {
   "cell_type": "code",
   "execution_count": null,
   "metadata": {},
   "outputs": [],
   "source": [
    "# 이미지 임베딩을 pkl 파일로 저장하고 싶은 경우 실행\n",
    "dump_pickle(image_embeddings, \"./data/img_emb.pkl\")"
   ]
  },
  {
   "cell_type": "markdown",
   "metadata": {},
   "source": [
    "#### 실행 시간 비교"
   ]
  },
  {
   "cell_type": "code",
   "execution_count": 4,
   "metadata": {},
   "outputs": [
    {
     "name": "stdout",
     "output_type": "stream",
     "text": [
      "np.random.randint 실행 시간: 6.5607867789804 초\n",
      "random.sample 실행 시간: 0.37414733300101943 초\n",
      "random.choice 실행 시간: 0.17139070699340664 초\n",
      "np.random.choice 실행 시간: 13.791083243995672 초\n"
     ]
    }
   ],
   "source": [
    "import timeit\n",
    "import numpy as np\n",
    "import random\n",
    "\n",
    "def function_1(pos_list, n_item):\n",
    "    neg = np.random.randint(0, n_item, 1) \n",
    "    while neg in pos_list:\n",
    "        neg = np.random.randint(0, n_item, 1) \n",
    "    return neg\n",
    "\n",
    "def function_2(pos_list, n_item):\n",
    "    neg = random.sample(range(0,n_item), 1) \n",
    "    while neg in pos_list:\n",
    "        neg = random.sample(range(0,n_item), 1) \n",
    "    return neg\n",
    "\n",
    "def function_3(pos_list, n_item):\n",
    "    neg = random.choice(range(0,n_item)) \n",
    "    while neg in pos_list:\n",
    "        neg = random.choice(range(0,n_item)) \n",
    "    return neg\n",
    "\n",
    "def function_4(pos_list, n_item):\n",
    "    neg = np.random.choice(np.arange(n_item), 1)\n",
    "    while neg in pos_list:\n",
    "        neg =  np.random.choice(np.arange(n_item), 1)\n",
    "    return neg\n",
    "\n",
    "n_item = len(item2idx)\n",
    "pos = random.sample(range(1,n_item), 40)\n",
    "n = 115500\n",
    "\n",
    "time_1 = timeit.timeit('function_1(pos, n_item)', globals=globals(), number=n)\n",
    "time_2 = timeit.timeit('function_2(pos, n_item)', globals=globals(), number=n)\n",
    "time_3 = timeit.timeit('function_3(pos, n_item)', globals=globals(), number=n)\n",
    "time_4 = timeit.timeit('function_4(pos, n_item)', globals=globals(), number=n)\n",
    "\n",
    "print(f'np.random.randint 실행 시간: {time_1} 초')\n",
    "print(f'random.sample 실행 시간: {time_2} 초')\n",
    "print(f'random.choice 실행 시간: {time_3} 초')\n",
    "print(f'np.random.choice 실행 시간: {time_4} 초')\n",
    "\n"
   ]
  },
  {
   "cell_type": "code",
   "execution_count": null,
   "metadata": {},
   "outputs": [],
   "source": [
    "def function_1(pos_list, n_item):\n",
    "    neg = random.choice(range(0,n_item)) \n",
    "    while neg in pos_list:\n",
    "        neg = random.choice(range(0,n_item)) \n",
    "    return neg\n",
    "\n",
    "def function_2(pos_list, n_item):\n",
    "    pos_list = {k:1 for k in pos_list}\n",
    "    neg = random.choice(range(0,n_item)) \n",
    "    while neg in pos_list:\n",
    "        neg = random.choice(range(0,n_item)) \n",
    "    return neg\n",
    "\n",
    "n_item = len(item2idx)\n",
    "pos = random.sample(range(1,n_item), 40)\n",
    "n = 315500\n",
    "\n",
    "time_1 = timeit.timeit('function_1(pos, n_item)', globals=globals(), number=n)\n",
    "time_2 = timeit.timeit('function_2(pos, n_item)', globals=globals(), number=n)\n",
    "\n",
    "print(f'list 실행 시간: {time_1} 초')\n",
    "print(f'dict 실행 시간: {time_2} 초')\n"
   ]
  },
  {
   "cell_type": "code",
   "execution_count": 10,
   "metadata": {},
   "outputs": [
    {
     "name": "stdout",
     "output_type": "stream",
     "text": [
      "list(set) 실행 시간: 508.1635248339999 초\n",
      "np.setdiff1d 실행 시간: 69.18620454200027 초\n",
      "set 실행 시간: 5.8264562089998435 초\n",
      "np.arange 실행 시간: 0.028278708000470942 초\n"
     ]
    }
   ],
   "source": [
    "import numpy as np\n",
    "import timeit\n",
    "import random\n",
    "import torch\n",
    "\n",
    "def function_1(pos_list, all_item):\n",
    "    candicate_items = torch.tensor(list(all_item - set(pos_list)))\n",
    "\n",
    "def function_2(pos_list, all_item):\n",
    "    candicate_items = torch.tensor(np.setdiff1d(all_item, pos_list))\n",
    "   \n",
    "def function_3():\n",
    "    items_set = set(range(1,104573))\n",
    "    \n",
    "def function_4():\n",
    "    items_np = np.arange(104573, dtype=np.int32)\n",
    "    \n",
    "\n",
    "items_set = set(range(1,104573))\n",
    "items_np = np.arange(104573, dtype=np.int32)\n",
    "pos = random.sample(range(1,104573), 40)\n",
    "n1 = 74570\n",
    "n2 = 4000\n",
    "\n",
    "time_1 = timeit.timeit('function_1(pos, items_set)', globals=globals(), number=n1)\n",
    "print(f'list(set) 실행 시간: {time_1} 초')\n",
    "\n",
    "time_2 = timeit.timeit('function_2(pos, items_np)', globals=globals(), number=n1)\n",
    "print(f'np.setdiff1d 실행 시간: {time_2} 초')\n",
    "\n",
    "time_3 = timeit.timeit('function_3()', globals=globals(), number=n2)\n",
    "print(f'set 실행 시간: {time_3} 초')\n",
    "\n",
    "time_4 = timeit.timeit('function_4()', globals=globals(), number=n2)\n",
    "print(f'np.arange 실행 시간: {time_4} 초')\n"
   ]
  },
  {
   "cell_type": "code",
   "execution_count": 16,
   "metadata": {},
   "outputs": [
    {
     "name": "stdout",
     "output_type": "stream",
     "text": [
      "np.random.choice 실행 시간: 41.994027569977334 초\n",
      "random.sample + list 실행 시간: 174.8324626859976 초\n"
     ]
    }
   ],
   "source": [
    "import numpy as np\n",
    "import timeit\n",
    "import random\n",
    "import torch\n",
    "\n",
    "def function_1(pos_list, all_item):\n",
    "    candicate_items = torch.tensor(np.random.choice(np.setdiff1d(all_item, pos_list), 100))\n",
    "\n",
    "\n",
    "def function_2(pos_list, all_item):\n",
    "    candicate_items = torch.tensor(random.sample(list(np.setdiff1d(all_item, pos_list)), 100))\n",
    "    \n",
    "\n",
    "# items_set = set(range(1,104573))\n",
    "items_np = np.arange(104573, dtype=np.int32)\n",
    "pos = random.sample(range(1,104573), 40)\n",
    "n1 = 24570\n",
    "\n",
    "time_1 = timeit.timeit('function_1(pos, items_np)', globals=globals(), number=n1)\n",
    "print(f'np.random.choice 실행 시간: {time_1} 초')\n",
    "\n",
    "time_2 = timeit.timeit('function_2(pos, items_np)', globals=globals(), number=n1)\n",
    "print(f'random.sample + list 실행 시간: {time_2} 초')\n"
   ]
  }
 ],
 "metadata": {
  "kernelspec": {
   "display_name": "vbpr",
   "language": "python",
   "name": "python3"
  },
  "language_info": {
   "codemirror_mode": {
    "name": "ipython",
    "version": 3
   },
   "file_extension": ".py",
   "mimetype": "text/x-python",
   "name": "python",
   "nbconvert_exporter": "python",
   "pygments_lexer": "ipython3",
   "version": "3.10.0"
  }
 },
 "nbformat": 4,
 "nbformat_minor": 2
}
