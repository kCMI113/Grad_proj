{
 "cells": [
  {
   "cell_type": "markdown",
   "metadata": {},
   "source": [
    "### data"
   ]
  },
  {
   "cell_type": "markdown",
   "metadata": {},
   "source": [
    "#### load raw data"
   ]
  },
  {
   "cell_type": "code",
   "execution_count": 1,
   "metadata": {},
   "outputs": [],
   "source": [
    "import pandas as pd\n",
    "\n",
    "book_data = pd.read_csv(\"./data/books.csv\")\n",
    "rating_data = pd.read_csv(\"./data/ratings.csv\")\n",
    "user_data = pd.read_csv(\"./data/users.csv\")"
   ]
  },
  {
   "cell_type": "code",
   "execution_count": 2,
   "metadata": {},
   "outputs": [
    {
     "data": {
      "text/html": [
       "<div>\n",
       "<style scoped>\n",
       "    .dataframe tbody tr th:only-of-type {\n",
       "        vertical-align: middle;\n",
       "    }\n",
       "\n",
       "    .dataframe tbody tr th {\n",
       "        vertical-align: top;\n",
       "    }\n",
       "\n",
       "    .dataframe thead th {\n",
       "        text-align: right;\n",
       "    }\n",
       "</style>\n",
       "<table border=\"1\" class=\"dataframe\">\n",
       "  <thead>\n",
       "    <tr style=\"text-align: right;\">\n",
       "      <th></th>\n",
       "      <th>user_id</th>\n",
       "      <th>isbn</th>\n",
       "      <th>rating</th>\n",
       "    </tr>\n",
       "  </thead>\n",
       "  <tbody>\n",
       "    <tr>\n",
       "      <th>0</th>\n",
       "      <td>8</td>\n",
       "      <td>0771074670</td>\n",
       "      <td>1</td>\n",
       "    </tr>\n",
       "    <tr>\n",
       "      <th>1</th>\n",
       "      <td>8</td>\n",
       "      <td>0002005018</td>\n",
       "      <td>5</td>\n",
       "    </tr>\n",
       "    <tr>\n",
       "      <th>2</th>\n",
       "      <td>17</td>\n",
       "      <td>0684823802</td>\n",
       "      <td>1</td>\n",
       "    </tr>\n",
       "    <tr>\n",
       "      <th>3</th>\n",
       "      <td>17</td>\n",
       "      <td>0425099148</td>\n",
       "      <td>7</td>\n",
       "    </tr>\n",
       "    <tr>\n",
       "      <th>4</th>\n",
       "      <td>17</td>\n",
       "      <td>0553264990</td>\n",
       "      <td>5</td>\n",
       "    </tr>\n",
       "    <tr>\n",
       "      <th>...</th>\n",
       "      <td>...</td>\n",
       "      <td>...</td>\n",
       "      <td>...</td>\n",
       "    </tr>\n",
       "    <tr>\n",
       "      <th>164724</th>\n",
       "      <td>278854</td>\n",
       "      <td>0553578596</td>\n",
       "      <td>1</td>\n",
       "    </tr>\n",
       "    <tr>\n",
       "      <th>164725</th>\n",
       "      <td>278854</td>\n",
       "      <td>0316184152</td>\n",
       "      <td>7</td>\n",
       "    </tr>\n",
       "    <tr>\n",
       "      <th>164726</th>\n",
       "      <td>278854</td>\n",
       "      <td>0515087122</td>\n",
       "      <td>1</td>\n",
       "    </tr>\n",
       "    <tr>\n",
       "      <th>164727</th>\n",
       "      <td>278854</td>\n",
       "      <td>0553579606</td>\n",
       "      <td>8</td>\n",
       "    </tr>\n",
       "    <tr>\n",
       "      <th>164728</th>\n",
       "      <td>278854</td>\n",
       "      <td>0425163393</td>\n",
       "      <td>7</td>\n",
       "    </tr>\n",
       "  </tbody>\n",
       "</table>\n",
       "<p>164729 rows × 3 columns</p>\n",
       "</div>"
      ],
      "text/plain": [
       "        user_id        isbn  rating\n",
       "0             8  0771074670       1\n",
       "1             8  0002005018       5\n",
       "2            17  0684823802       1\n",
       "3            17  0425099148       7\n",
       "4            17  0553264990       5\n",
       "...         ...         ...     ...\n",
       "164724   278854  0553578596       1\n",
       "164725   278854  0316184152       7\n",
       "164726   278854  0515087122       1\n",
       "164727   278854  0553579606       8\n",
       "164728   278854  0425163393       7\n",
       "\n",
       "[164729 rows x 3 columns]"
      ]
     },
     "execution_count": 2,
     "metadata": {},
     "output_type": "execute_result"
    }
   ],
   "source": [
    "rating_data"
   ]
  },
  {
   "cell_type": "markdown",
   "metadata": {},
   "source": [
    "#### img prepare"
   ]
  },
  {
   "cell_type": "code",
   "execution_count": 13,
   "metadata": {},
   "outputs": [],
   "source": [
    "from PIL import Image\n",
    "from tqdm import tqdm\n",
    "import torch\n",
    "import torchvision.transforms as transforms\n",
    "import torch.nn as nn\n",
    "import numpy as np\n",
    "\n",
    "torch.manual_seed(42)\n",
    "np.random.seed(42)\n",
    "\n",
    "def find_no_img(df):\n",
    "    no_img = []\n",
    "\n",
    "    for book in tqdm(df.iterrows(), total=len(df)):\n",
    "        try:\n",
    "            isbn = book[1].isbn\n",
    "            img = prepare_img(isbn)\n",
    "        except FileNotFoundError:\n",
    "            no_img.append(book[0])\n",
    "\n",
    "    return no_img\n",
    "\n",
    "def prepare_img(q_isbn):\n",
    "    q_path = book_data[book_data.isbn == q_isbn].img_path.item()\n",
    "    normalize = transforms.Normalize(mean=[0.485, 0.456, 0.406],\n",
    "                                     std=[0.229, 0.224, 0.225])\n",
    "    transform = transforms.Compose(\n",
    "            [transforms.Resize(256),\n",
    "            transforms.CenterCrop(227),\n",
    "            transforms.ToTensor(),\n",
    "            normalize,\n",
    "            ])\n",
    "    img = Image.open(\"./data/\"+q_path)\n",
    "    img = transform(img)\n",
    "    img = img.unsqueeze(0)\n",
    "\n",
    "    return img\n",
    "\n",
    "def make_feature_map(model, df, idx):\n",
    "    model.eval()\n",
    "    feature_map = {}\n",
    "\n",
    "    with torch.no_grad():\n",
    "        for book in tqdm(df.iterrows(), total=len(df)):\n",
    "            isbn = book[1].isbn\n",
    "            img = prepare_img(isbn)\n",
    "            feature_map[idx[isbn]] = model(img)\n",
    "\n",
    "    return feature_map\n",
    "\n",
    "def img_sim(query_vec, itemset:dict):\n",
    "    res = {}\n",
    "    for isbn, feat_vec in itemset.items():\n",
    "        res[isbn] = nn.functional.cosine_similarity(query_vec, feat_vec)\n",
    "\n",
    "    sorted_res = sorted(res.items(), key = lambda item : -item[1])\n",
    "\n",
    "    return dict(sorted_res)"
   ]
  },
  {
   "cell_type": "code",
   "execution_count": 17,
   "metadata": {},
   "outputs": [
    {
     "name": "stderr",
     "output_type": "stream",
     "text": [
      "100%|██████████| 27013/27013 [01:11<00:00, 375.91it/s]\n"
     ]
    }
   ],
   "source": [
    "no_img = find_no_img(book_data)"
   ]
  },
  {
   "cell_type": "code",
   "execution_count": 18,
   "metadata": {},
   "outputs": [],
   "source": [
    "no_img_isbn = [book_data.iloc[x].isbn for x in no_img]\n",
    "\n",
    "n_book_data = book_data.drop(no_img, axis=0).reset_index(drop=True)\n",
    "n_rating_data = rating_data[~rating_data[\"isbn\"].isin(no_img_isbn)].reset_index(drop=True)\n",
    "\n",
    "user2idx = {v:k for k,v in enumerate(user_data['user_id'].unique())}\n",
    "book2idx = {v:k for k,v in enumerate(n_book_data['isbn'].unique())}"
   ]
  },
  {
   "cell_type": "code",
   "execution_count": 19,
   "metadata": {},
   "outputs": [
    {
     "name": "stderr",
     "output_type": "stream",
     "text": [
      "100%|██████████| 26689/26689 [12:54<00:00, 34.44it/s]\n",
      "100%|██████████| 26689/26689 [06:28<00:00, 68.67it/s]\n",
      "100%|██████████| 26689/26689 [58:09<00:00,  7.65it/s] \n"
     ]
    }
   ],
   "source": [
    "from torchvision.models import alexnet, AlexNet_Weights, resnet18, ResNet18_Weights, vgg16, VGG16_Weights\n",
    "\n",
    "# load pretrained alexnet\n",
    "model_alex = alexnet(weights=AlexNet_Weights.IMAGENET1K_V1)\n",
    "model_res = resnet18(weights=ResNet18_Weights.IMAGENET1K_V1)\n",
    "model_vgg = vgg16(weights=VGG16_Weights.IMAGENET1K_V1)\n",
    "\n",
    "# del last clf layer\n",
    "model_alex.classifier = model_alex.classifier[:-3]\n",
    "model_res.fc = nn.Identity()\n",
    "model_vgg.classifier = model_vgg.classifier[:-3]\n",
    "\n",
    "feat_map_res = make_feature_map(model_res,n_book_data, book2idx)\n",
    "feat_map_alex = make_feature_map(model_alex, n_book_data, book2idx)\n",
    "feat_map_vgg = make_feature_map(model_vgg,n_book_data, book2idx)"
   ]
  },
  {
   "cell_type": "markdown",
   "metadata": {},
   "source": [
    "#### make sim socre and remove no img items"
   ]
  },
  {
   "cell_type": "code",
   "execution_count": 20,
   "metadata": {},
   "outputs": [
    {
     "data": {
      "text/plain": [
       "{3: tensor([1.0000], grad_fn=<SumBackward1>),\n",
       " 802: tensor([0.8775], grad_fn=<SumBackward1>),\n",
       " 10256: tensor([0.8756], grad_fn=<SumBackward1>),\n",
       " 1181: tensor([0.8725], grad_fn=<SumBackward1>),\n",
       " 51: tensor([0.8652], grad_fn=<SumBackward1>),\n",
       " 982: tensor([0.8641], grad_fn=<SumBackward1>),\n",
       " 25845: tensor([0.8629], grad_fn=<SumBackward1>),\n",
       " 5559: tensor([0.8621], grad_fn=<SumBackward1>),\n",
       " 8845: tensor([0.8613], grad_fn=<SumBackward1>),\n",
       " 9273: tensor([0.8550], grad_fn=<SumBackward1>),\n",
       " 9881: tensor([0.8544], grad_fn=<SumBackward1>),\n",
       " 26287: tensor([0.8539], grad_fn=<SumBackward1>),\n",
       " 13638: tensor([0.8536], grad_fn=<SumBackward1>),\n",
       " 4663: tensor([0.8529], grad_fn=<SumBackward1>),\n",
       " 25184: tensor([0.8513], grad_fn=<SumBackward1>),\n",
       " 16084: tensor([0.8510], grad_fn=<SumBackward1>),\n",
       " 9782: tensor([0.8503], grad_fn=<SumBackward1>),\n",
       " 23923: tensor([0.8501], grad_fn=<SumBackward1>),\n",
       " 15483: tensor([0.8489], grad_fn=<SumBackward1>),\n",
       " 4814: tensor([0.8486], grad_fn=<SumBackward1>),\n",
       " 13127: tensor([0.8484], grad_fn=<SumBackward1>),\n",
       " 16389: tensor([0.8482], grad_fn=<SumBackward1>),\n",
       " 17064: tensor([0.8478], grad_fn=<SumBackward1>),\n",
       " 6357: tensor([0.8470], grad_fn=<SumBackward1>),\n",
       " 3756: tensor([0.8464], grad_fn=<SumBackward1>),\n",
       " 23936: tensor([0.8452], grad_fn=<SumBackward1>),\n",
       " 12688: tensor([0.8437], grad_fn=<SumBackward1>),\n",
       " 16435: tensor([0.8436], grad_fn=<SumBackward1>),\n",
       " 13154: tensor([0.8431], grad_fn=<SumBackward1>),\n",
       " 8681: tensor([0.8428], grad_fn=<SumBackward1>),\n",
       " 20352: tensor([0.8424], grad_fn=<SumBackward1>),\n",
       " 22232: tensor([0.8423], grad_fn=<SumBackward1>),\n",
       " 21797: tensor([0.8420], grad_fn=<SumBackward1>),\n",
       " 1619: tensor([0.8417], grad_fn=<SumBackward1>),\n",
       " 3760: tensor([0.8409], grad_fn=<SumBackward1>),\n",
       " 2222: tensor([0.8404], grad_fn=<SumBackward1>),\n",
       " 25212: tensor([0.8400], grad_fn=<SumBackward1>),\n",
       " 25687: tensor([0.8398], grad_fn=<SumBackward1>),\n",
       " 16312: tensor([0.8391], grad_fn=<SumBackward1>),\n",
       " 2965: tensor([0.8390], grad_fn=<SumBackward1>),\n",
       " 1535: tensor([0.8389], grad_fn=<SumBackward1>),\n",
       " 15493: tensor([0.8385], grad_fn=<SumBackward1>),\n",
       " 7733: tensor([0.8379], grad_fn=<SumBackward1>),\n",
       " 13428: tensor([0.8379], grad_fn=<SumBackward1>),\n",
       " 14616: tensor([0.8369], grad_fn=<SumBackward1>),\n",
       " 13541: tensor([0.8363], grad_fn=<SumBackward1>),\n",
       " 16850: tensor([0.8359], grad_fn=<SumBackward1>),\n",
       " 26240: tensor([0.8359], grad_fn=<SumBackward1>),\n",
       " 14475: tensor([0.8350], grad_fn=<SumBackward1>),\n",
       " 16093: tensor([0.8350], grad_fn=<SumBackward1>),\n",
       " 5339: tensor([0.8339], grad_fn=<SumBackward1>),\n",
       " 6243: tensor([0.8336], grad_fn=<SumBackward1>),\n",
       " 19305: tensor([0.8332], grad_fn=<SumBackward1>),\n",
       " 8162: tensor([0.8330], grad_fn=<SumBackward1>),\n",
       " 11084: tensor([0.8329], grad_fn=<SumBackward1>),\n",
       " 18061: tensor([0.8327], grad_fn=<SumBackward1>),\n",
       " 4309: tensor([0.8327], grad_fn=<SumBackward1>),\n",
       " 6171: tensor([0.8325], grad_fn=<SumBackward1>),\n",
       " 15273: tensor([0.8324], grad_fn=<SumBackward1>),\n",
       " 20066: tensor([0.8321], grad_fn=<SumBackward1>),\n",
       " 9817: tensor([0.8315], grad_fn=<SumBackward1>),\n",
       " 13653: tensor([0.8311], grad_fn=<SumBackward1>),\n",
       " 13196: tensor([0.8308], grad_fn=<SumBackward1>),\n",
       " 13554: tensor([0.8306], grad_fn=<SumBackward1>),\n",
       " 7325: tensor([0.8304], grad_fn=<SumBackward1>),\n",
       " 13987: tensor([0.8301], grad_fn=<SumBackward1>),\n",
       " 4243: tensor([0.8289], grad_fn=<SumBackward1>),\n",
       " 9434: tensor([0.8284], grad_fn=<SumBackward1>),\n",
       " 22950: tensor([0.8281], grad_fn=<SumBackward1>),\n",
       " 25882: tensor([0.8281], grad_fn=<SumBackward1>),\n",
       " 6240: tensor([0.8281], grad_fn=<SumBackward1>),\n",
       " 10823: tensor([0.8280], grad_fn=<SumBackward1>),\n",
       " 2910: tensor([0.8280], grad_fn=<SumBackward1>),\n",
       " 6614: tensor([0.8278], grad_fn=<SumBackward1>),\n",
       " 10172: tensor([0.8276], grad_fn=<SumBackward1>),\n",
       " 16120: tensor([0.8269], grad_fn=<SumBackward1>),\n",
       " 17741: tensor([0.8268], grad_fn=<SumBackward1>),\n",
       " 5563: tensor([0.8259], grad_fn=<SumBackward1>),\n",
       " 1834: tensor([0.8258], grad_fn=<SumBackward1>),\n",
       " 3798: tensor([0.8256], grad_fn=<SumBackward1>),\n",
       " 19770: tensor([0.8255], grad_fn=<SumBackward1>),\n",
       " 21696: tensor([0.8254], grad_fn=<SumBackward1>),\n",
       " 14598: tensor([0.8253], grad_fn=<SumBackward1>),\n",
       " 15395: tensor([0.8252], grad_fn=<SumBackward1>),\n",
       " 16035: tensor([0.8251], grad_fn=<SumBackward1>),\n",
       " 10137: tensor([0.8251], grad_fn=<SumBackward1>),\n",
       " 18096: tensor([0.8247], grad_fn=<SumBackward1>),\n",
       " 12030: tensor([0.8245], grad_fn=<SumBackward1>),\n",
       " 23042: tensor([0.8240], grad_fn=<SumBackward1>),\n",
       " 21443: tensor([0.8229], grad_fn=<SumBackward1>),\n",
       " 5640: tensor([0.8228], grad_fn=<SumBackward1>),\n",
       " 24250: tensor([0.8224], grad_fn=<SumBackward1>),\n",
       " 1516: tensor([0.8223], grad_fn=<SumBackward1>),\n",
       " 3653: tensor([0.8223], grad_fn=<SumBackward1>),\n",
       " 16166: tensor([0.8222], grad_fn=<SumBackward1>),\n",
       " 9917: tensor([0.8221], grad_fn=<SumBackward1>),\n",
       " 5571: tensor([0.8221], grad_fn=<SumBackward1>),\n",
       " 6268: tensor([0.8221], grad_fn=<SumBackward1>),\n",
       " 11319: tensor([0.8220], grad_fn=<SumBackward1>),\n",
       " 154: tensor([0.8220], grad_fn=<SumBackward1>),\n",
       " 1331: tensor([0.8219], grad_fn=<SumBackward1>),\n",
       " 13449: tensor([0.8212], grad_fn=<SumBackward1>),\n",
       " 574: tensor([0.8211], grad_fn=<SumBackward1>),\n",
       " 370: tensor([0.8211], grad_fn=<SumBackward1>),\n",
       " 3606: tensor([0.8211], grad_fn=<SumBackward1>),\n",
       " 12803: tensor([0.8210], grad_fn=<SumBackward1>),\n",
       " 4109: tensor([0.8209], grad_fn=<SumBackward1>),\n",
       " 17434: tensor([0.8209], grad_fn=<SumBackward1>),\n",
       " 20745: tensor([0.8207], grad_fn=<SumBackward1>),\n",
       " 19778: tensor([0.8205], grad_fn=<SumBackward1>),\n",
       " 2327: tensor([0.8202], grad_fn=<SumBackward1>),\n",
       " 11840: tensor([0.8201], grad_fn=<SumBackward1>),\n",
       " 16390: tensor([0.8200], grad_fn=<SumBackward1>),\n",
       " 13309: tensor([0.8198], grad_fn=<SumBackward1>),\n",
       " 16233: tensor([0.8198], grad_fn=<SumBackward1>),\n",
       " 10441: tensor([0.8196], grad_fn=<SumBackward1>),\n",
       " 9845: tensor([0.8196], grad_fn=<SumBackward1>),\n",
       " 312: tensor([0.8196], grad_fn=<SumBackward1>),\n",
       " 9674: tensor([0.8195], grad_fn=<SumBackward1>),\n",
       " 12612: tensor([0.8194], grad_fn=<SumBackward1>),\n",
       " 14443: tensor([0.8193], grad_fn=<SumBackward1>),\n",
       " 12900: tensor([0.8190], grad_fn=<SumBackward1>),\n",
       " 2243: tensor([0.8189], grad_fn=<SumBackward1>),\n",
       " 20575: tensor([0.8188], grad_fn=<SumBackward1>),\n",
       " 4015: tensor([0.8186], grad_fn=<SumBackward1>),\n",
       " 17140: tensor([0.8185], grad_fn=<SumBackward1>),\n",
       " 15366: tensor([0.8185], grad_fn=<SumBackward1>),\n",
       " 1830: tensor([0.8184], grad_fn=<SumBackward1>),\n",
       " 10708: tensor([0.8183], grad_fn=<SumBackward1>),\n",
       " 24997: tensor([0.8182], grad_fn=<SumBackward1>),\n",
       " 10995: tensor([0.8181], grad_fn=<SumBackward1>),\n",
       " 367: tensor([0.8181], grad_fn=<SumBackward1>),\n",
       " 7523: tensor([0.8180], grad_fn=<SumBackward1>),\n",
       " 20156: tensor([0.8180], grad_fn=<SumBackward1>),\n",
       " 26309: tensor([0.8178], grad_fn=<SumBackward1>),\n",
       " 10650: tensor([0.8175], grad_fn=<SumBackward1>),\n",
       " 16192: tensor([0.8174], grad_fn=<SumBackward1>),\n",
       " 13353: tensor([0.8174], grad_fn=<SumBackward1>),\n",
       " 1887: tensor([0.8173], grad_fn=<SumBackward1>),\n",
       " 13607: tensor([0.8169], grad_fn=<SumBackward1>),\n",
       " 11508: tensor([0.8168], grad_fn=<SumBackward1>),\n",
       " 5045: tensor([0.8168], grad_fn=<SumBackward1>),\n",
       " 19966: tensor([0.8166], grad_fn=<SumBackward1>),\n",
       " 1852: tensor([0.8166], grad_fn=<SumBackward1>),\n",
       " 1319: tensor([0.8161], grad_fn=<SumBackward1>),\n",
       " 24349: tensor([0.8160], grad_fn=<SumBackward1>),\n",
       " 14994: tensor([0.8158], grad_fn=<SumBackward1>),\n",
       " 20958: tensor([0.8158], grad_fn=<SumBackward1>),\n",
       " 10909: tensor([0.8155], grad_fn=<SumBackward1>),\n",
       " 16137: tensor([0.8154], grad_fn=<SumBackward1>),\n",
       " 21302: tensor([0.8153], grad_fn=<SumBackward1>),\n",
       " 2049: tensor([0.8152], grad_fn=<SumBackward1>),\n",
       " 1139: tensor([0.8149], grad_fn=<SumBackward1>),\n",
       " 18987: tensor([0.8149], grad_fn=<SumBackward1>),\n",
       " 10687: tensor([0.8149], grad_fn=<SumBackward1>),\n",
       " 21256: tensor([0.8147], grad_fn=<SumBackward1>),\n",
       " 15928: tensor([0.8146], grad_fn=<SumBackward1>),\n",
       " 25853: tensor([0.8145], grad_fn=<SumBackward1>),\n",
       " 23323: tensor([0.8144], grad_fn=<SumBackward1>),\n",
       " 11814: tensor([0.8143], grad_fn=<SumBackward1>),\n",
       " 23772: tensor([0.8142], grad_fn=<SumBackward1>),\n",
       " 20661: tensor([0.8141], grad_fn=<SumBackward1>),\n",
       " 5646: tensor([0.8140], grad_fn=<SumBackward1>),\n",
       " 5116: tensor([0.8139], grad_fn=<SumBackward1>),\n",
       " 24180: tensor([0.8139], grad_fn=<SumBackward1>),\n",
       " 8586: tensor([0.8139], grad_fn=<SumBackward1>),\n",
       " 8549: tensor([0.8139], grad_fn=<SumBackward1>),\n",
       " 9963: tensor([0.8138], grad_fn=<SumBackward1>),\n",
       " 15481: tensor([0.8138], grad_fn=<SumBackward1>),\n",
       " 23956: tensor([0.8134], grad_fn=<SumBackward1>),\n",
       " 11035: tensor([0.8134], grad_fn=<SumBackward1>),\n",
       " 1346: tensor([0.8133], grad_fn=<SumBackward1>),\n",
       " 22552: tensor([0.8129], grad_fn=<SumBackward1>),\n",
       " 1704: tensor([0.8129], grad_fn=<SumBackward1>),\n",
       " 11064: tensor([0.8128], grad_fn=<SumBackward1>),\n",
       " 25736: tensor([0.8127], grad_fn=<SumBackward1>),\n",
       " 13492: tensor([0.8125], grad_fn=<SumBackward1>),\n",
       " 9512: tensor([0.8125], grad_fn=<SumBackward1>),\n",
       " 2261: tensor([0.8124], grad_fn=<SumBackward1>),\n",
       " 1838: tensor([0.8124], grad_fn=<SumBackward1>),\n",
       " 23374: tensor([0.8123], grad_fn=<SumBackward1>),\n",
       " 1837: tensor([0.8122], grad_fn=<SumBackward1>),\n",
       " 5336: tensor([0.8121], grad_fn=<SumBackward1>),\n",
       " 14800: tensor([0.8120], grad_fn=<SumBackward1>),\n",
       " 94: tensor([0.8119], grad_fn=<SumBackward1>),\n",
       " 6719: tensor([0.8119], grad_fn=<SumBackward1>),\n",
       " 13923: tensor([0.8118], grad_fn=<SumBackward1>),\n",
       " 12525: tensor([0.8118], grad_fn=<SumBackward1>),\n",
       " 25140: tensor([0.8117], grad_fn=<SumBackward1>),\n",
       " 13527: tensor([0.8113], grad_fn=<SumBackward1>),\n",
       " 15345: tensor([0.8113], grad_fn=<SumBackward1>),\n",
       " 9543: tensor([0.8113], grad_fn=<SumBackward1>),\n",
       " 14523: tensor([0.8112], grad_fn=<SumBackward1>),\n",
       " 2191: tensor([0.8111], grad_fn=<SumBackward1>),\n",
       " 13876: tensor([0.8110], grad_fn=<SumBackward1>),\n",
       " 7113: tensor([0.8110], grad_fn=<SumBackward1>),\n",
       " 20519: tensor([0.8110], grad_fn=<SumBackward1>),\n",
       " 5343: tensor([0.8108], grad_fn=<SumBackward1>),\n",
       " 26571: tensor([0.8107], grad_fn=<SumBackward1>),\n",
       " 24476: tensor([0.8106], grad_fn=<SumBackward1>),\n",
       " 17169: tensor([0.8106], grad_fn=<SumBackward1>),\n",
       " 11102: tensor([0.8106], grad_fn=<SumBackward1>),\n",
       " 12071: tensor([0.8103], grad_fn=<SumBackward1>),\n",
       " 19570: tensor([0.8102], grad_fn=<SumBackward1>),\n",
       " 12629: tensor([0.8102], grad_fn=<SumBackward1>),\n",
       " 12539: tensor([0.8100], grad_fn=<SumBackward1>),\n",
       " 16452: tensor([0.8099], grad_fn=<SumBackward1>),\n",
       " 2343: tensor([0.8098], grad_fn=<SumBackward1>),\n",
       " 10929: tensor([0.8096], grad_fn=<SumBackward1>),\n",
       " 14445: tensor([0.8095], grad_fn=<SumBackward1>),\n",
       " 10245: tensor([0.8095], grad_fn=<SumBackward1>),\n",
       " 16254: tensor([0.8095], grad_fn=<SumBackward1>),\n",
       " 6965: tensor([0.8094], grad_fn=<SumBackward1>),\n",
       " 3941: tensor([0.8094], grad_fn=<SumBackward1>),\n",
       " 7695: tensor([0.8092], grad_fn=<SumBackward1>),\n",
       " 17901: tensor([0.8091], grad_fn=<SumBackward1>),\n",
       " 1008: tensor([0.8088], grad_fn=<SumBackward1>),\n",
       " 17301: tensor([0.8088], grad_fn=<SumBackward1>),\n",
       " 17862: tensor([0.8087], grad_fn=<SumBackward1>),\n",
       " 1505: tensor([0.8085], grad_fn=<SumBackward1>),\n",
       " 16786: tensor([0.8085], grad_fn=<SumBackward1>),\n",
       " 744: tensor([0.8085], grad_fn=<SumBackward1>),\n",
       " 18111: tensor([0.8084], grad_fn=<SumBackward1>),\n",
       " 9484: tensor([0.8084], grad_fn=<SumBackward1>),\n",
       " 22935: tensor([0.8083], grad_fn=<SumBackward1>),\n",
       " 1829: tensor([0.8082], grad_fn=<SumBackward1>),\n",
       " 10537: tensor([0.8080], grad_fn=<SumBackward1>),\n",
       " 19704: tensor([0.8079], grad_fn=<SumBackward1>),\n",
       " 20743: tensor([0.8078], grad_fn=<SumBackward1>),\n",
       " 13348: tensor([0.8077], grad_fn=<SumBackward1>),\n",
       " 13854: tensor([0.8077], grad_fn=<SumBackward1>),\n",
       " 24587: tensor([0.8076], grad_fn=<SumBackward1>),\n",
       " 8382: tensor([0.8076], grad_fn=<SumBackward1>),\n",
       " 8640: tensor([0.8072], grad_fn=<SumBackward1>),\n",
       " 12992: tensor([0.8071], grad_fn=<SumBackward1>),\n",
       " 1692: tensor([0.8071], grad_fn=<SumBackward1>),\n",
       " 24135: tensor([0.8071], grad_fn=<SumBackward1>),\n",
       " 8752: tensor([0.8070], grad_fn=<SumBackward1>),\n",
       " 9909: tensor([0.8066], grad_fn=<SumBackward1>),\n",
       " 19432: tensor([0.8066], grad_fn=<SumBackward1>),\n",
       " 381: tensor([0.8066], grad_fn=<SumBackward1>),\n",
       " 11946: tensor([0.8066], grad_fn=<SumBackward1>),\n",
       " 3927: tensor([0.8064], grad_fn=<SumBackward1>),\n",
       " 485: tensor([0.8064], grad_fn=<SumBackward1>),\n",
       " 7486: tensor([0.8061], grad_fn=<SumBackward1>),\n",
       " 13478: tensor([0.8060], grad_fn=<SumBackward1>),\n",
       " 24602: tensor([0.8060], grad_fn=<SumBackward1>),\n",
       " 19569: tensor([0.8059], grad_fn=<SumBackward1>),\n",
       " 18071: tensor([0.8058], grad_fn=<SumBackward1>),\n",
       " 6924: tensor([0.8058], grad_fn=<SumBackward1>),\n",
       " 11446: tensor([0.8058], grad_fn=<SumBackward1>),\n",
       " 11314: tensor([0.8058], grad_fn=<SumBackward1>),\n",
       " 2404: tensor([0.8057], grad_fn=<SumBackward1>),\n",
       " 1665: tensor([0.8056], grad_fn=<SumBackward1>),\n",
       " 23922: tensor([0.8056], grad_fn=<SumBackward1>),\n",
       " 23662: tensor([0.8056], grad_fn=<SumBackward1>),\n",
       " 15888: tensor([0.8056], grad_fn=<SumBackward1>),\n",
       " 13234: tensor([0.8054], grad_fn=<SumBackward1>),\n",
       " 16391: tensor([0.8054], grad_fn=<SumBackward1>),\n",
       " 12914: tensor([0.8053], grad_fn=<SumBackward1>),\n",
       " 20736: tensor([0.8052], grad_fn=<SumBackward1>),\n",
       " 22801: tensor([0.8052], grad_fn=<SumBackward1>),\n",
       " 13611: tensor([0.8048], grad_fn=<SumBackward1>),\n",
       " 12825: tensor([0.8048], grad_fn=<SumBackward1>),\n",
       " 17522: tensor([0.8048], grad_fn=<SumBackward1>),\n",
       " 13529: tensor([0.8047], grad_fn=<SumBackward1>),\n",
       " 25932: tensor([0.8046], grad_fn=<SumBackward1>),\n",
       " 164: tensor([0.8046], grad_fn=<SumBackward1>),\n",
       " 7017: tensor([0.8046], grad_fn=<SumBackward1>),\n",
       " 17479: tensor([0.8045], grad_fn=<SumBackward1>),\n",
       " 1217: tensor([0.8045], grad_fn=<SumBackward1>),\n",
       " 18081: tensor([0.8045], grad_fn=<SumBackward1>),\n",
       " 6043: tensor([0.8044], grad_fn=<SumBackward1>),\n",
       " 10469: tensor([0.8044], grad_fn=<SumBackward1>),\n",
       " 21651: tensor([0.8043], grad_fn=<SumBackward1>),\n",
       " 24403: tensor([0.8042], grad_fn=<SumBackward1>),\n",
       " 3716: tensor([0.8040], grad_fn=<SumBackward1>),\n",
       " 8264: tensor([0.8039], grad_fn=<SumBackward1>),\n",
       " 20151: tensor([0.8038], grad_fn=<SumBackward1>),\n",
       " 26353: tensor([0.8038], grad_fn=<SumBackward1>),\n",
       " 21178: tensor([0.8037], grad_fn=<SumBackward1>),\n",
       " 13860: tensor([0.8037], grad_fn=<SumBackward1>),\n",
       " 171: tensor([0.8036], grad_fn=<SumBackward1>),\n",
       " 20727: tensor([0.8035], grad_fn=<SumBackward1>),\n",
       " 10938: tensor([0.8035], grad_fn=<SumBackward1>),\n",
       " 8815: tensor([0.8034], grad_fn=<SumBackward1>),\n",
       " 15548: tensor([0.8034], grad_fn=<SumBackward1>),\n",
       " 16906: tensor([0.8032], grad_fn=<SumBackward1>),\n",
       " 9415: tensor([0.8032], grad_fn=<SumBackward1>),\n",
       " 12976: tensor([0.8031], grad_fn=<SumBackward1>),\n",
       " 9040: tensor([0.8028], grad_fn=<SumBackward1>),\n",
       " 22402: tensor([0.8027], grad_fn=<SumBackward1>),\n",
       " 145: tensor([0.8027], grad_fn=<SumBackward1>),\n",
       " 23165: tensor([0.8027], grad_fn=<SumBackward1>),\n",
       " 2273: tensor([0.8027], grad_fn=<SumBackward1>),\n",
       " 22104: tensor([0.8026], grad_fn=<SumBackward1>),\n",
       " 8284: tensor([0.8026], grad_fn=<SumBackward1>),\n",
       " 16112: tensor([0.8026], grad_fn=<SumBackward1>),\n",
       " 15344: tensor([0.8025], grad_fn=<SumBackward1>),\n",
       " 3942: tensor([0.8022], grad_fn=<SumBackward1>),\n",
       " 14140: tensor([0.8021], grad_fn=<SumBackward1>),\n",
       " 7097: tensor([0.8020], grad_fn=<SumBackward1>),\n",
       " 13781: tensor([0.8018], grad_fn=<SumBackward1>),\n",
       " 13866: tensor([0.8017], grad_fn=<SumBackward1>),\n",
       " 13763: tensor([0.8017], grad_fn=<SumBackward1>),\n",
       " 10667: tensor([0.8016], grad_fn=<SumBackward1>),\n",
       " 8188: tensor([0.8015], grad_fn=<SumBackward1>),\n",
       " 15830: tensor([0.8014], grad_fn=<SumBackward1>),\n",
       " 2497: tensor([0.8013], grad_fn=<SumBackward1>),\n",
       " 1488: tensor([0.8013], grad_fn=<SumBackward1>),\n",
       " 6926: tensor([0.8011], grad_fn=<SumBackward1>),\n",
       " 11025: tensor([0.8011], grad_fn=<SumBackward1>),\n",
       " 10718: tensor([0.8011], grad_fn=<SumBackward1>),\n",
       " 136: tensor([0.8009], grad_fn=<SumBackward1>),\n",
       " 1987: tensor([0.8009], grad_fn=<SumBackward1>),\n",
       " 2189: tensor([0.8008], grad_fn=<SumBackward1>),\n",
       " 19459: tensor([0.8008], grad_fn=<SumBackward1>),\n",
       " 13368: tensor([0.8008], grad_fn=<SumBackward1>),\n",
       " 19585: tensor([0.8008], grad_fn=<SumBackward1>),\n",
       " 25307: tensor([0.8008], grad_fn=<SumBackward1>),\n",
       " 17299: tensor([0.8007], grad_fn=<SumBackward1>),\n",
       " 10992: tensor([0.8007], grad_fn=<SumBackward1>),\n",
       " 18040: tensor([0.8006], grad_fn=<SumBackward1>),\n",
       " 19568: tensor([0.8006], grad_fn=<SumBackward1>),\n",
       " 10964: tensor([0.8006], grad_fn=<SumBackward1>),\n",
       " 6576: tensor([0.8005], grad_fn=<SumBackward1>),\n",
       " 10271: tensor([0.8005], grad_fn=<SumBackward1>),\n",
       " 8794: tensor([0.8004], grad_fn=<SumBackward1>),\n",
       " 8240: tensor([0.8002], grad_fn=<SumBackward1>),\n",
       " 22055: tensor([0.8001], grad_fn=<SumBackward1>),\n",
       " 18803: tensor([0.8001], grad_fn=<SumBackward1>),\n",
       " 11146: tensor([0.8000], grad_fn=<SumBackward1>),\n",
       " 12780: tensor([0.8000], grad_fn=<SumBackward1>),\n",
       " 15202: tensor([0.7999], grad_fn=<SumBackward1>),\n",
       " 8427: tensor([0.7999], grad_fn=<SumBackward1>),\n",
       " 25415: tensor([0.7999], grad_fn=<SumBackward1>),\n",
       " 7098: tensor([0.7999], grad_fn=<SumBackward1>),\n",
       " 5475: tensor([0.7997], grad_fn=<SumBackward1>),\n",
       " 5918: tensor([0.7997], grad_fn=<SumBackward1>),\n",
       " 15128: tensor([0.7996], grad_fn=<SumBackward1>),\n",
       " 20320: tensor([0.7996], grad_fn=<SumBackward1>),\n",
       " 7689: tensor([0.7996], grad_fn=<SumBackward1>),\n",
       " 2335: tensor([0.7995], grad_fn=<SumBackward1>),\n",
       " 8757: tensor([0.7994], grad_fn=<SumBackward1>),\n",
       " 568: tensor([0.7993], grad_fn=<SumBackward1>),\n",
       " 4457: tensor([0.7993], grad_fn=<SumBackward1>),\n",
       " 7729: tensor([0.7993], grad_fn=<SumBackward1>),\n",
       " 19064: tensor([0.7992], grad_fn=<SumBackward1>),\n",
       " 233: tensor([0.7992], grad_fn=<SumBackward1>),\n",
       " 6819: tensor([0.7991], grad_fn=<SumBackward1>),\n",
       " 22041: tensor([0.7991], grad_fn=<SumBackward1>),\n",
       " 12644: tensor([0.7991], grad_fn=<SumBackward1>),\n",
       " 19714: tensor([0.7990], grad_fn=<SumBackward1>),\n",
       " 22949: tensor([0.7990], grad_fn=<SumBackward1>),\n",
       " 22426: tensor([0.7990], grad_fn=<SumBackward1>),\n",
       " 23811: tensor([0.7988], grad_fn=<SumBackward1>),\n",
       " 4374: tensor([0.7988], grad_fn=<SumBackward1>),\n",
       " 5533: tensor([0.7987], grad_fn=<SumBackward1>),\n",
       " 13889: tensor([0.7985], grad_fn=<SumBackward1>),\n",
       " 16822: tensor([0.7985], grad_fn=<SumBackward1>),\n",
       " 12122: tensor([0.7985], grad_fn=<SumBackward1>),\n",
       " 12812: tensor([0.7984], grad_fn=<SumBackward1>),\n",
       " 14596: tensor([0.7982], grad_fn=<SumBackward1>),\n",
       " 25962: tensor([0.7982], grad_fn=<SumBackward1>),\n",
       " 16638: tensor([0.7980], grad_fn=<SumBackward1>),\n",
       " 19536: tensor([0.7980], grad_fn=<SumBackward1>),\n",
       " 1284: tensor([0.7979], grad_fn=<SumBackward1>),\n",
       " 4149: tensor([0.7978], grad_fn=<SumBackward1>),\n",
       " 14266: tensor([0.7978], grad_fn=<SumBackward1>),\n",
       " 10095: tensor([0.7978], grad_fn=<SumBackward1>),\n",
       " 19293: tensor([0.7976], grad_fn=<SumBackward1>),\n",
       " 2123: tensor([0.7975], grad_fn=<SumBackward1>),\n",
       " 17883: tensor([0.7975], grad_fn=<SumBackward1>),\n",
       " 24121: tensor([0.7975], grad_fn=<SumBackward1>),\n",
       " 3619: tensor([0.7974], grad_fn=<SumBackward1>),\n",
       " 5567: tensor([0.7974], grad_fn=<SumBackward1>),\n",
       " 10153: tensor([0.7974], grad_fn=<SumBackward1>),\n",
       " 9914: tensor([0.7971], grad_fn=<SumBackward1>),\n",
       " 15642: tensor([0.7970], grad_fn=<SumBackward1>),\n",
       " 15780: tensor([0.7970], grad_fn=<SumBackward1>),\n",
       " 2239: tensor([0.7969], grad_fn=<SumBackward1>),\n",
       " 2854: tensor([0.7969], grad_fn=<SumBackward1>),\n",
       " 24165: tensor([0.7969], grad_fn=<SumBackward1>),\n",
       " 15414: tensor([0.7969], grad_fn=<SumBackward1>),\n",
       " 3504: tensor([0.7968], grad_fn=<SumBackward1>),\n",
       " 6641: tensor([0.7967], grad_fn=<SumBackward1>),\n",
       " 8737: tensor([0.7967], grad_fn=<SumBackward1>),\n",
       " 25268: tensor([0.7966], grad_fn=<SumBackward1>),\n",
       " 5517: tensor([0.7966], grad_fn=<SumBackward1>),\n",
       " 8958: tensor([0.7966], grad_fn=<SumBackward1>),\n",
       " 9638: tensor([0.7965], grad_fn=<SumBackward1>),\n",
       " 18169: tensor([0.7964], grad_fn=<SumBackward1>),\n",
       " 2814: tensor([0.7963], grad_fn=<SumBackward1>),\n",
       " 13089: tensor([0.7962], grad_fn=<SumBackward1>),\n",
       " 5544: tensor([0.7962], grad_fn=<SumBackward1>),\n",
       " 2474: tensor([0.7962], grad_fn=<SumBackward1>),\n",
       " 985: tensor([0.7961], grad_fn=<SumBackward1>),\n",
       " 5827: tensor([0.7961], grad_fn=<SumBackward1>),\n",
       " 3840: tensor([0.7961], grad_fn=<SumBackward1>),\n",
       " 13826: tensor([0.7960], grad_fn=<SumBackward1>),\n",
       " 21026: tensor([0.7960], grad_fn=<SumBackward1>),\n",
       " 24007: tensor([0.7959], grad_fn=<SumBackward1>),\n",
       " 818: tensor([0.7959], grad_fn=<SumBackward1>),\n",
       " 21521: tensor([0.7958], grad_fn=<SumBackward1>),\n",
       " 5705: tensor([0.7958], grad_fn=<SumBackward1>),\n",
       " 14005: tensor([0.7957], grad_fn=<SumBackward1>),\n",
       " 16672: tensor([0.7955], grad_fn=<SumBackward1>),\n",
       " 15012: tensor([0.7955], grad_fn=<SumBackward1>),\n",
       " 14966: tensor([0.7955], grad_fn=<SumBackward1>),\n",
       " 25337: tensor([0.7954], grad_fn=<SumBackward1>),\n",
       " 150: tensor([0.7954], grad_fn=<SumBackward1>),\n",
       " 3717: tensor([0.7954], grad_fn=<SumBackward1>),\n",
       " 25979: tensor([0.7951], grad_fn=<SumBackward1>),\n",
       " 1061: tensor([0.7950], grad_fn=<SumBackward1>),\n",
       " 23318: tensor([0.7949], grad_fn=<SumBackward1>),\n",
       " 4617: tensor([0.7948], grad_fn=<SumBackward1>),\n",
       " 20525: tensor([0.7948], grad_fn=<SumBackward1>),\n",
       " 21347: tensor([0.7947], grad_fn=<SumBackward1>),\n",
       " 18237: tensor([0.7947], grad_fn=<SumBackward1>),\n",
       " 3052: tensor([0.7946], grad_fn=<SumBackward1>),\n",
       " 8428: tensor([0.7945], grad_fn=<SumBackward1>),\n",
       " 19926: tensor([0.7944], grad_fn=<SumBackward1>),\n",
       " 1411: tensor([0.7944], grad_fn=<SumBackward1>),\n",
       " 6744: tensor([0.7943], grad_fn=<SumBackward1>),\n",
       " 20268: tensor([0.7943], grad_fn=<SumBackward1>),\n",
       " 6982: tensor([0.7943], grad_fn=<SumBackward1>),\n",
       " 24114: tensor([0.7943], grad_fn=<SumBackward1>),\n",
       " 16885: tensor([0.7941], grad_fn=<SumBackward1>),\n",
       " 10065: tensor([0.7940], grad_fn=<SumBackward1>),\n",
       " 5539: tensor([0.7939], grad_fn=<SumBackward1>),\n",
       " 12053: tensor([0.7938], grad_fn=<SumBackward1>),\n",
       " 21697: tensor([0.7937], grad_fn=<SumBackward1>),\n",
       " 1399: tensor([0.7936], grad_fn=<SumBackward1>),\n",
       " 4553: tensor([0.7936], grad_fn=<SumBackward1>),\n",
       " 21350: tensor([0.7935], grad_fn=<SumBackward1>),\n",
       " 11907: tensor([0.7935], grad_fn=<SumBackward1>),\n",
       " 4140: tensor([0.7934], grad_fn=<SumBackward1>),\n",
       " 14514: tensor([0.7934], grad_fn=<SumBackward1>),\n",
       " 13038: tensor([0.7934], grad_fn=<SumBackward1>),\n",
       " 6399: tensor([0.7934], grad_fn=<SumBackward1>),\n",
       " 18420: tensor([0.7933], grad_fn=<SumBackward1>),\n",
       " 11884: tensor([0.7933], grad_fn=<SumBackward1>),\n",
       " 25985: tensor([0.7933], grad_fn=<SumBackward1>),\n",
       " 6514: tensor([0.7933], grad_fn=<SumBackward1>),\n",
       " 4032: tensor([0.7932], grad_fn=<SumBackward1>),\n",
       " 13225: tensor([0.7932], grad_fn=<SumBackward1>),\n",
       " 280: tensor([0.7929], grad_fn=<SumBackward1>),\n",
       " 223: tensor([0.7929], grad_fn=<SumBackward1>),\n",
       " 609: tensor([0.7929], grad_fn=<SumBackward1>),\n",
       " 11620: tensor([0.7929], grad_fn=<SumBackward1>),\n",
       " 1439: tensor([0.7929], grad_fn=<SumBackward1>),\n",
       " 16584: tensor([0.7929], grad_fn=<SumBackward1>),\n",
       " 22379: tensor([0.7927], grad_fn=<SumBackward1>),\n",
       " 22412: tensor([0.7927], grad_fn=<SumBackward1>),\n",
       " 13228: tensor([0.7927], grad_fn=<SumBackward1>),\n",
       " 26398: tensor([0.7927], grad_fn=<SumBackward1>),\n",
       " 14796: tensor([0.7927], grad_fn=<SumBackward1>),\n",
       " 18417: tensor([0.7926], grad_fn=<SumBackward1>),\n",
       " 25901: tensor([0.7926], grad_fn=<SumBackward1>),\n",
       " 16388: tensor([0.7926], grad_fn=<SumBackward1>),\n",
       " 13345: tensor([0.7926], grad_fn=<SumBackward1>),\n",
       " 10748: tensor([0.7926], grad_fn=<SumBackward1>),\n",
       " 10968: tensor([0.7926], grad_fn=<SumBackward1>),\n",
       " 12325: tensor([0.7926], grad_fn=<SumBackward1>),\n",
       " 22276: tensor([0.7925], grad_fn=<SumBackward1>),\n",
       " 8708: tensor([0.7925], grad_fn=<SumBackward1>),\n",
       " 25225: tensor([0.7925], grad_fn=<SumBackward1>),\n",
       " 7849: tensor([0.7924], grad_fn=<SumBackward1>),\n",
       " 2750: tensor([0.7923], grad_fn=<SumBackward1>),\n",
       " 4743: tensor([0.7922], grad_fn=<SumBackward1>),\n",
       " 25010: tensor([0.7921], grad_fn=<SumBackward1>),\n",
       " 19657: tensor([0.7921], grad_fn=<SumBackward1>),\n",
       " 14965: tensor([0.7920], grad_fn=<SumBackward1>),\n",
       " 4273: tensor([0.7920], grad_fn=<SumBackward1>),\n",
       " 11691: tensor([0.7920], grad_fn=<SumBackward1>),\n",
       " 10702: tensor([0.7919], grad_fn=<SumBackward1>),\n",
       " 2650: tensor([0.7919], grad_fn=<SumBackward1>),\n",
       " 3056: tensor([0.7918], grad_fn=<SumBackward1>),\n",
       " 6130: tensor([0.7918], grad_fn=<SumBackward1>),\n",
       " 15544: tensor([0.7917], grad_fn=<SumBackward1>),\n",
       " 14806: tensor([0.7917], grad_fn=<SumBackward1>),\n",
       " 2183: tensor([0.7916], grad_fn=<SumBackward1>),\n",
       " 11460: tensor([0.7916], grad_fn=<SumBackward1>),\n",
       " 2204: tensor([0.7916], grad_fn=<SumBackward1>),\n",
       " 9017: tensor([0.7916], grad_fn=<SumBackward1>),\n",
       " 14108: tensor([0.7915], grad_fn=<SumBackward1>),\n",
       " 4021: tensor([0.7914], grad_fn=<SumBackward1>),\n",
       " 23178: tensor([0.7914], grad_fn=<SumBackward1>),\n",
       " 18167: tensor([0.7913], grad_fn=<SumBackward1>),\n",
       " 6684: tensor([0.7912], grad_fn=<SumBackward1>),\n",
       " 9493: tensor([0.7911], grad_fn=<SumBackward1>),\n",
       " 8819: tensor([0.7911], grad_fn=<SumBackward1>),\n",
       " 18247: tensor([0.7910], grad_fn=<SumBackward1>),\n",
       " 2818: tensor([0.7910], grad_fn=<SumBackward1>),\n",
       " 2483: tensor([0.7909], grad_fn=<SumBackward1>),\n",
       " 17697: tensor([0.7909], grad_fn=<SumBackward1>),\n",
       " 20681: tensor([0.7908], grad_fn=<SumBackward1>),\n",
       " 9164: tensor([0.7908], grad_fn=<SumBackward1>),\n",
       " 26573: tensor([0.7908], grad_fn=<SumBackward1>),\n",
       " 8160: tensor([0.7907], grad_fn=<SumBackward1>),\n",
       " 11789: tensor([0.7907], grad_fn=<SumBackward1>),\n",
       " 7473: tensor([0.7906], grad_fn=<SumBackward1>),\n",
       " 19317: tensor([0.7906], grad_fn=<SumBackward1>),\n",
       " 20750: tensor([0.7905], grad_fn=<SumBackward1>),\n",
       " 4482: tensor([0.7905], grad_fn=<SumBackward1>),\n",
       " 10296: tensor([0.7904], grad_fn=<SumBackward1>),\n",
       " 4828: tensor([0.7904], grad_fn=<SumBackward1>),\n",
       " 21314: tensor([0.7904], grad_fn=<SumBackward1>),\n",
       " 23510: tensor([0.7903], grad_fn=<SumBackward1>),\n",
       " 4708: tensor([0.7903], grad_fn=<SumBackward1>),\n",
       " 8435: tensor([0.7902], grad_fn=<SumBackward1>),\n",
       " 14070: tensor([0.7902], grad_fn=<SumBackward1>),\n",
       " 16047: tensor([0.7902], grad_fn=<SumBackward1>),\n",
       " 20749: tensor([0.7901], grad_fn=<SumBackward1>),\n",
       " 10591: tensor([0.7901], grad_fn=<SumBackward1>),\n",
       " 14929: tensor([0.7901], grad_fn=<SumBackward1>),\n",
       " 4467: tensor([0.7900], grad_fn=<SumBackward1>),\n",
       " 11097: tensor([0.7898], grad_fn=<SumBackward1>),\n",
       " 20473: tensor([0.7898], grad_fn=<SumBackward1>),\n",
       " 2767: tensor([0.7896], grad_fn=<SumBackward1>),\n",
       " 25869: tensor([0.7895], grad_fn=<SumBackward1>),\n",
       " 6681: tensor([0.7895], grad_fn=<SumBackward1>),\n",
       " 13800: tensor([0.7894], grad_fn=<SumBackward1>),\n",
       " 1716: tensor([0.7894], grad_fn=<SumBackward1>),\n",
       " 25840: tensor([0.7893], grad_fn=<SumBackward1>),\n",
       " 3239: tensor([0.7892], grad_fn=<SumBackward1>),\n",
       " 22006: tensor([0.7892], grad_fn=<SumBackward1>),\n",
       " 9876: tensor([0.7891], grad_fn=<SumBackward1>),\n",
       " 24867: tensor([0.7891], grad_fn=<SumBackward1>),\n",
       " 23583: tensor([0.7891], grad_fn=<SumBackward1>),\n",
       " 18346: tensor([0.7890], grad_fn=<SumBackward1>),\n",
       " 16852: tensor([0.7889], grad_fn=<SumBackward1>),\n",
       " 21865: tensor([0.7888], grad_fn=<SumBackward1>),\n",
       " 25483: tensor([0.7888], grad_fn=<SumBackward1>),\n",
       " 15730: tensor([0.7887], grad_fn=<SumBackward1>),\n",
       " 8315: tensor([0.7885], grad_fn=<SumBackward1>),\n",
       " 3627: tensor([0.7885], grad_fn=<SumBackward1>),\n",
       " 23164: tensor([0.7884], grad_fn=<SumBackward1>),\n",
       " 21471: tensor([0.7883], grad_fn=<SumBackward1>),\n",
       " 11855: tensor([0.7883], grad_fn=<SumBackward1>),\n",
       " 17202: tensor([0.7883], grad_fn=<SumBackward1>),\n",
       " 17913: tensor([0.7883], grad_fn=<SumBackward1>),\n",
       " 24932: tensor([0.7882], grad_fn=<SumBackward1>),\n",
       " 10792: tensor([0.7882], grad_fn=<SumBackward1>),\n",
       " 14314: tensor([0.7881], grad_fn=<SumBackward1>),\n",
       " 24113: tensor([0.7881], grad_fn=<SumBackward1>),\n",
       " 18400: tensor([0.7881], grad_fn=<SumBackward1>),\n",
       " 20987: tensor([0.7880], grad_fn=<SumBackward1>),\n",
       " 18754: tensor([0.7880], grad_fn=<SumBackward1>),\n",
       " 22920: tensor([0.7879], grad_fn=<SumBackward1>),\n",
       " 23035: tensor([0.7878], grad_fn=<SumBackward1>),\n",
       " 490: tensor([0.7878], grad_fn=<SumBackward1>),\n",
       " 9516: tensor([0.7878], grad_fn=<SumBackward1>),\n",
       " 19201: tensor([0.7877], grad_fn=<SumBackward1>),\n",
       " 9867: tensor([0.7877], grad_fn=<SumBackward1>),\n",
       " 25870: tensor([0.7876], grad_fn=<SumBackward1>),\n",
       " 10138: tensor([0.7875], grad_fn=<SumBackward1>),\n",
       " 21159: tensor([0.7874], grad_fn=<SumBackward1>),\n",
       " 6317: tensor([0.7874], grad_fn=<SumBackward1>),\n",
       " 26215: tensor([0.7874], grad_fn=<SumBackward1>),\n",
       " 6436: tensor([0.7873], grad_fn=<SumBackward1>),\n",
       " 10490: tensor([0.7872], grad_fn=<SumBackward1>),\n",
       " 4833: tensor([0.7872], grad_fn=<SumBackward1>),\n",
       " 2307: tensor([0.7870], grad_fn=<SumBackward1>),\n",
       " 6170: tensor([0.7870], grad_fn=<SumBackward1>),\n",
       " 2905: tensor([0.7869], grad_fn=<SumBackward1>),\n",
       " 11185: tensor([0.7869], grad_fn=<SumBackward1>),\n",
       " 1691: tensor([0.7868], grad_fn=<SumBackward1>),\n",
       " 19610: tensor([0.7868], grad_fn=<SumBackward1>),\n",
       " 14543: tensor([0.7867], grad_fn=<SumBackward1>),\n",
       " 7188: tensor([0.7867], grad_fn=<SumBackward1>),\n",
       " 465: tensor([0.7867], grad_fn=<SumBackward1>),\n",
       " 6325: tensor([0.7867], grad_fn=<SumBackward1>),\n",
       " 19981: tensor([0.7866], grad_fn=<SumBackward1>),\n",
       " 20820: tensor([0.7865], grad_fn=<SumBackward1>),\n",
       " 15002: tensor([0.7865], grad_fn=<SumBackward1>),\n",
       " 22636: tensor([0.7863], grad_fn=<SumBackward1>),\n",
       " 11942: tensor([0.7863], grad_fn=<SumBackward1>),\n",
       " 14430: tensor([0.7863], grad_fn=<SumBackward1>),\n",
       " 2993: tensor([0.7861], grad_fn=<SumBackward1>),\n",
       " 10542: tensor([0.7860], grad_fn=<SumBackward1>),\n",
       " 21708: tensor([0.7860], grad_fn=<SumBackward1>),\n",
       " 20879: tensor([0.7860], grad_fn=<SumBackward1>),\n",
       " 8106: tensor([0.7859], grad_fn=<SumBackward1>),\n",
       " 2253: tensor([0.7858], grad_fn=<SumBackward1>),\n",
       " 11153: tensor([0.7856], grad_fn=<SumBackward1>),\n",
       " 21769: tensor([0.7856], grad_fn=<SumBackward1>),\n",
       " 2141: tensor([0.7856], grad_fn=<SumBackward1>),\n",
       " 25143: tensor([0.7856], grad_fn=<SumBackward1>),\n",
       " 6309: tensor([0.7856], grad_fn=<SumBackward1>),\n",
       " 400: tensor([0.7855], grad_fn=<SumBackward1>),\n",
       " 20974: tensor([0.7855], grad_fn=<SumBackward1>),\n",
       " 68: tensor([0.7854], grad_fn=<SumBackward1>),\n",
       " 6319: tensor([0.7854], grad_fn=<SumBackward1>),\n",
       " 11296: tensor([0.7853], grad_fn=<SumBackward1>),\n",
       " 10794: tensor([0.7853], grad_fn=<SumBackward1>),\n",
       " 9094: tensor([0.7853], grad_fn=<SumBackward1>),\n",
       " 18569: tensor([0.7851], grad_fn=<SumBackward1>),\n",
       " 10932: tensor([0.7851], grad_fn=<SumBackward1>),\n",
       " 19588: tensor([0.7848], grad_fn=<SumBackward1>),\n",
       " 2678: tensor([0.7848], grad_fn=<SumBackward1>),\n",
       " 25073: tensor([0.7846], grad_fn=<SumBackward1>),\n",
       " 13524: tensor([0.7846], grad_fn=<SumBackward1>),\n",
       " 20403: tensor([0.7846], grad_fn=<SumBackward1>),\n",
       " 7637: tensor([0.7845], grad_fn=<SumBackward1>),\n",
       " 10584: tensor([0.7845], grad_fn=<SumBackward1>),\n",
       " 2566: tensor([0.7845], grad_fn=<SumBackward1>),\n",
       " 3518: tensor([0.7845], grad_fn=<SumBackward1>),\n",
       " 18786: tensor([0.7844], grad_fn=<SumBackward1>),\n",
       " 21250: tensor([0.7844], grad_fn=<SumBackward1>),\n",
       " 6628: tensor([0.7841], grad_fn=<SumBackward1>),\n",
       " 4771: tensor([0.7841], grad_fn=<SumBackward1>),\n",
       " 18519: tensor([0.7841], grad_fn=<SumBackward1>),\n",
       " 16567: tensor([0.7841], grad_fn=<SumBackward1>),\n",
       " 5179: tensor([0.7841], grad_fn=<SumBackward1>),\n",
       " 16116: tensor([0.7840], grad_fn=<SumBackward1>),\n",
       " 7752: tensor([0.7840], grad_fn=<SumBackward1>),\n",
       " 1924: tensor([0.7840], grad_fn=<SumBackward1>),\n",
       " 5996: tensor([0.7839], grad_fn=<SumBackward1>),\n",
       " 25346: tensor([0.7839], grad_fn=<SumBackward1>),\n",
       " 7373: tensor([0.7838], grad_fn=<SumBackward1>),\n",
       " 11233: tensor([0.7837], grad_fn=<SumBackward1>),\n",
       " 7066: tensor([0.7836], grad_fn=<SumBackward1>),\n",
       " 13131: tensor([0.7836], grad_fn=<SumBackward1>),\n",
       " 12785: tensor([0.7836], grad_fn=<SumBackward1>),\n",
       " 20288: tensor([0.7835], grad_fn=<SumBackward1>),\n",
       " 7791: tensor([0.7834], grad_fn=<SumBackward1>),\n",
       " 878: tensor([0.7834], grad_fn=<SumBackward1>),\n",
       " 7262: tensor([0.7834], grad_fn=<SumBackward1>),\n",
       " 21039: tensor([0.7834], grad_fn=<SumBackward1>),\n",
       " 20321: tensor([0.7833], grad_fn=<SumBackward1>),\n",
       " 21789: tensor([0.7833], grad_fn=<SumBackward1>),\n",
       " 14180: tensor([0.7833], grad_fn=<SumBackward1>),\n",
       " 6320: tensor([0.7833], grad_fn=<SumBackward1>),\n",
       " 6735: tensor([0.7832], grad_fn=<SumBackward1>),\n",
       " 4129: tensor([0.7832], grad_fn=<SumBackward1>),\n",
       " 17512: tensor([0.7832], grad_fn=<SumBackward1>),\n",
       " 17451: tensor([0.7831], grad_fn=<SumBackward1>),\n",
       " 849: tensor([0.7831], grad_fn=<SumBackward1>),\n",
       " 16119: tensor([0.7828], grad_fn=<SumBackward1>),\n",
       " 24718: tensor([0.7827], grad_fn=<SumBackward1>),\n",
       " 25026: tensor([0.7827], grad_fn=<SumBackward1>),\n",
       " 9257: tensor([0.7827], grad_fn=<SumBackward1>),\n",
       " 23493: tensor([0.7827], grad_fn=<SumBackward1>),\n",
       " 10173: tensor([0.7827], grad_fn=<SumBackward1>),\n",
       " 9809: tensor([0.7826], grad_fn=<SumBackward1>),\n",
       " 13717: tensor([0.7826], grad_fn=<SumBackward1>),\n",
       " 11250: tensor([0.7826], grad_fn=<SumBackward1>),\n",
       " 8784: tensor([0.7826], grad_fn=<SumBackward1>),\n",
       " 22533: tensor([0.7825], grad_fn=<SumBackward1>),\n",
       " 18574: tensor([0.7824], grad_fn=<SumBackward1>),\n",
       " 7222: tensor([0.7823], grad_fn=<SumBackward1>),\n",
       " 1162: tensor([0.7821], grad_fn=<SumBackward1>),\n",
       " 16900: tensor([0.7820], grad_fn=<SumBackward1>),\n",
       " 4695: tensor([0.7820], grad_fn=<SumBackward1>),\n",
       " 6578: tensor([0.7820], grad_fn=<SumBackward1>),\n",
       " 18910: tensor([0.7819], grad_fn=<SumBackward1>),\n",
       " 20621: tensor([0.7819], grad_fn=<SumBackward1>),\n",
       " 3221: tensor([0.7819], grad_fn=<SumBackward1>),\n",
       " 22790: tensor([0.7819], grad_fn=<SumBackward1>),\n",
       " 18524: tensor([0.7819], grad_fn=<SumBackward1>),\n",
       " 2765: tensor([0.7818], grad_fn=<SumBackward1>),\n",
       " 15709: tensor([0.7818], grad_fn=<SumBackward1>),\n",
       " 11242: tensor([0.7818], grad_fn=<SumBackward1>),\n",
       " 6724: tensor([0.7817], grad_fn=<SumBackward1>),\n",
       " 2192: tensor([0.7817], grad_fn=<SumBackward1>),\n",
       " 20144: tensor([0.7816], grad_fn=<SumBackward1>),\n",
       " 8146: tensor([0.7816], grad_fn=<SumBackward1>),\n",
       " 16840: tensor([0.7816], grad_fn=<SumBackward1>),\n",
       " 9220: tensor([0.7816], grad_fn=<SumBackward1>),\n",
       " 10140: tensor([0.7815], grad_fn=<SumBackward1>),\n",
       " 5741: tensor([0.7815], grad_fn=<SumBackward1>),\n",
       " 9524: tensor([0.7815], grad_fn=<SumBackward1>),\n",
       " 5704: tensor([0.7814], grad_fn=<SumBackward1>),\n",
       " 21176: tensor([0.7814], grad_fn=<SumBackward1>),\n",
       " 22072: tensor([0.7814], grad_fn=<SumBackward1>),\n",
       " 9612: tensor([0.7814], grad_fn=<SumBackward1>),\n",
       " 9588: tensor([0.7813], grad_fn=<SumBackward1>),\n",
       " 15220: tensor([0.7813], grad_fn=<SumBackward1>),\n",
       " 14807: tensor([0.7812], grad_fn=<SumBackward1>),\n",
       " 25549: tensor([0.7812], grad_fn=<SumBackward1>),\n",
       " 20003: tensor([0.7812], grad_fn=<SumBackward1>),\n",
       " 682: tensor([0.7812], grad_fn=<SumBackward1>),\n",
       " 23416: tensor([0.7811], grad_fn=<SumBackward1>),\n",
       " 612: tensor([0.7811], grad_fn=<SumBackward1>),\n",
       " 22413: tensor([0.7810], grad_fn=<SumBackward1>),\n",
       " 11176: tensor([0.7810], grad_fn=<SumBackward1>),\n",
       " 9267: tensor([0.7810], grad_fn=<SumBackward1>),\n",
       " 16492: tensor([0.7810], grad_fn=<SumBackward1>),\n",
       " 10159: tensor([0.7809], grad_fn=<SumBackward1>),\n",
       " 2926: tensor([0.7809], grad_fn=<SumBackward1>),\n",
       " 19108: tensor([0.7809], grad_fn=<SumBackward1>),\n",
       " 1130: tensor([0.7809], grad_fn=<SumBackward1>),\n",
       " 22668: tensor([0.7809], grad_fn=<SumBackward1>),\n",
       " 14076: tensor([0.7808], grad_fn=<SumBackward1>),\n",
       " 4645: tensor([0.7808], grad_fn=<SumBackward1>),\n",
       " 14693: tensor([0.7808], grad_fn=<SumBackward1>),\n",
       " 3291: tensor([0.7808], grad_fn=<SumBackward1>),\n",
       " 25756: tensor([0.7807], grad_fn=<SumBackward1>),\n",
       " 18588: tensor([0.7806], grad_fn=<SumBackward1>),\n",
       " 18202: tensor([0.7806], grad_fn=<SumBackward1>),\n",
       " 4579: tensor([0.7806], grad_fn=<SumBackward1>),\n",
       " 24925: tensor([0.7805], grad_fn=<SumBackward1>),\n",
       " 9121: tensor([0.7805], grad_fn=<SumBackward1>),\n",
       " 7346: tensor([0.7805], grad_fn=<SumBackward1>),\n",
       " 12915: tensor([0.7804], grad_fn=<SumBackward1>),\n",
       " 10436: tensor([0.7804], grad_fn=<SumBackward1>),\n",
       " 5907: tensor([0.7804], grad_fn=<SumBackward1>),\n",
       " 1125: tensor([0.7803], grad_fn=<SumBackward1>),\n",
       " 20497: tensor([0.7803], grad_fn=<SumBackward1>),\n",
       " 1540: tensor([0.7802], grad_fn=<SumBackward1>),\n",
       " 12045: tensor([0.7802], grad_fn=<SumBackward1>),\n",
       " 10775: tensor([0.7802], grad_fn=<SumBackward1>),\n",
       " 10659: tensor([0.7802], grad_fn=<SumBackward1>),\n",
       " 26078: tensor([0.7801], grad_fn=<SumBackward1>),\n",
       " 26541: tensor([0.7801], grad_fn=<SumBackward1>),\n",
       " 18580: tensor([0.7801], grad_fn=<SumBackward1>),\n",
       " 10951: tensor([0.7800], grad_fn=<SumBackward1>),\n",
       " 14592: tensor([0.7799], grad_fn=<SumBackward1>),\n",
       " 19330: tensor([0.7799], grad_fn=<SumBackward1>),\n",
       " 20514: tensor([0.7799], grad_fn=<SumBackward1>),\n",
       " 14470: tensor([0.7799], grad_fn=<SumBackward1>),\n",
       " 15337: tensor([0.7799], grad_fn=<SumBackward1>),\n",
       " 1413: tensor([0.7798], grad_fn=<SumBackward1>),\n",
       " 11501: tensor([0.7796], grad_fn=<SumBackward1>),\n",
       " 7571: tensor([0.7796], grad_fn=<SumBackward1>),\n",
       " 25986: tensor([0.7796], grad_fn=<SumBackward1>),\n",
       " 24060: tensor([0.7795], grad_fn=<SumBackward1>),\n",
       " 22738: tensor([0.7795], grad_fn=<SumBackward1>),\n",
       " 5619: tensor([0.7794], grad_fn=<SumBackward1>),\n",
       " 25545: tensor([0.7794], grad_fn=<SumBackward1>),\n",
       " 14184: tensor([0.7793], grad_fn=<SumBackward1>),\n",
       " 26491: tensor([0.7793], grad_fn=<SumBackward1>),\n",
       " 1573: tensor([0.7792], grad_fn=<SumBackward1>),\n",
       " 15443: tensor([0.7792], grad_fn=<SumBackward1>),\n",
       " 2201: tensor([0.7792], grad_fn=<SumBackward1>),\n",
       " 25388: tensor([0.7791], grad_fn=<SumBackward1>),\n",
       " 22883: tensor([0.7791], grad_fn=<SumBackward1>),\n",
       " 1905: tensor([0.7791], grad_fn=<SumBackward1>),\n",
       " 11915: tensor([0.7790], grad_fn=<SumBackward1>),\n",
       " 18041: tensor([0.7789], grad_fn=<SumBackward1>),\n",
       " 24588: tensor([0.7789], grad_fn=<SumBackward1>),\n",
       " 8454: tensor([0.7789], grad_fn=<SumBackward1>),\n",
       " 13728: tensor([0.7787], grad_fn=<SumBackward1>),\n",
       " 2580: tensor([0.7786], grad_fn=<SumBackward1>),\n",
       " 21452: tensor([0.7786], grad_fn=<SumBackward1>),\n",
       " 23790: tensor([0.7786], grad_fn=<SumBackward1>),\n",
       " 19429: tensor([0.7785], grad_fn=<SumBackward1>),\n",
       " 21941: tensor([0.7785], grad_fn=<SumBackward1>),\n",
       " 25597: tensor([0.7785], grad_fn=<SumBackward1>),\n",
       " 2709: tensor([0.7784], grad_fn=<SumBackward1>),\n",
       " 7666: tensor([0.7784], grad_fn=<SumBackward1>),\n",
       " 22511: tensor([0.7783], grad_fn=<SumBackward1>),\n",
       " 11231: tensor([0.7783], grad_fn=<SumBackward1>),\n",
       " 6308: tensor([0.7782], grad_fn=<SumBackward1>),\n",
       " 25927: tensor([0.7782], grad_fn=<SumBackward1>),\n",
       " 35: tensor([0.7782], grad_fn=<SumBackward1>),\n",
       " 9011: tensor([0.7781], grad_fn=<SumBackward1>),\n",
       " 24495: tensor([0.7781], grad_fn=<SumBackward1>),\n",
       " 2320: tensor([0.7781], grad_fn=<SumBackward1>),\n",
       " 4688: tensor([0.7781], grad_fn=<SumBackward1>),\n",
       " 7386: tensor([0.7780], grad_fn=<SumBackward1>),\n",
       " 9343: tensor([0.7780], grad_fn=<SumBackward1>),\n",
       " 4569: tensor([0.7780], grad_fn=<SumBackward1>),\n",
       " 2297: tensor([0.7780], grad_fn=<SumBackward1>),\n",
       " 3220: tensor([0.7779], grad_fn=<SumBackward1>),\n",
       " 17558: tensor([0.7779], grad_fn=<SumBackward1>),\n",
       " 25676: tensor([0.7779], grad_fn=<SumBackward1>),\n",
       " 19505: tensor([0.7778], grad_fn=<SumBackward1>),\n",
       " 2284: tensor([0.7778], grad_fn=<SumBackward1>),\n",
       " 8871: tensor([0.7778], grad_fn=<SumBackward1>),\n",
       " 5341: tensor([0.7777], grad_fn=<SumBackward1>),\n",
       " 1381: tensor([0.7777], grad_fn=<SumBackward1>),\n",
       " 8227: tensor([0.7777], grad_fn=<SumBackward1>),\n",
       " 21492: tensor([0.7777], grad_fn=<SumBackward1>),\n",
       " 20716: tensor([0.7776], grad_fn=<SumBackward1>),\n",
       " 1438: tensor([0.7776], grad_fn=<SumBackward1>),\n",
       " 18445: tensor([0.7775], grad_fn=<SumBackward1>),\n",
       " 8207: tensor([0.7775], grad_fn=<SumBackward1>),\n",
       " 25741: tensor([0.7775], grad_fn=<SumBackward1>),\n",
       " 4777: tensor([0.7774], grad_fn=<SumBackward1>),\n",
       " 9162: tensor([0.7773], grad_fn=<SumBackward1>),\n",
       " 19450: tensor([0.7770], grad_fn=<SumBackward1>),\n",
       " 19824: tensor([0.7770], grad_fn=<SumBackward1>),\n",
       " 20192: tensor([0.7770], grad_fn=<SumBackward1>),\n",
       " 22978: tensor([0.7769], grad_fn=<SumBackward1>),\n",
       " 2311: tensor([0.7768], grad_fn=<SumBackward1>),\n",
       " 19022: tensor([0.7768], grad_fn=<SumBackward1>),\n",
       " 7691: tensor([0.7768], grad_fn=<SumBackward1>),\n",
       " 22155: tensor([0.7767], grad_fn=<SumBackward1>),\n",
       " 8164: tensor([0.7767], grad_fn=<SumBackward1>),\n",
       " 6411: tensor([0.7766], grad_fn=<SumBackward1>),\n",
       " 18184: tensor([0.7765], grad_fn=<SumBackward1>),\n",
       " 1528: tensor([0.7765], grad_fn=<SumBackward1>),\n",
       " 22519: tensor([0.7765], grad_fn=<SumBackward1>),\n",
       " 4039: tensor([0.7765], grad_fn=<SumBackward1>),\n",
       " 6835: tensor([0.7765], grad_fn=<SumBackward1>),\n",
       " 15885: tensor([0.7765], grad_fn=<SumBackward1>),\n",
       " 10421: tensor([0.7764], grad_fn=<SumBackward1>),\n",
       " 15989: tensor([0.7764], grad_fn=<SumBackward1>),\n",
       " 11422: tensor([0.7764], grad_fn=<SumBackward1>),\n",
       " 20118: tensor([0.7764], grad_fn=<SumBackward1>),\n",
       " 6352: tensor([0.7764], grad_fn=<SumBackward1>),\n",
       " 6881: tensor([0.7764], grad_fn=<SumBackward1>),\n",
       " 20266: tensor([0.7763], grad_fn=<SumBackward1>),\n",
       " 15161: tensor([0.7763], grad_fn=<SumBackward1>),\n",
       " 12356: tensor([0.7763], grad_fn=<SumBackward1>),\n",
       " 22787: tensor([0.7762], grad_fn=<SumBackward1>),\n",
       " 4988: tensor([0.7762], grad_fn=<SumBackward1>),\n",
       " 17014: tensor([0.7761], grad_fn=<SumBackward1>),\n",
       " 22980: tensor([0.7761], grad_fn=<SumBackward1>),\n",
       " 13080: tensor([0.7760], grad_fn=<SumBackward1>),\n",
       " 20864: tensor([0.7760], grad_fn=<SumBackward1>),\n",
       " 24025: tensor([0.7760], grad_fn=<SumBackward1>),\n",
       " 8780: tensor([0.7759], grad_fn=<SumBackward1>),\n",
       " 18974: tensor([0.7759], grad_fn=<SumBackward1>),\n",
       " 26139: tensor([0.7758], grad_fn=<SumBackward1>),\n",
       " 15232: tensor([0.7758], grad_fn=<SumBackward1>),\n",
       " 25444: tensor([0.7758], grad_fn=<SumBackward1>),\n",
       " 25556: tensor([0.7757], grad_fn=<SumBackward1>),\n",
       " 7731: tensor([0.7757], grad_fn=<SumBackward1>),\n",
       " 25454: tensor([0.7757], grad_fn=<SumBackward1>),\n",
       " 9629: tensor([0.7756], grad_fn=<SumBackward1>),\n",
       " 8229: tensor([0.7756], grad_fn=<SumBackward1>),\n",
       " 3571: tensor([0.7755], grad_fn=<SumBackward1>),\n",
       " 20103: tensor([0.7755], grad_fn=<SumBackward1>),\n",
       " 4112: tensor([0.7755], grad_fn=<SumBackward1>),\n",
       " 20990: tensor([0.7755], grad_fn=<SumBackward1>),\n",
       " 2721: tensor([0.7754], grad_fn=<SumBackward1>),\n",
       " 2513: tensor([0.7753], grad_fn=<SumBackward1>),\n",
       " 7210: tensor([0.7753], grad_fn=<SumBackward1>),\n",
       " 883: tensor([0.7753], grad_fn=<SumBackward1>),\n",
       " 23856: tensor([0.7752], grad_fn=<SumBackward1>),\n",
       " 6324: tensor([0.7752], grad_fn=<SumBackward1>),\n",
       " 7306: tensor([0.7752], grad_fn=<SumBackward1>),\n",
       " 20978: tensor([0.7750], grad_fn=<SumBackward1>),\n",
       " 20600: tensor([0.7750], grad_fn=<SumBackward1>),\n",
       " 18044: tensor([0.7749], grad_fn=<SumBackward1>),\n",
       " 24340: tensor([0.7749], grad_fn=<SumBackward1>),\n",
       " 16530: tensor([0.7747], grad_fn=<SumBackward1>),\n",
       " 26192: tensor([0.7747], grad_fn=<SumBackward1>),\n",
       " 3019: tensor([0.7747], grad_fn=<SumBackward1>),\n",
       " 20758: tensor([0.7747], grad_fn=<SumBackward1>),\n",
       " 15236: tensor([0.7746], grad_fn=<SumBackward1>),\n",
       " 4795: tensor([0.7746], grad_fn=<SumBackward1>),\n",
       " 21893: tensor([0.7746], grad_fn=<SumBackward1>),\n",
       " 1156: tensor([0.7746], grad_fn=<SumBackward1>),\n",
       " 1888: tensor([0.7746], grad_fn=<SumBackward1>),\n",
       " 17536: tensor([0.7746], grad_fn=<SumBackward1>),\n",
       " 2945: tensor([0.7745], grad_fn=<SumBackward1>),\n",
       " 585: tensor([0.7745], grad_fn=<SumBackward1>),\n",
       " 15902: tensor([0.7745], grad_fn=<SumBackward1>),\n",
       " 16227: tensor([0.7745], grad_fn=<SumBackward1>),\n",
       " 12877: tensor([0.7744], grad_fn=<SumBackward1>),\n",
       " 22103: tensor([0.7744], grad_fn=<SumBackward1>),\n",
       " 9034: tensor([0.7744], grad_fn=<SumBackward1>),\n",
       " 19322: tensor([0.7743], grad_fn=<SumBackward1>),\n",
       " 6691: tensor([0.7743], grad_fn=<SumBackward1>),\n",
       " 17005: tensor([0.7743], grad_fn=<SumBackward1>),\n",
       " 526: tensor([0.7742], grad_fn=<SumBackward1>),\n",
       " 8749: tensor([0.7742], grad_fn=<SumBackward1>),\n",
       " 24790: tensor([0.7742], grad_fn=<SumBackward1>),\n",
       " 8578: tensor([0.7741], grad_fn=<SumBackward1>),\n",
       " 16231: tensor([0.7741], grad_fn=<SumBackward1>),\n",
       " 26540: tensor([0.7741], grad_fn=<SumBackward1>),\n",
       " 18480: tensor([0.7741], grad_fn=<SumBackward1>),\n",
       " 14635: tensor([0.7740], grad_fn=<SumBackward1>),\n",
       " 22382: tensor([0.7740], grad_fn=<SumBackward1>),\n",
       " 162: tensor([0.7740], grad_fn=<SumBackward1>),\n",
       " 15778: tensor([0.7739], grad_fn=<SumBackward1>),\n",
       " 8238: tensor([0.7739], grad_fn=<SumBackward1>),\n",
       " 13975: tensor([0.7739], grad_fn=<SumBackward1>),\n",
       " 5298: tensor([0.7739], grad_fn=<SumBackward1>),\n",
       " 18266: tensor([0.7739], grad_fn=<SumBackward1>),\n",
       " 9545: tensor([0.7738], grad_fn=<SumBackward1>),\n",
       " 7375: tensor([0.7737], grad_fn=<SumBackward1>),\n",
       " 13538: tensor([0.7736], grad_fn=<SumBackward1>),\n",
       " 13464: tensor([0.7735], grad_fn=<SumBackward1>),\n",
       " 18066: tensor([0.7734], grad_fn=<SumBackward1>),\n",
       " 17804: tensor([0.7733], grad_fn=<SumBackward1>),\n",
       " 9110: tensor([0.7733], grad_fn=<SumBackward1>),\n",
       " 82: tensor([0.7733], grad_fn=<SumBackward1>),\n",
       " 3845: tensor([0.7732], grad_fn=<SumBackward1>),\n",
       " 13420: tensor([0.7732], grad_fn=<SumBackward1>),\n",
       " 18213: tensor([0.7731], grad_fn=<SumBackward1>),\n",
       " 12389: tensor([0.7730], grad_fn=<SumBackward1>),\n",
       " 14556: tensor([0.7728], grad_fn=<SumBackward1>),\n",
       " 242: tensor([0.7728], grad_fn=<SumBackward1>),\n",
       " 25360: tensor([0.7727], grad_fn=<SumBackward1>),\n",
       " 11253: tensor([0.7727], grad_fn=<SumBackward1>),\n",
       " 9721: tensor([0.7727], grad_fn=<SumBackward1>),\n",
       " 18138: tensor([0.7726], grad_fn=<SumBackward1>),\n",
       " 13798: tensor([0.7726], grad_fn=<SumBackward1>),\n",
       " 16010: tensor([0.7726], grad_fn=<SumBackward1>),\n",
       " 14316: tensor([0.7726], grad_fn=<SumBackward1>),\n",
       " 22556: tensor([0.7724], grad_fn=<SumBackward1>),\n",
       " 24821: tensor([0.7724], grad_fn=<SumBackward1>),\n",
       " 23168: tensor([0.7724], grad_fn=<SumBackward1>),\n",
       " 19552: tensor([0.7723], grad_fn=<SumBackward1>),\n",
       " 6613: tensor([0.7722], grad_fn=<SumBackward1>),\n",
       " 9891: tensor([0.7720], grad_fn=<SumBackward1>),\n",
       " 20081: tensor([0.7719], grad_fn=<SumBackward1>),\n",
       " 21820: tensor([0.7719], grad_fn=<SumBackward1>),\n",
       " 26652: tensor([0.7719], grad_fn=<SumBackward1>),\n",
       " 22450: tensor([0.7719], grad_fn=<SumBackward1>),\n",
       " 2227: tensor([0.7718], grad_fn=<SumBackward1>),\n",
       " 7848: tensor([0.7718], grad_fn=<SumBackward1>),\n",
       " 19088: tensor([0.7717], grad_fn=<SumBackward1>),\n",
       " 11214: tensor([0.7717], grad_fn=<SumBackward1>),\n",
       " 57: tensor([0.7717], grad_fn=<SumBackward1>),\n",
       " 2391: tensor([0.7717], grad_fn=<SumBackward1>),\n",
       " 18537: tensor([0.7716], grad_fn=<SumBackward1>),\n",
       " 2219: tensor([0.7716], grad_fn=<SumBackward1>),\n",
       " 12813: tensor([0.7716], grad_fn=<SumBackward1>),\n",
       " 16384: tensor([0.7716], grad_fn=<SumBackward1>),\n",
       " 26118: tensor([0.7715], grad_fn=<SumBackward1>),\n",
       " 3680: tensor([0.7715], grad_fn=<SumBackward1>),\n",
       " 4694: tensor([0.7715], grad_fn=<SumBackward1>),\n",
       " 14666: tensor([0.7714], grad_fn=<SumBackward1>),\n",
       " 376: tensor([0.7714], grad_fn=<SumBackward1>),\n",
       " 16223: tensor([0.7713], grad_fn=<SumBackward1>),\n",
       " 21608: tensor([0.7713], grad_fn=<SumBackward1>),\n",
       " 3657: tensor([0.7712], grad_fn=<SumBackward1>),\n",
       " 457: tensor([0.7712], grad_fn=<SumBackward1>),\n",
       " 11900: tensor([0.7711], grad_fn=<SumBackward1>),\n",
       " 7139: tensor([0.7711], grad_fn=<SumBackward1>),\n",
       " 11786: tensor([0.7711], grad_fn=<SumBackward1>),\n",
       " 15699: tensor([0.7710], grad_fn=<SumBackward1>),\n",
       " 6828: tensor([0.7710], grad_fn=<SumBackward1>),\n",
       " 18556: tensor([0.7709], grad_fn=<SumBackward1>),\n",
       " 21810: tensor([0.7709], grad_fn=<SumBackward1>),\n",
       " 2618: tensor([0.7708], grad_fn=<SumBackward1>),\n",
       " 17848: tensor([0.7708], grad_fn=<SumBackward1>),\n",
       " 14962: tensor([0.7708], grad_fn=<SumBackward1>),\n",
       " 3274: tensor([0.7707], grad_fn=<SumBackward1>),\n",
       " 18365: tensor([0.7707], grad_fn=<SumBackward1>),\n",
       " 10259: tensor([0.7707], grad_fn=<SumBackward1>),\n",
       " 2725: tensor([0.7706], grad_fn=<SumBackward1>),\n",
       " 10612: tensor([0.7706], grad_fn=<SumBackward1>),\n",
       " 12466: tensor([0.7705], grad_fn=<SumBackward1>),\n",
       " 6945: tensor([0.7705], grad_fn=<SumBackward1>),\n",
       " 9258: tensor([0.7704], grad_fn=<SumBackward1>),\n",
       " 7736: tensor([0.7704], grad_fn=<SumBackward1>),\n",
       " 14188: tensor([0.7703], grad_fn=<SumBackward1>),\n",
       " 16446: tensor([0.7703], grad_fn=<SumBackward1>),\n",
       " 23061: tensor([0.7703], grad_fn=<SumBackward1>),\n",
       " 23635: tensor([0.7702], grad_fn=<SumBackward1>),\n",
       " 10258: tensor([0.7702], grad_fn=<SumBackward1>),\n",
       " 6793: tensor([0.7702], grad_fn=<SumBackward1>),\n",
       " 12074: tensor([0.7702], grad_fn=<SumBackward1>),\n",
       " 22732: tensor([0.7701], grad_fn=<SumBackward1>),\n",
       " 17269: tensor([0.7701], grad_fn=<SumBackward1>),\n",
       " 8268: tensor([0.7701], grad_fn=<SumBackward1>),\n",
       " 1584: tensor([0.7701], grad_fn=<SumBackward1>),\n",
       " 26614: tensor([0.7701], grad_fn=<SumBackward1>),\n",
       " 15827: tensor([0.7700], grad_fn=<SumBackward1>),\n",
       " 7345: tensor([0.7700], grad_fn=<SumBackward1>),\n",
       " 4640: tensor([0.7700], grad_fn=<SumBackward1>),\n",
       " 10164: tensor([0.7700], grad_fn=<SumBackward1>),\n",
       " 10119: tensor([0.7700], grad_fn=<SumBackward1>),\n",
       " 24417: tensor([0.7699], grad_fn=<SumBackward1>),\n",
       " 13542: tensor([0.7699], grad_fn=<SumBackward1>),\n",
       " 21573: tensor([0.7699], grad_fn=<SumBackward1>),\n",
       " 14844: tensor([0.7699], grad_fn=<SumBackward1>),\n",
       " 7404: tensor([0.7699], grad_fn=<SumBackward1>),\n",
       " 15639: tensor([0.7698], grad_fn=<SumBackward1>),\n",
       " 21164: tensor([0.7698], grad_fn=<SumBackward1>),\n",
       " 8006: tensor([0.7698], grad_fn=<SumBackward1>),\n",
       " 8833: tensor([0.7698], grad_fn=<SumBackward1>),\n",
       " 844: tensor([0.7698], grad_fn=<SumBackward1>),\n",
       " 13597: tensor([0.7697], grad_fn=<SumBackward1>),\n",
       " 16279: tensor([0.7697], grad_fn=<SumBackward1>),\n",
       " 4352: tensor([0.7697], grad_fn=<SumBackward1>),\n",
       " 11152: tensor([0.7697], grad_fn=<SumBackward1>),\n",
       " 803: tensor([0.7697], grad_fn=<SumBackward1>),\n",
       " 17825: tensor([0.7696], grad_fn=<SumBackward1>),\n",
       " 5915: tensor([0.7696], grad_fn=<SumBackward1>),\n",
       " 8890: tensor([0.7696], grad_fn=<SumBackward1>),\n",
       " 14394: tensor([0.7696], grad_fn=<SumBackward1>),\n",
       " 20753: tensor([0.7695], grad_fn=<SumBackward1>),\n",
       " 25379: tensor([0.7695], grad_fn=<SumBackward1>),\n",
       " 10186: tensor([0.7694], grad_fn=<SumBackward1>),\n",
       " 4881: tensor([0.7694], grad_fn=<SumBackward1>),\n",
       " 3719: tensor([0.7694], grad_fn=<SumBackward1>),\n",
       " 10809: tensor([0.7693], grad_fn=<SumBackward1>),\n",
       " 14297: tensor([0.7693], grad_fn=<SumBackward1>),\n",
       " 6689: tensor([0.7693], grad_fn=<SumBackward1>),\n",
       " 23834: tensor([0.7693], grad_fn=<SumBackward1>),\n",
       " 3765: tensor([0.7693], grad_fn=<SumBackward1>),\n",
       " 6086: tensor([0.7692], grad_fn=<SumBackward1>),\n",
       " 7734: tensor([0.7692], grad_fn=<SumBackward1>),\n",
       " 4686: tensor([0.7691], grad_fn=<SumBackward1>),\n",
       " 13868: tensor([0.7691], grad_fn=<SumBackward1>),\n",
       " 17887: tensor([0.7690], grad_fn=<SumBackward1>),\n",
       " 18161: tensor([0.7690], grad_fn=<SumBackward1>),\n",
       " 4896: tensor([0.7690], grad_fn=<SumBackward1>),\n",
       " 23713: tensor([0.7690], grad_fn=<SumBackward1>),\n",
       " 1152: tensor([0.7690], grad_fn=<SumBackward1>),\n",
       " 24803: tensor([0.7689], grad_fn=<SumBackward1>),\n",
       " 12059: tensor([0.7689], grad_fn=<SumBackward1>),\n",
       " ...}"
      ]
     },
     "execution_count": 20,
     "metadata": {},
     "output_type": "execute_result"
    }
   ],
   "source": [
    "query_isbn = \"0440234743\"\n",
    "img = prepare_img(query_isbn)\n",
    "query = model_vgg(img)\n",
    "res = img_sim(query, feat_map_vgg)\n",
    "res"
   ]
  },
  {
   "cell_type": "markdown",
   "metadata": {},
   "source": [
    "#### make custom dataset"
   ]
  },
  {
   "cell_type": "code",
   "execution_count": 21,
   "metadata": {},
   "outputs": [],
   "source": [
    "import torch\n",
    "from tqdm import tqdm\n",
    "import numpy as np\n",
    "from torch.utils.data import Dataset, DataLoader, random_split\n",
    "\n",
    "torch.manual_seed(42)\n",
    "np.random.seed(42)\n",
    "\n",
    "class BookDataset(Dataset):\n",
    "    def __init__(self, user, book, df, user2idx, book2idx) -> None:\n",
    "        super().__init__()\n",
    "        self.df = df\n",
    "        # make idx \n",
    "        self.user2idx = user2idx\n",
    "        self.book2idx = book2idx\n",
    "        self.n_user = len(self.user2idx)\n",
    "        self.n_item = len(self.book2idx)\n",
    "        # mapping id2idx\n",
    "        self.df['rating'] = 1 # change explicit -> implicit\n",
    "        self.df['isbn'] = self.df['isbn'].map(self.book2idx)\n",
    "        self.df['user_id'] = self.df['user_id'].map(self.user2idx)\n",
    "        self.df['neg'] = np.zeros(len(self.df), dtype=int)\n",
    "\n",
    "        self._make_Ttriples_data()\n",
    "    \n",
    "    def __getitem__(self, index):\n",
    "        user = self.df.user_id[index]\n",
    "        pos = self.df.isbn[index]\n",
    "        neg = self.df.neg[index]\n",
    "        return user, pos, neg\n",
    "    \n",
    "    def _neg_sampling(self, pos_list):\n",
    "        neg = np.random.randint(0,self.n_item,1)\n",
    "        while neg in pos_list:\n",
    "            neg = np.random.randint(0,self.n_item,1)\n",
    "        return neg\n",
    "\n",
    "    def _make_Ttriples_data(self):\n",
    "        for id in tqdm(range(self.n_user)):\n",
    "            pos_list = (self.df[self.df.user_id==id].isbn).tolist()\n",
    "            for i in range(len(self.df[self.df.user_id==id])):\n",
    "                idx = self.df[self.df['user_id'] == id].index[i]\n",
    "                self.df.at[idx, 'neg'] = self._neg_sampling(pos_list)\n",
    "    \n",
    "    def __len__(self):\n",
    "        return len(self.df)"
   ]
  },
  {
   "cell_type": "code",
   "execution_count": 22,
   "metadata": {},
   "outputs": [
    {
     "name": "stderr",
     "output_type": "stream",
     "text": [
      "100%|██████████| 14348/14348 [00:34<00:00, 418.10it/s] \n"
     ]
    }
   ],
   "source": [
    "batch_size = 64\n",
    "dataset = BookDataset(user_data, n_book_data, n_rating_data, user2idx, book2idx)\n",
    "train_dataset, test_dataset = random_split(dataset, [0.8,0.2])\n",
    "\n",
    "train_dataloader = DataLoader(train_dataset, batch_size=batch_size)\n",
    "test_dataloader = DataLoader(test_dataset, batch_size=batch_size)"
   ]
  },
  {
   "cell_type": "markdown",
   "metadata": {},
   "source": [
    "### model"
   ]
  },
  {
   "cell_type": "code",
   "execution_count": 23,
   "metadata": {},
   "outputs": [],
   "source": [
    "from torch import nn\n",
    "\n",
    "class VBPR(nn.Module):\n",
    "    def __init__(self, n_user, n_item, K, D, F, feature_map) -> None:\n",
    "        super().__init__()\n",
    "        self.n_user = n_user\n",
    "        self.n_item = n_item\n",
    "        self.K = K\n",
    "        self.D = D\n",
    "        self.F = F\n",
    "\n",
    "        self.offset = nn.Parameter(torch.zeros(1))\n",
    "        self.user_bias = nn.Embedding(self.n_user,1)\n",
    "        self.item_bias = nn.Embedding(self.n_item,1)\n",
    "        self.vis_bias = nn.Embedding(self.F,1)\n",
    "        self.user_emb = nn.Embedding(self.n_user,self.K)\n",
    "        self.item_emb = nn.Embedding(self.n_item,self.K)\n",
    "        self.img_vis_emb = nn.Embedding(self.D, self.F)\n",
    "        self.user_vis_emb = nn.Embedding(self.n_user, self.D)\n",
    "        self.feature_map = feature_map\n",
    "    \n",
    "        self._init_weights()\n",
    "    \n",
    "    def _get_feature_map(self, itemset):\n",
    "        res = torch.tensor([])\n",
    "        for item in itemset:\n",
    "            res = torch.concat((res, self.feature_map[item.item()]), dim=0)\n",
    "        return res\n",
    "        \n",
    "    def _init_weights(self):\n",
    "        nn.init.xavier_uniform_(self.user_bias.weight)\n",
    "        nn.init.xavier_uniform_(self.item_bias.weight.data)\n",
    "        nn.init.xavier_uniform_(self.vis_bias.weight.data)\n",
    "        nn.init.xavier_uniform_(self.user_emb.weight.data)\n",
    "        nn.init.xavier_uniform_(self.item_emb.weight.data)\n",
    "        nn.init.xavier_uniform_(self.img_vis_emb.weight.data)\n",
    "        nn.init.xavier_uniform_(self.user_vis_emb.weight.data)\n",
    "    \n",
    "    def cal_each(self, user, item):\n",
    "        feat_map = self._get_feature_map(item).T\n",
    "        vis_term = ((self.user_vis_emb(user))@(self.img_vis_emb.weight@(feat_map))).sum(dim=1) + (self.vis_bias.weight.T)@(feat_map)\n",
    "        mf_term = self.offset + self.user_bias(user).T + self.item_bias(item).T + (self.user_emb(user)@self.item_emb(item).T).sum(dim=1).unsqueeze(dim=0)\n",
    "        params = (self.offset, self.user_bias(user), self.item_bias(item), self.vis_bias.weight, self.user_emb(user), self.item_emb(item), self.img_vis_emb.weight, self.user_vis_emb(user))\n",
    "        return (mf_term+vis_term).squeeze(), params\n",
    "    \n",
    "    def forward(self, user, pos, neg):\n",
    "        xui, pos_params = self.cal_each(user,pos)\n",
    "        xuj, neg_params = self.cal_each(user,neg)\n",
    "        return (xui-xuj), pos_params, neg_params\n"
   ]
  },
  {
   "cell_type": "code",
   "execution_count": 24,
   "metadata": {},
   "outputs": [],
   "source": [
    "class BPRLoss(nn.Module):\n",
    "    def __init__(self, reg_theta, reg_beta, reg_e) -> None:\n",
    "        super().__init__()\n",
    "        self.reg_theta = reg_theta\n",
    "        self.reg_beta = reg_beta\n",
    "        self.reg_e = reg_e\n",
    "    \n",
    "    def _cal_l2(self, *tensors):\n",
    "        total = 0\n",
    "        for tensor in tensors:\n",
    "            total += tensor.pow(2).sum()\n",
    "        return 0.5 * total\n",
    "\n",
    "    def _reg_term(self, pos_params, neg_params):\n",
    "        alpha, beta_u, beta_pos, beta_prime_pos, gamma_u, gamma_pos, e_pos, theta_u = pos_params\n",
    "        _, _, beta_neg, beta_prime_neg, _, gamma_neg, e_neg, _ = neg_params\n",
    "\n",
    "        reg_out = self.reg_theta * self._cal_l2(alpha, beta_u, beta_pos, beta_neg, theta_u, gamma_u, gamma_pos, gamma_neg)\n",
    "        reg_out += self.reg_beta * self._cal_l2(beta_prime_pos, beta_prime_neg)\n",
    "        reg_out += self.reg_e * self._cal_l2(e_pos, e_neg)\n",
    "\n",
    "        return reg_out\n",
    "\n",
    "    def forward(self, diff, pos_params, neg_params):\n",
    "        loss = -nn.functional.logsigmoid(diff).sum()\n",
    "        loss += self._reg_term(pos_params, neg_params)\n",
    "\n",
    "        return loss"
   ]
  },
  {
   "cell_type": "code",
   "execution_count": 29,
   "metadata": {},
   "outputs": [],
   "source": [
    "import torch.nn as nn\n",
    "\n",
    "def train(model, optimizer, dataloader, criterion, device):\n",
    "    model.train()\n",
    "    total_loss = 0\n",
    "\n",
    "    for user, pos, neg in tqdm(dataloader):\n",
    "        user = user.to(device)\n",
    "        pos = pos.to(device)\n",
    "        neg = neg.to(device)\n",
    "\n",
    "        diff, pos_params, neg_params = model(user, pos, neg)\n",
    "        loss = criterion(diff, pos_params, neg_params)\n",
    "        \n",
    "        model.zero_grad()\n",
    "        loss.backward()\n",
    "        optimizer.step()\n",
    "\n",
    "        total_loss += loss.item()\n",
    "    \n",
    "    return total_loss/len(dataloader)"
   ]
  },
  {
   "cell_type": "code",
   "execution_count": 48,
   "metadata": {},
   "outputs": [],
   "source": [
    "from torch.optim import Adam\n",
    "\n",
    "n_user = dataset.n_user\n",
    "n_item = dataset.n_item\n",
    "\n",
    "K = 20\n",
    "D = 20\n",
    "F = 4096\n",
    "F_res = 512\n",
    "\n",
    "\n",
    "reg_theta = 0.1\n",
    "reg_beta = 0.1\n",
    "reg_e = 0\n",
    "\n",
    "lr = 0.001\n",
    "epoch = 20\n",
    "\n",
    "device = \"cuda\" if torch.cuda.is_available() else \"cpu\" \n",
    "criterion = BPRLoss(reg_theta, reg_beta, reg_e)"
   ]
  },
  {
   "cell_type": "code",
   "execution_count": 38,
   "metadata": {},
   "outputs": [
    {
     "data": {
      "text/plain": [
       "'cpu'"
      ]
     },
     "execution_count": 38,
     "metadata": {},
     "output_type": "execute_result"
    }
   ],
   "source": [
    "device"
   ]
  },
  {
   "cell_type": "code",
   "execution_count": null,
   "metadata": {},
   "outputs": [],
   "source": [
    "feat_map = feat_map_alex\n",
    "\n",
    "vbpr_alex = VBPR(n_user, n_item, K, D, F, feat_map)\n",
    "optimizer = Adam(params = vbpr_alex.parameters(), lr=lr)\n",
    "alex_train_loss = []\n",
    "\n",
    "for i in range(epoch):\n",
    "    alex_train_loss.append(train(vbpr_alex, optimizer, train_dataloader, criterion, device))\n",
    "    print(f'EPOCH : {i} | LOSS : {alex_train_loss[-1]:.10}')\n"
   ]
  },
  {
   "cell_type": "code",
   "execution_count": 42,
   "metadata": {},
   "outputs": [
    {
     "name": "stderr",
     "output_type": "stream",
     "text": [
      "100%|██████████| 2055/2055 [00:18<00:00, 109.70it/s]\n"
     ]
    },
    {
     "name": "stdout",
     "output_type": "stream",
     "text": [
      "EPOCH : 0 | LOSS : 12.06705586\n"
     ]
    },
    {
     "name": "stderr",
     "output_type": "stream",
     "text": [
      "100%|██████████| 2055/2055 [00:18<00:00, 109.29it/s]\n"
     ]
    },
    {
     "name": "stdout",
     "output_type": "stream",
     "text": [
      "EPOCH : 1 | LOSS : 0.907961418\n"
     ]
    },
    {
     "name": "stderr",
     "output_type": "stream",
     "text": [
      "100%|██████████| 2055/2055 [00:16<00:00, 121.64it/s]\n"
     ]
    },
    {
     "name": "stdout",
     "output_type": "stream",
     "text": [
      "EPOCH : 2 | LOSS : 0.6536929019\n"
     ]
    },
    {
     "name": "stderr",
     "output_type": "stream",
     "text": [
      "100%|██████████| 2055/2055 [00:19<00:00, 106.30it/s]\n"
     ]
    },
    {
     "name": "stdout",
     "output_type": "stream",
     "text": [
      "EPOCH : 3 | LOSS : 0.7142501128\n"
     ]
    },
    {
     "name": "stderr",
     "output_type": "stream",
     "text": [
      "100%|██████████| 2055/2055 [00:20<00:00, 102.23it/s]\n"
     ]
    },
    {
     "name": "stdout",
     "output_type": "stream",
     "text": [
      "EPOCH : 4 | LOSS : 0.9812125337\n"
     ]
    },
    {
     "name": "stderr",
     "output_type": "stream",
     "text": [
      "100%|██████████| 2055/2055 [00:18<00:00, 112.26it/s]\n"
     ]
    },
    {
     "name": "stdout",
     "output_type": "stream",
     "text": [
      "EPOCH : 5 | LOSS : 0.7100947362\n"
     ]
    },
    {
     "name": "stderr",
     "output_type": "stream",
     "text": [
      "100%|██████████| 2055/2055 [00:18<00:00, 108.33it/s]\n"
     ]
    },
    {
     "name": "stdout",
     "output_type": "stream",
     "text": [
      "EPOCH : 6 | LOSS : 0.7686918331\n"
     ]
    },
    {
     "name": "stderr",
     "output_type": "stream",
     "text": [
      "100%|██████████| 2055/2055 [00:18<00:00, 109.21it/s]\n"
     ]
    },
    {
     "name": "stdout",
     "output_type": "stream",
     "text": [
      "EPOCH : 7 | LOSS : 0.6620515275\n"
     ]
    },
    {
     "name": "stderr",
     "output_type": "stream",
     "text": [
      "100%|██████████| 2055/2055 [00:14<00:00, 137.59it/s]\n"
     ]
    },
    {
     "name": "stdout",
     "output_type": "stream",
     "text": [
      "EPOCH : 8 | LOSS : 0.8357741724\n"
     ]
    },
    {
     "name": "stderr",
     "output_type": "stream",
     "text": [
      "100%|██████████| 2055/2055 [00:12<00:00, 167.95it/s]\n"
     ]
    },
    {
     "name": "stdout",
     "output_type": "stream",
     "text": [
      "EPOCH : 9 | LOSS : 0.7628951862\n"
     ]
    },
    {
     "name": "stderr",
     "output_type": "stream",
     "text": [
      "100%|██████████| 2055/2055 [00:12<00:00, 167.49it/s]\n"
     ]
    },
    {
     "name": "stdout",
     "output_type": "stream",
     "text": [
      "EPOCH : 10 | LOSS : 0.6573955787\n"
     ]
    },
    {
     "name": "stderr",
     "output_type": "stream",
     "text": [
      "100%|██████████| 2055/2055 [00:12<00:00, 167.40it/s]\n"
     ]
    },
    {
     "name": "stdout",
     "output_type": "stream",
     "text": [
      "EPOCH : 11 | LOSS : 0.6698878438\n"
     ]
    },
    {
     "name": "stderr",
     "output_type": "stream",
     "text": [
      "100%|██████████| 2055/2055 [00:12<00:00, 164.36it/s]\n"
     ]
    },
    {
     "name": "stdout",
     "output_type": "stream",
     "text": [
      "EPOCH : 12 | LOSS : 0.6955393603\n"
     ]
    },
    {
     "name": "stderr",
     "output_type": "stream",
     "text": [
      "100%|██████████| 2055/2055 [00:12<00:00, 164.91it/s]\n"
     ]
    },
    {
     "name": "stdout",
     "output_type": "stream",
     "text": [
      "EPOCH : 13 | LOSS : 0.4996107364\n"
     ]
    },
    {
     "name": "stderr",
     "output_type": "stream",
     "text": [
      "100%|██████████| 2055/2055 [00:12<00:00, 168.20it/s]\n"
     ]
    },
    {
     "name": "stdout",
     "output_type": "stream",
     "text": [
      "EPOCH : 14 | LOSS : 0.4321633493\n"
     ]
    },
    {
     "name": "stderr",
     "output_type": "stream",
     "text": [
      "100%|██████████| 2055/2055 [00:12<00:00, 167.52it/s]\n"
     ]
    },
    {
     "name": "stdout",
     "output_type": "stream",
     "text": [
      "EPOCH : 15 | LOSS : 0.6310107784\n"
     ]
    },
    {
     "name": "stderr",
     "output_type": "stream",
     "text": [
      "100%|██████████| 2055/2055 [00:12<00:00, 168.37it/s]\n"
     ]
    },
    {
     "name": "stdout",
     "output_type": "stream",
     "text": [
      "EPOCH : 16 | LOSS : 0.4835853257\n"
     ]
    },
    {
     "name": "stderr",
     "output_type": "stream",
     "text": [
      "100%|██████████| 2055/2055 [00:12<00:00, 169.29it/s]\n"
     ]
    },
    {
     "name": "stdout",
     "output_type": "stream",
     "text": [
      "EPOCH : 17 | LOSS : 0.3101582933\n"
     ]
    },
    {
     "name": "stderr",
     "output_type": "stream",
     "text": [
      "100%|██████████| 2055/2055 [00:12<00:00, 167.18it/s]\n"
     ]
    },
    {
     "name": "stdout",
     "output_type": "stream",
     "text": [
      "EPOCH : 18 | LOSS : 0.4584670633\n"
     ]
    },
    {
     "name": "stderr",
     "output_type": "stream",
     "text": [
      "100%|██████████| 2055/2055 [00:12<00:00, 169.42it/s]"
     ]
    },
    {
     "name": "stdout",
     "output_type": "stream",
     "text": [
      "EPOCH : 19 | LOSS : 0.3013432855\n"
     ]
    },
    {
     "name": "stderr",
     "output_type": "stream",
     "text": [
      "\n"
     ]
    }
   ],
   "source": [
    "F_res = 512\n",
    "feat_map = feat_map_res\n",
    "\n",
    "vbpr_res = VBPR(n_user, n_item, K, D, F_res, feat_map)\n",
    "optimizer = Adam(params = vbpr_res.parameters(), lr=lr)\n",
    "res_train_loss = []\n",
    "\n",
    "for i in range(epoch):\n",
    "    res_train_loss.append(train(vbpr_res, optimizer, train_dataloader, criterion, device))\n",
    "    print(f'EPOCH : {i} | LOSS : {res_train_loss[-1]:.10}')"
   ]
  },
  {
   "cell_type": "code",
   "execution_count": 43,
   "metadata": {},
   "outputs": [
    {
     "name": "stderr",
     "output_type": "stream",
     "text": [
      "100%|██████████| 2055/2055 [00:19<00:00, 105.42it/s]\n"
     ]
    },
    {
     "name": "stdout",
     "output_type": "stream",
     "text": [
      "EPOCH : 0 | LOSS : 47.93991741\n"
     ]
    },
    {
     "name": "stderr",
     "output_type": "stream",
     "text": [
      "100%|██████████| 2055/2055 [00:19<00:00, 106.11it/s]\n"
     ]
    },
    {
     "name": "stdout",
     "output_type": "stream",
     "text": [
      "EPOCH : 1 | LOSS : 12.08850028\n"
     ]
    },
    {
     "name": "stderr",
     "output_type": "stream",
     "text": [
      "100%|██████████| 2055/2055 [00:19<00:00, 103.26it/s]\n"
     ]
    },
    {
     "name": "stdout",
     "output_type": "stream",
     "text": [
      "EPOCH : 2 | LOSS : 6.726029596\n"
     ]
    },
    {
     "name": "stderr",
     "output_type": "stream",
     "text": [
      "100%|██████████| 2055/2055 [00:20<00:00, 100.75it/s]\n"
     ]
    },
    {
     "name": "stdout",
     "output_type": "stream",
     "text": [
      "EPOCH : 3 | LOSS : 8.294232354\n"
     ]
    },
    {
     "name": "stderr",
     "output_type": "stream",
     "text": [
      "100%|██████████| 2055/2055 [00:19<00:00, 105.49it/s]\n"
     ]
    },
    {
     "name": "stdout",
     "output_type": "stream",
     "text": [
      "EPOCH : 4 | LOSS : 11.44785878\n"
     ]
    },
    {
     "name": "stderr",
     "output_type": "stream",
     "text": [
      "100%|██████████| 2055/2055 [00:19<00:00, 106.52it/s]\n"
     ]
    },
    {
     "name": "stdout",
     "output_type": "stream",
     "text": [
      "EPOCH : 5 | LOSS : 7.010211182\n"
     ]
    },
    {
     "name": "stderr",
     "output_type": "stream",
     "text": [
      "100%|██████████| 2055/2055 [00:19<00:00, 103.58it/s]\n"
     ]
    },
    {
     "name": "stdout",
     "output_type": "stream",
     "text": [
      "EPOCH : 6 | LOSS : 11.18077581\n"
     ]
    },
    {
     "name": "stderr",
     "output_type": "stream",
     "text": [
      "100%|██████████| 2055/2055 [00:19<00:00, 104.02it/s]\n"
     ]
    },
    {
     "name": "stdout",
     "output_type": "stream",
     "text": [
      "EPOCH : 7 | LOSS : 8.97416033\n"
     ]
    },
    {
     "name": "stderr",
     "output_type": "stream",
     "text": [
      "100%|██████████| 2055/2055 [00:19<00:00, 106.41it/s]\n"
     ]
    },
    {
     "name": "stdout",
     "output_type": "stream",
     "text": [
      "EPOCH : 8 | LOSS : 9.264488202\n"
     ]
    },
    {
     "name": "stderr",
     "output_type": "stream",
     "text": [
      "100%|██████████| 2055/2055 [00:19<00:00, 106.15it/s]\n"
     ]
    },
    {
     "name": "stdout",
     "output_type": "stream",
     "text": [
      "EPOCH : 9 | LOSS : 10.23720499\n"
     ]
    },
    {
     "name": "stderr",
     "output_type": "stream",
     "text": [
      "100%|██████████| 2055/2055 [00:19<00:00, 105.01it/s]\n"
     ]
    },
    {
     "name": "stdout",
     "output_type": "stream",
     "text": [
      "EPOCH : 10 | LOSS : 10.7106802\n"
     ]
    },
    {
     "name": "stderr",
     "output_type": "stream",
     "text": [
      "100%|██████████| 2055/2055 [00:19<00:00, 106.26it/s]\n"
     ]
    },
    {
     "name": "stdout",
     "output_type": "stream",
     "text": [
      "EPOCH : 11 | LOSS : 9.721966219\n"
     ]
    },
    {
     "name": "stderr",
     "output_type": "stream",
     "text": [
      "100%|██████████| 2055/2055 [00:19<00:00, 105.79it/s]\n"
     ]
    },
    {
     "name": "stdout",
     "output_type": "stream",
     "text": [
      "EPOCH : 12 | LOSS : 11.16755602\n"
     ]
    },
    {
     "name": "stderr",
     "output_type": "stream",
     "text": [
      "100%|██████████| 2055/2055 [00:19<00:00, 107.98it/s]\n"
     ]
    },
    {
     "name": "stdout",
     "output_type": "stream",
     "text": [
      "EPOCH : 13 | LOSS : 8.317118321\n"
     ]
    },
    {
     "name": "stderr",
     "output_type": "stream",
     "text": [
      "100%|██████████| 2055/2055 [00:19<00:00, 108.10it/s]\n"
     ]
    },
    {
     "name": "stdout",
     "output_type": "stream",
     "text": [
      "EPOCH : 14 | LOSS : 8.940015897\n"
     ]
    },
    {
     "name": "stderr",
     "output_type": "stream",
     "text": [
      "100%|██████████| 2055/2055 [00:19<00:00, 108.08it/s]\n"
     ]
    },
    {
     "name": "stdout",
     "output_type": "stream",
     "text": [
      "EPOCH : 15 | LOSS : 11.26451899\n"
     ]
    },
    {
     "name": "stderr",
     "output_type": "stream",
     "text": [
      "100%|██████████| 2055/2055 [00:19<00:00, 108.09it/s]\n"
     ]
    },
    {
     "name": "stdout",
     "output_type": "stream",
     "text": [
      "EPOCH : 16 | LOSS : 11.18482602\n"
     ]
    },
    {
     "name": "stderr",
     "output_type": "stream",
     "text": [
      "100%|██████████| 2055/2055 [00:18<00:00, 108.22it/s]\n"
     ]
    },
    {
     "name": "stdout",
     "output_type": "stream",
     "text": [
      "EPOCH : 17 | LOSS : 8.90851371\n"
     ]
    },
    {
     "name": "stderr",
     "output_type": "stream",
     "text": [
      "100%|██████████| 2055/2055 [00:19<00:00, 107.51it/s]\n"
     ]
    },
    {
     "name": "stdout",
     "output_type": "stream",
     "text": [
      "EPOCH : 18 | LOSS : 7.993380213\n"
     ]
    },
    {
     "name": "stderr",
     "output_type": "stream",
     "text": [
      "100%|██████████| 2055/2055 [00:19<00:00, 107.86it/s]"
     ]
    },
    {
     "name": "stdout",
     "output_type": "stream",
     "text": [
      "EPOCH : 19 | LOSS : 8.285846245\n"
     ]
    },
    {
     "name": "stderr",
     "output_type": "stream",
     "text": [
      "\n"
     ]
    }
   ],
   "source": [
    "feat_map = feat_map_vgg\n",
    "\n",
    "vbpr_vgg = VBPR(n_user, n_item, K, D, F, feat_map)\n",
    "optimizer = Adam(params = vbpr_vgg.parameters(), lr=lr)\n",
    "vgg_train_loss = []\n",
    "\n",
    "for i in range(epoch):\n",
    "    vgg_train_loss.append(train(vbpr_vgg, optimizer, train_dataloader, criterion, device))\n",
    "    print(f'EPOCH : {i} | LOSS : {vgg_train_loss[-1]:.10}')"
   ]
  },
  {
   "cell_type": "code",
   "execution_count": 46,
   "metadata": {},
   "outputs": [
    {
     "data": {
      "text/plain": [
       "<matplotlib.legend.Legend at 0x32fc05a80>"
      ]
     },
     "execution_count": 46,
     "metadata": {},
     "output_type": "execute_result"
    },
    {
     "data": {
      "image/png": "[encoded data removed]",
      "text/plain": [
       "<Figure size 640x480 with 1 Axes>"
      ]
     },
     "metadata": {},
     "output_type": "display_data"
    }
   ],
   "source": [
    "import matplotlib.pyplot as plt\n",
    "\n",
    "plt.plot(range(epoch), alex_train_loss, label=\"Alexnet\")\n",
    "plt.plot(range(epoch), res_train_loss, label=\"Resnet\")\n",
    "plt.plot(range(epoch), vgg_train_loss, label=\"VGG\")\n",
    "plt.legend()"
   ]
  },
  {
   "cell_type": "markdown",
   "metadata": {},
   "source": [
    "### change n_factor(k)"
   ]
  },
  {
   "cell_type": "code",
   "execution_count": 50,
   "metadata": {},
   "outputs": [],
   "source": [
    "K = 40\n",
    "# D = 20\n",
    "\n",
    "# reg_theta = 0.1\n",
    "# reg_beta = 0.1\n",
    "# reg_e = 0\n"
   ]
  },
  {
   "cell_type": "code",
   "execution_count": 51,
   "metadata": {},
   "outputs": [
    {
     "name": "stderr",
     "output_type": "stream",
     "text": [
      "100%|██████████| 2055/2055 [00:24<00:00, 84.22it/s]\n"
     ]
    },
    {
     "name": "stdout",
     "output_type": "stream",
     "text": [
      "EPOCH : 0 | LOSS : 28.18210384\n"
     ]
    },
    {
     "name": "stderr",
     "output_type": "stream",
     "text": [
      "100%|██████████| 2055/2055 [00:24<00:00, 82.48it/s]\n"
     ]
    },
    {
     "name": "stdout",
     "output_type": "stream",
     "text": [
      "EPOCH : 1 | LOSS : 7.046804023\n"
     ]
    },
    {
     "name": "stderr",
     "output_type": "stream",
     "text": [
      "100%|██████████| 2055/2055 [00:24<00:00, 84.35it/s]\n"
     ]
    },
    {
     "name": "stdout",
     "output_type": "stream",
     "text": [
      "EPOCH : 2 | LOSS : 4.428007555\n"
     ]
    },
    {
     "name": "stderr",
     "output_type": "stream",
     "text": [
      "100%|██████████| 2055/2055 [00:24<00:00, 84.38it/s]\n"
     ]
    },
    {
     "name": "stdout",
     "output_type": "stream",
     "text": [
      "EPOCH : 3 | LOSS : 7.956360625\n"
     ]
    },
    {
     "name": "stderr",
     "output_type": "stream",
     "text": [
      "100%|██████████| 2055/2055 [00:24<00:00, 82.77it/s]\n"
     ]
    },
    {
     "name": "stdout",
     "output_type": "stream",
     "text": [
      "EPOCH : 4 | LOSS : 2.868613842\n"
     ]
    },
    {
     "name": "stderr",
     "output_type": "stream",
     "text": [
      "100%|██████████| 2055/2055 [00:23<00:00, 86.16it/s]\n"
     ]
    },
    {
     "name": "stdout",
     "output_type": "stream",
     "text": [
      "EPOCH : 5 | LOSS : 2.814103955\n"
     ]
    },
    {
     "name": "stderr",
     "output_type": "stream",
     "text": [
      "100%|██████████| 2055/2055 [00:23<00:00, 86.16it/s]\n"
     ]
    },
    {
     "name": "stdout",
     "output_type": "stream",
     "text": [
      "EPOCH : 6 | LOSS : 8.579558687\n"
     ]
    },
    {
     "name": "stderr",
     "output_type": "stream",
     "text": [
      "100%|██████████| 2055/2055 [00:23<00:00, 86.20it/s]\n"
     ]
    },
    {
     "name": "stdout",
     "output_type": "stream",
     "text": [
      "EPOCH : 7 | LOSS : 2.964048634\n"
     ]
    },
    {
     "name": "stderr",
     "output_type": "stream",
     "text": [
      "100%|██████████| 2055/2055 [00:23<00:00, 86.21it/s]\n"
     ]
    },
    {
     "name": "stdout",
     "output_type": "stream",
     "text": [
      "EPOCH : 8 | LOSS : 3.686908787\n"
     ]
    },
    {
     "name": "stderr",
     "output_type": "stream",
     "text": [
      "100%|██████████| 2055/2055 [00:23<00:00, 86.06it/s]\n"
     ]
    },
    {
     "name": "stdout",
     "output_type": "stream",
     "text": [
      "EPOCH : 9 | LOSS : 2.994235508\n"
     ]
    },
    {
     "name": "stderr",
     "output_type": "stream",
     "text": [
      "100%|██████████| 2055/2055 [00:24<00:00, 84.28it/s]\n"
     ]
    },
    {
     "name": "stdout",
     "output_type": "stream",
     "text": [
      "EPOCH : 10 | LOSS : 2.789032084\n"
     ]
    },
    {
     "name": "stderr",
     "output_type": "stream",
     "text": [
      "100%|██████████| 2055/2055 [00:24<00:00, 84.45it/s]\n"
     ]
    },
    {
     "name": "stdout",
     "output_type": "stream",
     "text": [
      "EPOCH : 11 | LOSS : 3.615923688\n"
     ]
    },
    {
     "name": "stderr",
     "output_type": "stream",
     "text": [
      "100%|██████████| 2055/2055 [00:25<00:00, 79.82it/s]\n"
     ]
    },
    {
     "name": "stdout",
     "output_type": "stream",
     "text": [
      "EPOCH : 12 | LOSS : 6.103832317\n"
     ]
    },
    {
     "name": "stderr",
     "output_type": "stream",
     "text": [
      "100%|██████████| 2055/2055 [00:24<00:00, 83.74it/s]\n"
     ]
    },
    {
     "name": "stdout",
     "output_type": "stream",
     "text": [
      "EPOCH : 13 | LOSS : 2.558734805\n"
     ]
    },
    {
     "name": "stderr",
     "output_type": "stream",
     "text": [
      "100%|██████████| 2055/2055 [00:24<00:00, 83.85it/s]\n"
     ]
    },
    {
     "name": "stdout",
     "output_type": "stream",
     "text": [
      "EPOCH : 14 | LOSS : 2.088150819\n"
     ]
    },
    {
     "name": "stderr",
     "output_type": "stream",
     "text": [
      "100%|██████████| 2055/2055 [00:23<00:00, 85.90it/s]\n"
     ]
    },
    {
     "name": "stdout",
     "output_type": "stream",
     "text": [
      "EPOCH : 15 | LOSS : 1.993634929\n"
     ]
    },
    {
     "name": "stderr",
     "output_type": "stream",
     "text": [
      "100%|██████████| 2055/2055 [00:23<00:00, 86.45it/s]\n"
     ]
    },
    {
     "name": "stdout",
     "output_type": "stream",
     "text": [
      "EPOCH : 16 | LOSS : 3.095410129\n"
     ]
    },
    {
     "name": "stderr",
     "output_type": "stream",
     "text": [
      "100%|██████████| 2055/2055 [00:24<00:00, 84.56it/s]\n"
     ]
    },
    {
     "name": "stdout",
     "output_type": "stream",
     "text": [
      "EPOCH : 17 | LOSS : 2.360050931\n"
     ]
    },
    {
     "name": "stderr",
     "output_type": "stream",
     "text": [
      "100%|██████████| 2055/2055 [00:26<00:00, 78.82it/s]\n"
     ]
    },
    {
     "name": "stdout",
     "output_type": "stream",
     "text": [
      "EPOCH : 18 | LOSS : 2.04970236\n"
     ]
    },
    {
     "name": "stderr",
     "output_type": "stream",
     "text": [
      "100%|██████████| 2055/2055 [00:24<00:00, 84.44it/s]\n"
     ]
    },
    {
     "name": "stdout",
     "output_type": "stream",
     "text": [
      "EPOCH : 19 | LOSS : 2.348759699\n",
      "--------------------------------------------------------------------\n"
     ]
    },
    {
     "name": "stderr",
     "output_type": "stream",
     "text": [
      "100%|██████████| 2055/2055 [00:16<00:00, 125.82it/s]\n"
     ]
    },
    {
     "name": "stdout",
     "output_type": "stream",
     "text": [
      "EPOCH : 0 | LOSS : 10.98272017\n"
     ]
    },
    {
     "name": "stderr",
     "output_type": "stream",
     "text": [
      "100%|██████████| 2055/2055 [00:16<00:00, 126.33it/s]\n"
     ]
    },
    {
     "name": "stdout",
     "output_type": "stream",
     "text": [
      "EPOCH : 1 | LOSS : 0.9296352961\n"
     ]
    },
    {
     "name": "stderr",
     "output_type": "stream",
     "text": [
      "100%|██████████| 2055/2055 [00:16<00:00, 124.65it/s]\n"
     ]
    },
    {
     "name": "stdout",
     "output_type": "stream",
     "text": [
      "EPOCH : 2 | LOSS : 0.7893494078\n"
     ]
    },
    {
     "name": "stderr",
     "output_type": "stream",
     "text": [
      "100%|██████████| 2055/2055 [00:16<00:00, 122.07it/s]\n"
     ]
    },
    {
     "name": "stdout",
     "output_type": "stream",
     "text": [
      "EPOCH : 3 | LOSS : 1.000911919\n"
     ]
    },
    {
     "name": "stderr",
     "output_type": "stream",
     "text": [
      "100%|██████████| 2055/2055 [00:16<00:00, 125.86it/s]\n"
     ]
    },
    {
     "name": "stdout",
     "output_type": "stream",
     "text": [
      "EPOCH : 4 | LOSS : 1.167948515\n"
     ]
    },
    {
     "name": "stderr",
     "output_type": "stream",
     "text": [
      "100%|██████████| 2055/2055 [00:16<00:00, 124.28it/s]\n"
     ]
    },
    {
     "name": "stdout",
     "output_type": "stream",
     "text": [
      "EPOCH : 5 | LOSS : 0.8235874394\n"
     ]
    },
    {
     "name": "stderr",
     "output_type": "stream",
     "text": [
      "100%|██████████| 2055/2055 [00:17<00:00, 120.10it/s]\n"
     ]
    },
    {
     "name": "stdout",
     "output_type": "stream",
     "text": [
      "EPOCH : 6 | LOSS : 0.9123857598\n"
     ]
    },
    {
     "name": "stderr",
     "output_type": "stream",
     "text": [
      "100%|██████████| 2055/2055 [00:16<00:00, 122.40it/s]\n"
     ]
    },
    {
     "name": "stdout",
     "output_type": "stream",
     "text": [
      "EPOCH : 7 | LOSS : 0.7872915809\n"
     ]
    },
    {
     "name": "stderr",
     "output_type": "stream",
     "text": [
      "100%|██████████| 2055/2055 [00:16<00:00, 125.64it/s]\n"
     ]
    },
    {
     "name": "stdout",
     "output_type": "stream",
     "text": [
      "EPOCH : 8 | LOSS : 0.735302651\n"
     ]
    },
    {
     "name": "stderr",
     "output_type": "stream",
     "text": [
      "100%|██████████| 2055/2055 [00:16<00:00, 125.02it/s]\n"
     ]
    },
    {
     "name": "stdout",
     "output_type": "stream",
     "text": [
      "EPOCH : 9 | LOSS : 0.9112764455\n"
     ]
    },
    {
     "name": "stderr",
     "output_type": "stream",
     "text": [
      "100%|██████████| 2055/2055 [00:16<00:00, 126.80it/s]\n"
     ]
    },
    {
     "name": "stdout",
     "output_type": "stream",
     "text": [
      "EPOCH : 10 | LOSS : 0.7521344983\n"
     ]
    },
    {
     "name": "stderr",
     "output_type": "stream",
     "text": [
      "100%|██████████| 2055/2055 [00:16<00:00, 126.94it/s]\n"
     ]
    },
    {
     "name": "stdout",
     "output_type": "stream",
     "text": [
      "EPOCH : 11 | LOSS : 0.6108194673\n"
     ]
    },
    {
     "name": "stderr",
     "output_type": "stream",
     "text": [
      "100%|██████████| 2055/2055 [00:16<00:00, 123.63it/s]\n"
     ]
    },
    {
     "name": "stdout",
     "output_type": "stream",
     "text": [
      "EPOCH : 12 | LOSS : 0.5387842943\n"
     ]
    },
    {
     "name": "stderr",
     "output_type": "stream",
     "text": [
      "100%|██████████| 2055/2055 [00:17<00:00, 120.85it/s]\n"
     ]
    },
    {
     "name": "stdout",
     "output_type": "stream",
     "text": [
      "EPOCH : 13 | LOSS : 0.9015949113\n"
     ]
    },
    {
     "name": "stderr",
     "output_type": "stream",
     "text": [
      "100%|██████████| 2055/2055 [00:17<00:00, 120.64it/s]\n"
     ]
    },
    {
     "name": "stdout",
     "output_type": "stream",
     "text": [
      "EPOCH : 14 | LOSS : 0.4204573612\n"
     ]
    },
    {
     "name": "stderr",
     "output_type": "stream",
     "text": [
      "100%|██████████| 2055/2055 [00:16<00:00, 121.19it/s]\n"
     ]
    },
    {
     "name": "stdout",
     "output_type": "stream",
     "text": [
      "EPOCH : 15 | LOSS : 0.5046210329\n"
     ]
    },
    {
     "name": "stderr",
     "output_type": "stream",
     "text": [
      "100%|██████████| 2055/2055 [00:17<00:00, 116.90it/s]\n"
     ]
    },
    {
     "name": "stdout",
     "output_type": "stream",
     "text": [
      "EPOCH : 16 | LOSS : 0.6513782719\n"
     ]
    },
    {
     "name": "stderr",
     "output_type": "stream",
     "text": [
      "100%|██████████| 2055/2055 [00:17<00:00, 118.09it/s]\n"
     ]
    },
    {
     "name": "stdout",
     "output_type": "stream",
     "text": [
      "EPOCH : 17 | LOSS : 0.4889759619\n"
     ]
    },
    {
     "name": "stderr",
     "output_type": "stream",
     "text": [
      "100%|██████████| 2055/2055 [00:17<00:00, 120.19it/s]\n"
     ]
    },
    {
     "name": "stdout",
     "output_type": "stream",
     "text": [
      "EPOCH : 18 | LOSS : 0.4544509858\n"
     ]
    },
    {
     "name": "stderr",
     "output_type": "stream",
     "text": [
      "100%|██████████| 2055/2055 [00:17<00:00, 118.30it/s]\n"
     ]
    },
    {
     "name": "stdout",
     "output_type": "stream",
     "text": [
      "EPOCH : 19 | LOSS : 0.3908704371\n",
      "--------------------------------------------------------------------\n"
     ]
    },
    {
     "name": "stderr",
     "output_type": "stream",
     "text": [
      "100%|██████████| 2055/2055 [00:23<00:00, 87.44it/s]\n"
     ]
    },
    {
     "name": "stdout",
     "output_type": "stream",
     "text": [
      "EPOCH : 0 | LOSS : 37.55897907\n"
     ]
    },
    {
     "name": "stderr",
     "output_type": "stream",
     "text": [
      "100%|██████████| 2055/2055 [00:23<00:00, 88.82it/s]\n"
     ]
    },
    {
     "name": "stdout",
     "output_type": "stream",
     "text": [
      "EPOCH : 1 | LOSS : 9.016051165\n"
     ]
    },
    {
     "name": "stderr",
     "output_type": "stream",
     "text": [
      "100%|██████████| 2055/2055 [00:23<00:00, 87.98it/s]\n"
     ]
    },
    {
     "name": "stdout",
     "output_type": "stream",
     "text": [
      "EPOCH : 2 | LOSS : 7.779947816\n"
     ]
    },
    {
     "name": "stderr",
     "output_type": "stream",
     "text": [
      "100%|██████████| 2055/2055 [00:23<00:00, 88.83it/s]\n"
     ]
    },
    {
     "name": "stdout",
     "output_type": "stream",
     "text": [
      "EPOCH : 3 | LOSS : 7.482064555\n"
     ]
    },
    {
     "name": "stderr",
     "output_type": "stream",
     "text": [
      "100%|██████████| 2055/2055 [00:23<00:00, 88.72it/s]\n"
     ]
    },
    {
     "name": "stdout",
     "output_type": "stream",
     "text": [
      "EPOCH : 4 | LOSS : 12.10761968\n"
     ]
    },
    {
     "name": "stderr",
     "output_type": "stream",
     "text": [
      "100%|██████████| 2055/2055 [00:23<00:00, 86.40it/s]\n"
     ]
    },
    {
     "name": "stdout",
     "output_type": "stream",
     "text": [
      "EPOCH : 5 | LOSS : 11.40450947\n"
     ]
    },
    {
     "name": "stderr",
     "output_type": "stream",
     "text": [
      "100%|██████████| 2055/2055 [00:24<00:00, 84.03it/s]\n"
     ]
    },
    {
     "name": "stdout",
     "output_type": "stream",
     "text": [
      "EPOCH : 6 | LOSS : 10.24837937\n"
     ]
    },
    {
     "name": "stderr",
     "output_type": "stream",
     "text": [
      "100%|██████████| 2055/2055 [00:25<00:00, 80.52it/s]\n"
     ]
    },
    {
     "name": "stdout",
     "output_type": "stream",
     "text": [
      "EPOCH : 7 | LOSS : 9.116939221\n"
     ]
    },
    {
     "name": "stderr",
     "output_type": "stream",
     "text": [
      "100%|██████████| 2055/2055 [00:23<00:00, 85.76it/s]\n"
     ]
    },
    {
     "name": "stdout",
     "output_type": "stream",
     "text": [
      "EPOCH : 8 | LOSS : 13.39221242\n"
     ]
    },
    {
     "name": "stderr",
     "output_type": "stream",
     "text": [
      "100%|██████████| 2055/2055 [00:23<00:00, 88.43it/s]\n"
     ]
    },
    {
     "name": "stdout",
     "output_type": "stream",
     "text": [
      "EPOCH : 9 | LOSS : 8.56362654\n"
     ]
    },
    {
     "name": "stderr",
     "output_type": "stream",
     "text": [
      "100%|██████████| 2055/2055 [00:23<00:00, 88.55it/s]\n"
     ]
    },
    {
     "name": "stdout",
     "output_type": "stream",
     "text": [
      "EPOCH : 10 | LOSS : 12.17954752\n"
     ]
    },
    {
     "name": "stderr",
     "output_type": "stream",
     "text": [
      "100%|██████████| 2055/2055 [00:23<00:00, 88.59it/s]\n"
     ]
    },
    {
     "name": "stdout",
     "output_type": "stream",
     "text": [
      "EPOCH : 11 | LOSS : 9.938569797\n"
     ]
    },
    {
     "name": "stderr",
     "output_type": "stream",
     "text": [
      "100%|██████████| 2055/2055 [00:23<00:00, 88.34it/s]\n"
     ]
    },
    {
     "name": "stdout",
     "output_type": "stream",
     "text": [
      "EPOCH : 12 | LOSS : 13.55961507\n"
     ]
    },
    {
     "name": "stderr",
     "output_type": "stream",
     "text": [
      "100%|██████████| 2055/2055 [00:23<00:00, 88.53it/s]\n"
     ]
    },
    {
     "name": "stdout",
     "output_type": "stream",
     "text": [
      "EPOCH : 13 | LOSS : 10.46487571\n"
     ]
    },
    {
     "name": "stderr",
     "output_type": "stream",
     "text": [
      "100%|██████████| 2055/2055 [00:23<00:00, 88.50it/s]\n"
     ]
    },
    {
     "name": "stdout",
     "output_type": "stream",
     "text": [
      "EPOCH : 14 | LOSS : 9.530770193\n"
     ]
    },
    {
     "name": "stderr",
     "output_type": "stream",
     "text": [
      "100%|██████████| 2055/2055 [00:23<00:00, 88.23it/s]\n"
     ]
    },
    {
     "name": "stdout",
     "output_type": "stream",
     "text": [
      "EPOCH : 15 | LOSS : 9.012995173\n"
     ]
    },
    {
     "name": "stderr",
     "output_type": "stream",
     "text": [
      "100%|██████████| 2055/2055 [00:23<00:00, 88.55it/s]\n"
     ]
    },
    {
     "name": "stdout",
     "output_type": "stream",
     "text": [
      "EPOCH : 16 | LOSS : 10.63092894\n"
     ]
    },
    {
     "name": "stderr",
     "output_type": "stream",
     "text": [
      "100%|██████████| 2055/2055 [00:23<00:00, 88.35it/s]\n"
     ]
    },
    {
     "name": "stdout",
     "output_type": "stream",
     "text": [
      "EPOCH : 17 | LOSS : 8.406587514\n"
     ]
    },
    {
     "name": "stderr",
     "output_type": "stream",
     "text": [
      "100%|██████████| 2055/2055 [00:23<00:00, 88.52it/s]\n"
     ]
    },
    {
     "name": "stdout",
     "output_type": "stream",
     "text": [
      "EPOCH : 18 | LOSS : 10.70024191\n"
     ]
    },
    {
     "name": "stderr",
     "output_type": "stream",
     "text": [
      "100%|██████████| 2055/2055 [00:23<00:00, 88.67it/s]"
     ]
    },
    {
     "name": "stdout",
     "output_type": "stream",
     "text": [
      "EPOCH : 19 | LOSS : 10.51508709\n"
     ]
    },
    {
     "name": "stderr",
     "output_type": "stream",
     "text": [
      "\n"
     ]
    }
   ],
   "source": [
    "vbpr_alex = VBPR(n_user, n_item, K, D, F, feat_map_alex)\n",
    "optimizer = Adam(params = vbpr_alex.parameters(), lr=lr)\n",
    "alex_train_loss_40 = []\n",
    "\n",
    "for i in range(epoch):\n",
    "    alex_train_loss_40.append(train(vbpr_alex, optimizer, train_dataloader, criterion, device))\n",
    "    print(f'EPOCH : {i} | LOSS : {alex_train_loss_40[-1]:.10}')\n",
    "\n",
    "print(\"--------------------------------------------------------------------\")\n",
    "\n",
    "vbpr_res = VBPR(n_user, n_item, K, D, F_res, feat_map_res)\n",
    "optimizer = Adam(params = vbpr_res.parameters(), lr=lr)\n",
    "res_train_loss_40 = []\n",
    "\n",
    "for i in range(epoch):\n",
    "    res_train_loss_40.append(train(vbpr_res, optimizer, train_dataloader, criterion, device))\n",
    "    print(f'EPOCH : {i} | LOSS : {res_train_loss_40[-1]:.10}')\n",
    "\n",
    "print(\"--------------------------------------------------------------------\")\n",
    "\n",
    "vbpr_vgg = VBPR(n_user, n_item, K, D, F, feat_map_vgg)\n",
    "optimizer = Adam(params = vbpr_vgg.parameters(), lr=lr)\n",
    "vgg_train_loss_40 = []\n",
    "\n",
    "for i in range(epoch):\n",
    "    vgg_train_loss_40.append(train(vbpr_vgg, optimizer, train_dataloader, criterion, device))\n",
    "    print(f'EPOCH : {i} | LOSS : {vgg_train_loss_40[-1]:.10}')"
   ]
  },
  {
   "cell_type": "markdown",
   "metadata": {},
   "source": [
    "### Top K rec test"
   ]
  },
  {
   "cell_type": "code",
   "execution_count": 110,
   "metadata": {},
   "outputs": [],
   "source": [
    "class Recommender:\n",
    "    def __init__(self, model, query_img, train_dataset, n_item, feature_map, device) -> None:\n",
    "        self.model = model\n",
    "        self.train_df = train_dataset.dataset.df\n",
    "        self.all_item = set(range(0,n_item))\n",
    "        self.query_img = query_img\n",
    "        self.feature_map = feature_map\n",
    "        self.device = device\n",
    "\n",
    "    def _get_img_sim(self, itemset:list):\n",
    "        print(\"GET IMG SIM\")\n",
    "        res = []\n",
    "        for item in itemset:\n",
    "            res.append(nn.functional.cosine_similarity(self.query_img, self.feature_map[item.item()]))\n",
    "        return res\n",
    "\n",
    "    def _get_unobs_items(self, user_idx):\n",
    "        obs_item_set = set(self.train_df[self.train_df.user_id==user_idx].isbn)\n",
    "        return list(self.all_item - obs_item_set)\n",
    "\n",
    "    def user_rank(self, user_idx:int, top_k:int=None):\n",
    "        self.model.eval()\n",
    "        unobs_itemset = self._get_unobs_items(user_idx)\n",
    "\n",
    "        with torch.no_grad():\n",
    "            itemset = torch.tensor(unobs_itemset).to(self.device)\n",
    "            user = torch.tensor(np.full(len(itemset), user_idx)).to(self.device)\n",
    "            img_sim = torch.tensor(self._get_img_sim(itemset))\n",
    "\n",
    "            out, _ = self.model.cal_each(user, itemset)\n",
    "            out = out + img_sim\n",
    "            scores = np.array(torch.concat((user.unsqueeze(dim=1),itemset.unsqueeze(dim=1),out.unsqueeze(dim=1)), dim=1))\n",
    "       \n",
    "        sorted_scores = scores[(-scores[:, 2]).argsort()]\n",
    "        return sorted_scores[:top_k]"
   ]
  },
  {
   "cell_type": "code",
   "execution_count": 116,
   "metadata": {},
   "outputs": [],
   "source": [
    "def eval(recommender, test_dataset):\n",
    "    df = test_dataset.dataset.df\n",
    "    user_list = df['user_id'].unique()\n",
    "    res_true = {}\n",
    "    res_topk = {}\n",
    "    res_hit = {}\n",
    "    \n",
    "    for user in tqdm(user_list[:50]):\n",
    "        true_item = df[df.user_id==user].isbn\n",
    "        if len(true_item)>4:\n",
    "            res = recommender.user_rank(user, 20)\n",
    "            topk = res[:,1]\n",
    "            hit = len(set(true_item).intersection(set(topk)))\n",
    "            res_true[user] = list(true_item)\n",
    "            res_topk[user] = list(topk)\n",
    "            res_hit[user] = hit\n",
    "    \n",
    "    return res_true, res_topk, res_hit"
   ]
  },
  {
   "cell_type": "code",
   "execution_count": 117,
   "metadata": {},
   "outputs": [
    {
     "name": "stderr",
     "output_type": "stream",
     "text": [
      "  0%|          | 0/50 [00:00<?, ?it/s]"
     ]
    },
    {
     "name": "stdout",
     "output_type": "stream",
     "text": [
      "GET IMG SIM\n"
     ]
    },
    {
     "name": "stderr",
     "output_type": "stream",
     "text": [
      "  4%|▍         | 2/50 [01:21<32:34, 40.73s/it]"
     ]
    },
    {
     "name": "stdout",
     "output_type": "stream",
     "text": [
      "GET IMG SIM\n"
     ]
    },
    {
     "name": "stderr",
     "output_type": "stream",
     "text": [
      "  6%|▌         | 3/50 [02:42<45:02, 57.51s/it]"
     ]
    },
    {
     "name": "stdout",
     "output_type": "stream",
     "text": [
      "GET IMG SIM\n"
     ]
    },
    {
     "name": "stderr",
     "output_type": "stream",
     "text": [
      " 12%|█▏        | 6/50 [04:03<27:51, 37.99s/it]"
     ]
    },
    {
     "name": "stdout",
     "output_type": "stream",
     "text": [
      "GET IMG SIM\n"
     ]
    },
    {
     "name": "stderr",
     "output_type": "stream",
     "text": [
      " 14%|█▍        | 7/50 [05:24<34:25, 48.04s/it]"
     ]
    },
    {
     "name": "stdout",
     "output_type": "stream",
     "text": [
      "GET IMG SIM\n"
     ]
    },
    {
     "name": "stderr",
     "output_type": "stream",
     "text": [
      " 16%|█▌        | 8/50 [06:45<39:20, 56.20s/it]"
     ]
    },
    {
     "name": "stdout",
     "output_type": "stream",
     "text": [
      "GET IMG SIM\n"
     ]
    },
    {
     "name": "stderr",
     "output_type": "stream",
     "text": [
      " 20%|██        | 10/50 [08:06<33:04, 49.61s/it]"
     ]
    },
    {
     "name": "stdout",
     "output_type": "stream",
     "text": [
      "GET IMG SIM\n"
     ]
    },
    {
     "name": "stderr",
     "output_type": "stream",
     "text": [
      " 26%|██▌       | 13/50 [09:26<23:59, 38.91s/it]"
     ]
    },
    {
     "name": "stdout",
     "output_type": "stream",
     "text": [
      "GET IMG SIM\n"
     ]
    },
    {
     "name": "stderr",
     "output_type": "stream",
     "text": [
      " 30%|███       | 15/50 [10:47<22:59, 39.40s/it]"
     ]
    },
    {
     "name": "stdout",
     "output_type": "stream",
     "text": [
      "GET IMG SIM\n"
     ]
    },
    {
     "name": "stderr",
     "output_type": "stream",
     "text": [
      " 32%|███▏      | 16/50 [12:08<26:35, 46.92s/it]"
     ]
    },
    {
     "name": "stdout",
     "output_type": "stream",
     "text": [
      "GET IMG SIM\n"
     ]
    },
    {
     "name": "stderr",
     "output_type": "stream",
     "text": [
      " 38%|███▊      | 19/50 [13:29<19:44, 38.21s/it]"
     ]
    },
    {
     "name": "stdout",
     "output_type": "stream",
     "text": [
      "GET IMG SIM\n"
     ]
    },
    {
     "name": "stderr",
     "output_type": "stream",
     "text": [
      " 40%|████      | 20/50 [14:50<22:48, 45.61s/it]"
     ]
    },
    {
     "name": "stdout",
     "output_type": "stream",
     "text": [
      "GET IMG SIM\n"
     ]
    },
    {
     "name": "stderr",
     "output_type": "stream",
     "text": [
      " 42%|████▏     | 21/50 [16:11<25:25, 52.61s/it]"
     ]
    },
    {
     "name": "stdout",
     "output_type": "stream",
     "text": [
      "GET IMG SIM\n"
     ]
    },
    {
     "name": "stderr",
     "output_type": "stream",
     "text": [
      " 44%|████▍     | 22/50 [17:32<27:27, 58.82s/it]"
     ]
    },
    {
     "name": "stdout",
     "output_type": "stream",
     "text": [
      "GET IMG SIM\n"
     ]
    },
    {
     "name": "stderr",
     "output_type": "stream",
     "text": [
      " 50%|█████     | 25/50 [18:27<16:18, 39.15s/it]"
     ]
    },
    {
     "name": "stdout",
     "output_type": "stream",
     "text": [
      "GET IMG SIM\n"
     ]
    },
    {
     "name": "stderr",
     "output_type": "stream",
     "text": [
      " 58%|█████▊    | 29/50 [19:14<09:05, 25.99s/it]"
     ]
    },
    {
     "name": "stdout",
     "output_type": "stream",
     "text": [
      "GET IMG SIM\n"
     ]
    },
    {
     "name": "stderr",
     "output_type": "stream",
     "text": [
      " 60%|██████    | 30/50 [20:01<09:42, 29.11s/it]"
     ]
    },
    {
     "name": "stdout",
     "output_type": "stream",
     "text": [
      "GET IMG SIM\n"
     ]
    },
    {
     "name": "stderr",
     "output_type": "stream",
     "text": [
      " 62%|██████▏   | 31/50 [20:49<10:12, 32.22s/it]"
     ]
    },
    {
     "name": "stdout",
     "output_type": "stream",
     "text": [
      "GET IMG SIM\n"
     ]
    },
    {
     "name": "stderr",
     "output_type": "stream",
     "text": [
      " 64%|██████▍   | 32/50 [21:36<10:33, 35.20s/it]"
     ]
    },
    {
     "name": "stdout",
     "output_type": "stream",
     "text": [
      "GET IMG SIM\n"
     ]
    },
    {
     "name": "stderr",
     "output_type": "stream",
     "text": [
      " 68%|██████▊   | 34/50 [22:23<08:15, 30.99s/it]"
     ]
    },
    {
     "name": "stdout",
     "output_type": "stream",
     "text": [
      "GET IMG SIM\n"
     ]
    },
    {
     "name": "stderr",
     "output_type": "stream",
     "text": [
      " 70%|███████   | 35/50 [23:12<08:40, 34.72s/it]"
     ]
    },
    {
     "name": "stdout",
     "output_type": "stream",
     "text": [
      "GET IMG SIM\n"
     ]
    },
    {
     "name": "stderr",
     "output_type": "stream",
     "text": [
      " 78%|███████▊  | 39/50 [24:04<04:13, 23.02s/it]"
     ]
    },
    {
     "name": "stdout",
     "output_type": "stream",
     "text": [
      "GET IMG SIM\n"
     ]
    },
    {
     "name": "stderr",
     "output_type": "stream",
     "text": [
      " 82%|████████▏ | 41/50 [24:55<03:33, 23.74s/it]"
     ]
    },
    {
     "name": "stdout",
     "output_type": "stream",
     "text": [
      "GET IMG SIM\n"
     ]
    },
    {
     "name": "stderr",
     "output_type": "stream",
     "text": [
      " 86%|████████▌ | 43/50 [25:47<02:50, 24.32s/it]"
     ]
    },
    {
     "name": "stdout",
     "output_type": "stream",
     "text": [
      "GET IMG SIM\n"
     ]
    },
    {
     "name": "stderr",
     "output_type": "stream",
     "text": [
      " 90%|█████████ | 45/50 [26:38<02:03, 24.71s/it]"
     ]
    },
    {
     "name": "stdout",
     "output_type": "stream",
     "text": [
      "GET IMG SIM\n"
     ]
    },
    {
     "name": "stderr",
     "output_type": "stream",
     "text": [
      " 94%|█████████▍| 47/50 [27:29<01:14, 24.95s/it]"
     ]
    },
    {
     "name": "stdout",
     "output_type": "stream",
     "text": [
      "GET IMG SIM\n"
     ]
    },
    {
     "name": "stderr",
     "output_type": "stream",
     "text": [
      " 96%|█████████▌| 48/50 [28:20<00:58, 29.44s/it]"
     ]
    },
    {
     "name": "stdout",
     "output_type": "stream",
     "text": [
      "GET IMG SIM\n"
     ]
    },
    {
     "name": "stderr",
     "output_type": "stream",
     "text": [
      " 98%|█████████▊| 49/50 [29:13<00:34, 34.03s/it]"
     ]
    },
    {
     "name": "stdout",
     "output_type": "stream",
     "text": [
      "GET IMG SIM\n"
     ]
    },
    {
     "name": "stderr",
     "output_type": "stream",
     "text": [
      "100%|██████████| 50/50 [30:06<00:00, 36.12s/it]\n"
     ]
    }
   ],
   "source": [
    "query_isbn = \"0440234743\"\n",
    "img = prepare_img(query_isbn)\n",
    "query = model_res(img)\n",
    "# res = img_sim(query, feat_map_vgg)\n",
    "# res\n",
    "recommender = Recommender(vbpr_res, query, train_dataset, n_item, feat_map_res, device)\n",
    "\n",
    "res_true, res_topk, res_hit = eval(recommender, test_dataset)"
   ]
  }
 ],
 "metadata": {
  "kernelspec": {
   "display_name": "sequential",
   "language": "python",
   "name": "python3"
  },
  "language_info": {
   "codemirror_mode": {
    "name": "ipython",
    "version": 3
   },
   "file_extension": ".py",
   "mimetype": "text/x-python",
   "name": "python",
   "nbconvert_exporter": "python",
   "pygments_lexer": "ipython3",
   "version": "3.10.11"
  }
 },
 "nbformat": 4,
 "nbformat_minor": 2
}
